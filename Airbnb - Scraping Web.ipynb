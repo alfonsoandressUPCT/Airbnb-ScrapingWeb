{
 "cells": [
  {
   "cell_type": "markdown",
   "id": "3c60f356",
   "metadata": {},
   "source": [
    "#### **© Alfonso Andrés Giménez Sánchez**. Todos los derechos reservados"
   ]
  },
  {
   "cell_type": "markdown",
   "id": "24aa6ac8",
   "metadata": {},
   "source": [
    "# **AIRBNB. Proyecto de Ciencia de Datos**"
   ]
  },
  {
   "cell_type": "markdown",
   "id": "69835c12",
   "metadata": {},
   "source": [
    "## **1. Implementación de Librerías y Paquetes**"
   ]
  },
  {
   "cell_type": "markdown",
   "id": "73d4cb9f",
   "metadata": {},
   "source": [
    "### **1.1 Web Scraping**"
   ]
  },
  {
   "cell_type": "code",
   "execution_count": null,
   "id": "0890a857",
   "metadata": {},
   "outputs": [],
   "source": [
    "import requests\n",
    "import undetected_chromedriver as uc\n",
    "\n",
    "from bs4 import BeautifulSoup as bs\n",
    "from selenium import webdriver\n",
    "from selenium.webdriver.common.by import By\n",
    "from selenium.webdriver.common.keys import Keys"
   ]
  },
  {
   "cell_type": "markdown",
   "id": "f875293c",
   "metadata": {},
   "source": [
    "### **1.2 Análisis y Manipulación de Datos**"
   ]
  },
  {
   "cell_type": "code",
   "execution_count": null,
   "id": "e612c6b4",
   "metadata": {},
   "outputs": [],
   "source": [
    "import pandas as pd\n",
    "import numpy as np\n",
    "import re\n",
    "\n",
    "from datetime import datetime"
   ]
  },
  {
   "cell_type": "markdown",
   "id": "93834dee",
   "metadata": {},
   "source": [
    "### **1.3 Geolocalización y Visualización en Mapas**"
   ]
  },
  {
   "cell_type": "code",
   "execution_count": null,
   "id": "360c149f",
   "metadata": {},
   "outputs": [],
   "source": [
    "import folium\n",
    "\n",
    "from folium.plugins import MarkerCluster\n",
    "from geopy.geocoders import Nominatim"
   ]
  },
  {
   "cell_type": "markdown",
   "id": "001ae8f9",
   "metadata": {},
   "source": [
    "### **1.4 Traducción**"
   ]
  },
  {
   "cell_type": "code",
   "execution_count": null,
   "id": "4730ec80",
   "metadata": {},
   "outputs": [],
   "source": [
    "from translate import Translator"
   ]
  },
  {
   "cell_type": "markdown",
   "id": "eff1a48b",
   "metadata": {},
   "source": [
    "### **1.5 Visualización de Datos**"
   ]
  },
  {
   "cell_type": "code",
   "execution_count": 117,
   "id": "586bd00a",
   "metadata": {},
   "outputs": [],
   "source": [
    "import matplotlib.pyplot as plt\n",
    "import seaborn as sns"
   ]
  },
  {
   "cell_type": "markdown",
   "id": "c5126a50",
   "metadata": {},
   "source": [
    "### **1.6 Creación de un Agente de Inteligencia Artificial**"
   ]
  },
  {
   "cell_type": "code",
   "execution_count": null,
   "id": "a7af381a",
   "metadata": {},
   "outputs": [],
   "source": [
    "import subprocess\n",
    "\n",
    "from langchain_core.prompts import PromptTemplate\n",
    "from langchain_core.runnables import Runnable\n",
    "from langchain_community.llms import Ollama\n",
    "from PIL import Image"
   ]
  },
  {
   "cell_type": "markdown",
   "id": "7933b181",
   "metadata": {},
   "source": [
    "### **1.7 Otras Utilidades**"
   ]
  },
  {
   "cell_type": "code",
   "execution_count": null,
   "id": "5185e87e",
   "metadata": {},
   "outputs": [],
   "source": [
    "from collections import Counter\n",
    "\n",
    "import warnings\n",
    "import random\n",
    "import time\n",
    "import os\n",
    "import ssl\n",
    "\n",
    "ssl._create_default_https_context = ssl._create_unverified_context"
   ]
  },
  {
   "cell_type": "markdown",
   "id": "30cb824e",
   "metadata": {},
   "source": [
    "## **2 Inicio del Proyecto**"
   ]
  },
  {
   "cell_type": "code",
   "execution_count": null,
   "id": "e60c7db3",
   "metadata": {},
   "outputs": [],
   "source": [
    "print(\"\\nBienvenido a Scraping-Web de Airbnb\")\n",
    "print(\"Comenzamos con el proyecto\\n\")\n",
    "contador_inicio = time.time()\n",
    "print(\"En proceso...\")"
   ]
  },
  {
   "cell_type": "markdown",
   "id": "24232c48",
   "metadata": {},
   "source": [
    "## **3 Extracción de Datos**"
   ]
  },
  {
   "cell_type": "markdown",
   "id": "7d207202",
   "metadata": {},
   "source": [
    "### **3.1 Apertura del Navegador en el Sitio Web**"
   ]
  },
  {
   "cell_type": "code",
   "execution_count": null,
   "id": "3f16a02c",
   "metadata": {},
   "outputs": [],
   "source": [
    "browser = uc.Chrome(headless=False)\n",
    "\n",
    "time.sleep(3)\n",
    "\n",
    "url = 'https://www.airbnb.es'\n",
    "\n",
    "browser.get(url)\n",
    "\n",
    "time.sleep(2)"
   ]
  },
  {
   "cell_type": "markdown",
   "id": "97ff84b7",
   "metadata": {},
   "source": [
    "### **3.2 Eliminación de Mensaje de Cookies**"
   ]
  },
  {
   "cell_type": "code",
   "execution_count": null,
   "id": "be307dfb",
   "metadata": {},
   "outputs": [],
   "source": [
    "cockies_botton = browser.find_element(By.XPATH, \"//button[contains(text(), 'Solo las necesarias')]\")\n",
    "\n",
    "cockies_botton.click()\n",
    "\n",
    "time.sleep(0.5)"
   ]
  },
  {
   "cell_type": "markdown",
   "id": "667cf4c6",
   "metadata": {},
   "source": [
    "### **3.3 Extracción del HTML**"
   ]
  },
  {
   "cell_type": "code",
   "execution_count": null,
   "id": "905715c0",
   "metadata": {},
   "outputs": [],
   "source": [
    "html = browser.page_source\n",
    "\n",
    "soup = bs(html, 'lxml')"
   ]
  },
  {
   "cell_type": "markdown",
   "id": "05f259e9",
   "metadata": {},
   "source": [
    "### **3.4 Lectura de Datos desde el Fichero**"
   ]
  },
  {
   "cell_type": "code",
   "execution_count": null,
   "id": "cd6b7a0f",
   "metadata": {},
   "outputs": [],
   "source": [
    "def cargar_variables(ruta):\n",
    "    variables = {}\n",
    "    with open(ruta, 'r') as f:\n",
    "        for linea in f:\n",
    "            if '=' in linea:\n",
    "                clave, valor = linea.strip().split('=', 1)\n",
    "                clave = clave.strip()\n",
    "                valor = valor.strip()\n",
    "                try:\n",
    "                    valor = eval(valor)\n",
    "                except:\n",
    "                    pass\n",
    "                variables[clave] = valor\n",
    "    return variables\n",
    "\n",
    "variables = cargar_variables('input/input_ejemplo.txt')\n",
    "\n",
    "for clave, valor in variables.items():\n",
    "    globals()[clave] = valor\n",
    "\n",
    "fecha_entrada_objetivo = datetime.strptime(fecha_entrada, \"%d/%m/%Y\")\n",
    "fecha_salida_objetivo = datetime.strptime(fecha_salida, \"%d/%m/%Y\")\n",
    "\n",
    "dia_entrada = str(fecha_entrada[0:2])\n",
    "\n",
    "dia_entrada_nombre = fecha_entrada_objetivo.strftime(\"%A\")\n",
    "\n",
    "mes_entrada = str(fecha_entrada[3:5])\n",
    "\n",
    "mes_entrada_nombre = fecha_entrada_objetivo.strftime(\"%B\")\n",
    "\n",
    "año_entrada = str(fecha_entrada[6:10])\n",
    "\n",
    "dia_salida = str(fecha_salida[0:2])\n",
    "\n",
    "dia_salida_nombre = fecha_salida_objetivo.strftime(\"%A\")\n",
    "\n",
    "mes_salida = str(fecha_salida[3:5])\n",
    "\n",
    "mes_salida_nombre = fecha_salida_objetivo.strftime(\"%B\")\n",
    "\n",
    "año_salida = str(fecha_salida[6:10])\n",
    "\n",
    "fecha_entrada_str = fecha_entrada.replace('/', '-')\n",
    "fecha_salida_str = fecha_salida.replace('/', '-')\n",
    "\n",
    "numero_total_personas = numero_adultos + numero_niños + numero_bebes + numero_mascotas"
   ]
  },
  {
   "cell_type": "markdown",
   "id": "5375380e",
   "metadata": {},
   "source": [
    "### **3.5 Selección del Destino del Viaje**"
   ]
  },
  {
   "cell_type": "code",
   "execution_count": null,
   "id": "86bd8056",
   "metadata": {},
   "outputs": [],
   "source": [
    "Destino = f\"{ciudad}, {pais}\"\n",
    "\n",
    "campo_destino = browser.find_element(By.ID, \"bigsearch-query-location-input\")\n",
    "campo_destino.send_keys(Destino)\n",
    "campo_destino.send_keys(Keys.ENTER)\n",
    "\n",
    "time.sleep(2)"
   ]
  },
  {
   "cell_type": "markdown",
   "id": "53bae213",
   "metadata": {},
   "source": [
    "### **3.6 Selección de Fechas del Viaje**"
   ]
  },
  {
   "cell_type": "code",
   "execution_count": null,
   "id": "9c5a2fe9",
   "metadata": {},
   "outputs": [],
   "source": [
    "translator = Translator(to_lang=\"es\", from_lang=\"en\")\n",
    "\n",
    "mes_entrada_nombre_español = Translator(to_lang=\"es\").translate(mes_entrada_nombre).lower()\n",
    "\n",
    "mes_año = f\"{mes_entrada_nombre_español} {año_entrada}\"\n",
    "\n",
    "mes_actual = browser.find_element(By.XPATH, '//h2[contains(@class, \"h19aqaok\")]').text\n",
    "\n",
    "while mes_actual != mes_año:\n",
    "   \n",
    "    boton_siguiente = browser.find_element(By.XPATH, '//button[@aria-label[contains(.,\"cambiar al mes siguiente\")]]').click()\n",
    "    time.sleep(1)\n",
    "    mes_actual = browser.find_element(By.XPATH, '//h2[contains(@class, \"h19aqaok\")]').text\n",
    "\n",
    "time.sleep(3)\n",
    "\n",
    "tarjeta_fecha_entrada = f\"{dia_entrada}, {dia_entrada_nombre}, {mes_entrada_nombre} {año_entrada}. Disponible. Selecciona este día como fecha de llegada.\" # Texto único del atributo aria-label \n",
    "\n",
    "date_button = browser.find_element(By.XPATH, f\"//button[@aria-label='{tarjeta_fecha_entrada}']\") \n",
    "date_button.click()\n",
    "\n",
    "time.sleep(3)\n",
    "\n",
    "tarjeta_fecha_salida = f\"{dia_salida}, {dia_salida_nombre}, {mes_salida_nombre} {año_salida}. Disponible. Selecciona este día como fecha de salida.\" # Texto único del atributo aria-label \n",
    "\n",
    "date_button = browser.find_element(By.XPATH, f\"//button[@aria-label='{tarjeta_fecha_salida}']\") \n",
    "date_button.click()"
   ]
  },
  {
   "cell_type": "markdown",
   "id": "41148808",
   "metadata": {},
   "source": [
    "### **3.7 Selección de Viajeros del Viaje**"
   ]
  },
  {
   "cell_type": "code",
   "execution_count": null,
   "id": "3a9f521d",
   "metadata": {},
   "outputs": [],
   "source": [
    "viajeros_button = browser.find_element(By.XPATH, \"//div[div[text()='Viajeros']]/div[text()='Añade viajeros']\")\n",
    "viajeros_button.click()\n",
    "\n",
    "for n in range(0, numero_adultos):\n",
    "    increase_adults_button = browser.find_element(By.XPATH, \"//button[@data-testid='stepper-adults-increase-button']\")\n",
    "    increase_adults_button.click()\n",
    "    time.sleep(0.5)\n",
    "\n",
    "for n in range(0, numero_niños):\n",
    "    increase_childrens_button = browser.find_element(By.XPATH, \"//button[@data-testid='stepper-children-increase-button']\")\n",
    "    increase_childrens_button.click()\n",
    "    time.sleep(0.5)\n",
    "\n",
    "for n in range(0, numero_bebes):\n",
    "    increase_babies_button = browser.find_element(By.XPATH, \"//button[@data-testid='stepper-infants-increase-button']\")\n",
    "    increase_babies_button.click()\n",
    "    time.sleep(0.5)\n",
    "\n",
    "for n in range(0, numero_mascotas):\n",
    "    increase_pets_button = browser.find_element(By.XPATH, \"//button[@data-testid='stepper-pets-increase-button']\")\n",
    "    increase_pets_button.click()\n",
    "    time.sleep(0.5)"
   ]
  },
  {
   "cell_type": "markdown",
   "id": "aacbc2a5",
   "metadata": {},
   "source": [
    "### **3.8 Realización de la Búsqueda de Ubicaciones para el Viaje**"
   ]
  },
  {
   "cell_type": "code",
   "execution_count": null,
   "id": "fc69a322",
   "metadata": {},
   "outputs": [],
   "source": [
    "search_button = browser.find_element(By.XPATH, \"//button[@data-testid='structured-search-input-search-button']\")\n",
    "search_button.click()\n",
    "\n",
    "time.sleep(5)"
   ]
  },
  {
   "cell_type": "markdown",
   "id": "6d4d2d7c",
   "metadata": {},
   "source": [
    "### **3.9 Extracción de Datos de los Alojamientos**"
   ]
  },
  {
   "cell_type": "code",
   "execution_count": null,
   "id": "9088334a",
   "metadata": {},
   "outputs": [],
   "source": [
    "data = []\n",
    "\n",
    "for pagina in range(numero_paginas):\n",
    "\n",
    "    url_inicio_alojamientos = browser.current_url\n",
    "\n",
    "    alojamientos = browser.find_elements(By.XPATH, \"//div[@itemprop='itemListElement']\")\n",
    "\n",
    "    links = list()\n",
    "\n",
    "    for url in alojamientos:\n",
    "        try:\n",
    "            url = url.find_element(By.XPATH, \".//meta[@itemprop='url']\").get_attribute(\"content\")\n",
    "            links.append(url)\n",
    "        except Exception as e:\n",
    "            print(\"Error en una tarjeta:\", e)\n",
    "            continue\n",
    "\n",
    "    for link in links:\n",
    "        url = link\n",
    "\n",
    "        if not url.startswith(\"http\"):\n",
    "            url = \"https://\" + url\n",
    "\n",
    "        browser.get(url)\n",
    "        time.sleep(4)\n",
    "\n",
    "        try:\n",
    "            # Cierra el botón del traductor si aparece\n",
    "            traductor_botton = browser.find_element(By.XPATH, \"//button[@aria-label='Cerrar']\")\n",
    "            traductor_botton.click()\n",
    "        except:\n",
    "            pass  # Si no aparece, continúa\n",
    "\n",
    "        time.sleep(2)\n",
    "\n",
    "        try:\n",
    "            nombre = browser.find_element(By.XPATH, \"//h1[contains(@class, 'hpipapi')]\").text\n",
    "        except:\n",
    "            nombre = \"No disponible\"\n",
    "\n",
    "        time.sleep(1)\n",
    "\n",
    "        try:\n",
    "            spans = browser.find_elements(By.XPATH, \"//span[contains(text(),'€')]\")\n",
    "            precios_noche = [s.text for s in spans if \"noche\" in s.text.lower()]\n",
    "            if precios_noche:\n",
    "                precio_noche = precios_noche[0].split(\"€\")[0].strip() + \" €\"\n",
    "            else:\n",
    "                precio_noche = \"No disponible\"\n",
    "        except:\n",
    "            precio_noche = \"No disponible\"\n",
    "\n",
    "        time.sleep(1)\n",
    "\n",
    "        try:\n",
    "            spans_total = browser.find_elements(By.XPATH, \"//span[@class='_j1kt73']\")\n",
    "            precios = [s.text for s in spans_total if \"€\" in s.text]\n",
    "            if precios:\n",
    "                precio_total = precios[0].split(\"€\")[0].replace(\",\", \"\").strip() + \" €\"\n",
    "            else:\n",
    "                precio_total = \"No disponible\"\n",
    "        except:\n",
    "            precio_total = \"No disponible\"\n",
    "\n",
    "        time.sleep(1)\n",
    "\n",
    "        try:\n",
    "            servicios_elements = browser.find_elements(By.CSS_SELECTOR, 'div._19xnuo97 > div > div:first-child')\n",
    "            servicios = \", \".join([s.text for s in servicios_elements if s.text.strip()])\n",
    "        except:\n",
    "            servicios = \"No disponible\"\n",
    "\n",
    "        scroll_pause_time = 0.5  # Tiempo de pausa entre desplazamientos\n",
    "        screen_height = browser.execute_script(\"return window.innerHeight;\")  # Altura de la ventana\n",
    "        scroll_position = 0\n",
    "        while True:\n",
    "            # Desplázate hacia abajo\n",
    "            browser.execute_script(f\"window.scrollTo(0, {scroll_position});\")\n",
    "            scroll_position += screen_height  # Incrementa la posición de desplazamiento\n",
    "            time.sleep(scroll_pause_time)  # Pausa para permitir la carga del contenido\n",
    "\n",
    "            # Verifica si se ha llegado al final de la página\n",
    "            new_scroll_height = browser.execute_script(\"return document.body.scrollHeight;\")\n",
    "            if scroll_position >= new_scroll_height:\n",
    "                break\n",
    "\n",
    "        time.sleep(2)\n",
    "\n",
    "        try:\n",
    "            url_element = browser.find_element(By.XPATH, \"//a[@title='Informar a Google acerca de errores en las imágenes o en el mapa de carreteras']\")\n",
    "            url_coordenadas = url_element.get_attribute(\"href\")\n",
    "\n",
    "            match = re.search(r\"@([-\\d.]+),([-\\d.]+)\", url_coordenadas)\n",
    "\n",
    "            lat = match.group(1)  # Latitud\n",
    "            latitud = float(lat)  # Convertir a float\n",
    "            lon = match.group(2)  # Longitud\n",
    "            longitud = float(lon)  # Convertir a float\n",
    "\n",
    "        except:\n",
    "            latitud = \"No Disponible\"\n",
    "            longitud = \"No Disponible\"\n",
    "\n",
    "        time.sleep(2)\n",
    "\n",
    "        data.append({\n",
    "            'Nombre': nombre,\n",
    "            'Precio por Noche': precio_noche,\n",
    "            'Precio Total': precio_total,\n",
    "            'Servicios': servicios,\n",
    "            'Latitud': latitud,\n",
    "            'Longitud': longitud,\n",
    "            'URL': url\n",
    "        })\n",
    "\n",
    "    browser.get(url_inicio_alojamientos)\n",
    "\n",
    "    time.sleep(2)\n",
    "\n",
    "    scroll_pause_time = 0.5  # Tiempo de pausa entre desplazamientos\n",
    "    screen_height = browser.execute_script(\"return window.innerHeight;\")  # Altura de la ventana\n",
    "    scroll_position = 0\n",
    "\n",
    "    while True:\n",
    "        # Desplázate hacia abajo\n",
    "        browser.execute_script(f\"window.scrollTo(0, {scroll_position});\")\n",
    "        scroll_position += screen_height  # Incrementa la posición de desplazamiento\n",
    "        time.sleep(scroll_pause_time)  # Pausa para permitir la carga del contenido\n",
    "\n",
    "        # Verifica si se ha llegado al final de la página\n",
    "        new_scroll_height = browser.execute_script(\"return document.body.scrollHeight;\")\n",
    "        if scroll_position >= new_scroll_height:\n",
    "            break\n",
    "\n",
    "    time.sleep(2)\n",
    "    \n",
    "    boton_siguiente_pagina = browser.find_element(By.XPATH, '//*[@id=\"site-content\"]/div/div[3]/div/div/div/nav/div/a[5]')\n",
    "    boton_siguiente_pagina.click()\n",
    "    pagina_acutal += 1\n",
    "    \n",
    "    time.sleep(2)"
   ]
  },
  {
   "cell_type": "markdown",
   "id": "98049e18",
   "metadata": {},
   "source": [
    "### **3.10 Cierre del Navegador**"
   ]
  },
  {
   "cell_type": "code",
   "execution_count": null,
   "id": "9d5850eb",
   "metadata": {},
   "outputs": [],
   "source": [
    "browser.close()\n",
    "browser.quit()"
   ]
  },
  {
   "cell_type": "markdown",
   "id": "9e97df60",
   "metadata": {},
   "source": [
    "### **3.11 Creación de Dataframe con Datos Extraídos de cada Alojamiento**"
   ]
  },
  {
   "cell_type": "code",
   "execution_count": null,
   "id": "b0b11097",
   "metadata": {},
   "outputs": [],
   "source": [
    "df = pd.DataFrame(data)"
   ]
  },
  {
   "cell_type": "markdown",
   "id": "d9ad9c58",
   "metadata": {},
   "source": [
    "## **4 Limpieza y Ordenación de Datos**"
   ]
  },
  {
   "cell_type": "markdown",
   "id": "86cae308",
   "metadata": {},
   "source": [
    "### **4.1 Cálculo de Precio por Viajero**"
   ]
  },
  {
   "cell_type": "code",
   "execution_count": null,
   "id": "4f493461",
   "metadata": {},
   "outputs": [],
   "source": [
    "# Limpiar el precio y convertirlo a float\n",
    "def extraer_precio(precio_str):\n",
    "    if isinstance(precio_str, str) and '€' in precio_str:\n",
    "        try:\n",
    "            numero = precio_str.split(' ')[0].replace('.', '').replace(',', '.')\n",
    "            return float(numero)\n",
    "        except ValueError:\n",
    "            return None\n",
    "    return None\n",
    "\n",
    "df['Precio por Noche por Viajero'] = df['Precio por noche'].apply(lambda x: extraer_precio(x) / numero_adultos if extraer_precio(x) is not None else \"No Disponible\")\n",
    "\n",
    "df['Precio Total por Viajero'] = df['Precio total'].apply(lambda x: extraer_precio(x) / numero_adultos if extraer_precio(x) is not None else \"No Disponible\")\n",
    "                                                          \n",
    "df = df[['Nombre', 'Precio por Noche', 'Precio por Noche por Viajero', 'Precio Total', 'Precio total por Viajero', 'Latitud', 'Longitud', 'Servicios', 'URL']]"
   ]
  },
  {
   "cell_type": "markdown",
   "id": "f0a37349",
   "metadata": {},
   "source": [
    "### **4.2 Eliminación de Filas No Disponibles**"
   ]
  },
  {
   "cell_type": "code",
   "execution_count": null,
   "id": "d81d9673",
   "metadata": {},
   "outputs": [],
   "source": [
    "indices = df[df.eq(\"No Disponible\").any(axis=1)].index.tolist()\n",
    "df = df.drop(indices)\n",
    "df = df.reset_index(drop=True)"
   ]
  },
  {
   "cell_type": "markdown",
   "id": "05bfca62",
   "metadata": {},
   "source": [
    "### **4.3 Formateo de Servicios con Viñetas**"
   ]
  },
  {
   "cell_type": "code",
   "execution_count": null,
   "id": "6a9bc369",
   "metadata": {},
   "outputs": [],
   "source": [
    "# Formatear los servicios con viñetas\n",
    "def formatear_servicios(servicios):\n",
    "    if servicios and isinstance(servicios, str):\n",
    "        return \"\\n\".join([f\"- {servicio.strip()}\" for servicio in servicios.split(\",\") if servicio.strip()])\n",
    "    return \"No disponible\"\n",
    "\n",
    "df['Servicios'] = df['Servicios'].apply(formatear_servicios)"
   ]
  },
  {
   "cell_type": "markdown",
   "id": "e9f7b849",
   "metadata": {},
   "source": [
    "### **4.4 Aproximación y Redondeo de Precios**"
   ]
  },
  {
   "cell_type": "code",
   "execution_count": null,
   "id": "d1cc7842",
   "metadata": {},
   "outputs": [],
   "source": [
    "columnas_a_redondear = ['Precio por noche por viajero', 'Precio total por viajero']\n",
    "\n",
    "for columna in columnas_a_redondear:\n",
    "    # Aseguramos que son numéricos\n",
    "    df[columna] = pd.to_numeric(df[columna], errors='coerce')\n",
    "    \n",
    "    # Redondeamos hacia arriba y convertimos a enteros\n",
    "    df[columna] = np.ceil(df[columna]).astype(float)"
   ]
  },
  {
   "cell_type": "markdown",
   "id": "a9366807",
   "metadata": {},
   "source": [
    "### **4.5 Conversión de Datos Económicos a Datos Numéricos**"
   ]
  },
  {
   "cell_type": "code",
   "execution_count": null,
   "id": "4482ef9f",
   "metadata": {},
   "outputs": [],
   "source": [
    "# Función para limpiar y convertir los precios a float\n",
    "def convertir_a_entero(precio):\n",
    "    if isinstance(precio, str):\n",
    "        return int(precio.replace(\"€\", \"\").replace(\".\", \"\").replace(\",\", \".\").strip())\n",
    "    return precio\n",
    "\n",
    "# Aplicar la función a las columnas correspondientes\n",
    "df[\"Precio por noche\"] = df[\"Precio por noche\"].apply(convertir_a_entero)\n",
    "df[\"Precio total\"] = df[\"Precio total\"].apply(convertir_a_entero)\n",
    "df[\"Precio por noche por viajero\"] = pd.to_numeric(df[\"Precio por noche por viajero\"]).astype(int)\n",
    "df[\"Precio total por viajero\"] = pd.to_numeric(df[\"Precio total por viajero\"]).astype(int)"
   ]
  },
  {
   "cell_type": "markdown",
   "id": "8091d4d7",
   "metadata": {},
   "source": [
    "### **4.6 Capitalización de Nombre de los Títulos**"
   ]
  },
  {
   "cell_type": "code",
   "execution_count": null,
   "id": "0a75b8b9",
   "metadata": {},
   "outputs": [],
   "source": [
    "df['Nombre'] = df['Nombre'].str.title()"
   ]
  },
  {
   "cell_type": "markdown",
   "id": "3e3918fd",
   "metadata": {},
   "source": [
    "## **5 Interpretación de Datos**"
   ]
  },
  {
   "cell_type": "markdown",
   "id": "33dcecc7",
   "metadata": {},
   "source": [
    "### **5.1 Análisis Económico**"
   ]
  },
  {
   "cell_type": "markdown",
   "id": "6dfe8918",
   "metadata": {},
   "source": [
    "#### **5.1.1 Medias de los Precios**"
   ]
  },
  {
   "cell_type": "code",
   "execution_count": null,
   "id": "41b4909b",
   "metadata": {},
   "outputs": [],
   "source": [
    "media_precio_noche = df['Precio por noche'].mean()\n",
    "media_precio_noche_viajero = df['Precio por noche por viajero'].mean()\n",
    "media_precio_total = df['Precio total'].mean()\n",
    "media_precio_total_viajero = df['Precio total por viajero'].mean()\n",
    "\n",
    "medias = (\n",
    "    f\"Medias de los Precios de Alojamientos en {ciudad}:\\n\"\n",
    "    f\"----------------------------------------\\n\"\n",
    "    f\"Media del precio por noche: {media_precio_noche:.2f} €\\n\"\n",
    "    f\"Media del precio por noche por viajero: {media_precio_noche_viajero:.2f} €\\n\"\n",
    "    f\"Media del precio total: {media_precio_total:.2f} €\\n\"\n",
    "    f\"Media del precio total por viajero: {media_precio_total_viajero:.2f} €\\n\"\n",
    ")"
   ]
  },
  {
   "cell_type": "markdown",
   "id": "d1b449fc",
   "metadata": {},
   "source": [
    "#### **5.1.2 Medianas de los Precios**"
   ]
  },
  {
   "cell_type": "code",
   "execution_count": null,
   "id": "44bc7a0c",
   "metadata": {},
   "outputs": [],
   "source": [
    "mediana_precio_noche = df['Precio por noche'].median()\n",
    "mediana_precio_noche_viajero = df['Precio por noche por viajero'].median()\n",
    "mediana_precio_total = df['Precio total'].median()\n",
    "mediana_precio_total_viajero = df['Precio total por viajero'].median()\n",
    "\n",
    "medianas = (\n",
    "    f\"Medianas de los Precios de Alojamientos en {ciudad}:\\n\"\n",
    "    f\"----------------------------------------\\n\"\n",
    "    f\"Mediana del precio por noche: {mediana_precio_noche:.2f} €\\n\"\n",
    "    f\"Mediana del precio por noche por viajero: {mediana_precio_noche_viajero:.2f} €\\n\"\n",
    "    f\"Mediana del precio total: {mediana_precio_total:.2f} €\\n\"\n",
    "    f\"Mediana del precio total por viajero: {mediana_precio_total_viajero:.2f} €\\n\"\n",
    ")"
   ]
  },
  {
   "cell_type": "markdown",
   "id": "bc400419",
   "metadata": {},
   "source": [
    "#### **5.1.3 Desviaciones Estándar de los Precios**"
   ]
  },
  {
   "cell_type": "code",
   "execution_count": null,
   "id": "74ba9e6c",
   "metadata": {},
   "outputs": [],
   "source": [
    "desviacion_precio_noche = df['Precio por noche'].std()\n",
    "desviacion_precio_noche_viajero = df['Precio por noche por viajero'].std()\n",
    "desviacion_precio_total = df['Precio total'].std()\n",
    "desviacion_precio_total_viajero = df['Precio total por viajero'].std()\n",
    "\n",
    "desviaciones_tipicas = (\n",
    "    f\"Desviaciones Típicas de los Precios de Alojamientos en {ciudad}:\\n\"\n",
    "    f\"----------------------------------------\\n\"\n",
    "    f\"Desviación estándar del precio por noche: {desviacion_precio_noche:.2f} €\\n\"\n",
    "    f\"Desviación estándar del precio por noche por viajero: {desviacion_precio_noche_viajero:.2f} €\\n\"\n",
    "    f\"Desviación estándar del precio total: {desviacion_precio_total:.2f} €\\n\"\n",
    "    f\"Desviación estándar del precio total por viajero: {desviacion_precio_total_viajero:.2f} €\\n\"\n",
    ")"
   ]
  },
  {
   "cell_type": "markdown",
   "id": "7678bd31",
   "metadata": {},
   "source": [
    "#### **5.1.4 Modas de los Precios**"
   ]
  },
  {
   "cell_type": "code",
   "execution_count": null,
   "id": "d947f2be",
   "metadata": {},
   "outputs": [],
   "source": [
    "moda_precio_noche = df['Precio por noche'].mode()[0]\n",
    "df['Moda Precio por Noche'] = df['Precio por noche'].apply(lambda x: 'X' if x == moda_precio_noche else '')\n",
    "\n",
    "df['Moda Precio por Noche por Viajero'] = df['Precio por noche por viajero'].apply(lambda x: 'X' if x == moda_precio_noche_viajero else '')\n",
    "moda_precio_noche_viajero = df['Precio por noche por viajero'].mode()[0]\n",
    "\n",
    "df['Moda Precio Total'] = df['Precio total'].apply(lambda x: 'X' if x == moda_precio_total else '')\n",
    "moda_precio_total = df['Precio total'].mode()[0]\n",
    "\n",
    "df['Moda Precio Total por Viajero'] = df['Precio total por viajero'].apply(lambda x: 'X' if x == moda_precio_total_viajero else '')\n",
    "moda_precio_total_viajero = df['Precio total por viajero'].mode()[0]"
   ]
  },
  {
   "cell_type": "markdown",
   "id": "9f93128c",
   "metadata": {},
   "source": [
    "#### **5.1.5 Precios Máximos**"
   ]
  },
  {
   "cell_type": "code",
   "execution_count": null,
   "id": "dc138bab",
   "metadata": {},
   "outputs": [],
   "source": [
    "maximo_precio_noche = df['Precio por noche'].max()\n",
    "df['Máximo precio por oche'] = df['Precio por noche'].apply(lambda x: 'X' if x == maximo_precio_noche else '')\n",
    "\n",
    "maximo_precio_noche_viajero = df['Precio por noche por viajero'].max()\n",
    "df['Máximo precio por noche por niajero'] = df['Precio por noche por viajero'].apply(lambda x: 'X' if x == maximo_precio_noche_viajero else '')\n",
    "\n",
    "maximo_precio_total = df['Precio total'].max()\n",
    "df['Máximo precio total'] = df['Precio total'].apply(lambda x: 'X' if x == maximo_precio_total else '')\n",
    "\n",
    "maximo_precio_total_viajero = df['Precio total por viajero'].max()\n",
    "df['Máximo precio total por viajero'] = df['Precio total por viajero'].apply(lambda x: 'X' if x == maximo_precio_total_viajero else '')"
   ]
  },
  {
   "cell_type": "markdown",
   "id": "797fc575",
   "metadata": {},
   "source": [
    "#### **5.1.6 Precios Mínimos**"
   ]
  },
  {
   "cell_type": "code",
   "execution_count": null,
   "id": "0e7f616d",
   "metadata": {},
   "outputs": [],
   "source": [
    "minimo_precio_noche = df['Precio por noche'].min()\n",
    "df['Mínimo Precio por Noche'] = df['Precio por noche'].apply(lambda x: 'X' if x == minimo_precio_noche else '')\n",
    "\n",
    "minimo_precio_noche_viajero = df['Precio por noche por viajero'].min()\n",
    "df['Mínimo Precio por Noche por Viajero'] = df['Precio por noche por viajero'].apply(lambda x: 'X' if x == minimo_precio_noche_viajero else '')\n",
    "\n",
    "minimo_precio_total = df['Precio total'].min()\n",
    "df['Mínimo Precio Total'] = df['Precio total'].apply(lambda x: 'X' if x == minimo_precio_total else '')\n",
    "\n",
    "minimo_precio_total_viajero = df['Precio total por viajero'].min()\n",
    "df['Mínimo Precio Total por Viajero'] = df['Precio total por viajero'].apply(lambda x: 'X' if x == minimo_precio_total_viajero else '')"
   ]
  },
  {
   "cell_type": "markdown",
   "id": "b7dd74b5",
   "metadata": {},
   "source": [
    "#### **5.1.7 Representación Gráfica de Precios**"
   ]
  },
  {
   "cell_type": "markdown",
   "id": "5cdb4498",
   "metadata": {},
   "source": [
    "##### **5.1.7.1 Histogramas**"
   ]
  },
  {
   "cell_type": "code",
   "execution_count": null,
   "id": "759993ea",
   "metadata": {},
   "outputs": [],
   "source": [
    "fig, axes = plt.subplots(2, 2, figsize=(15, 10))\n",
    "\n",
    "# Histograma de Precios por Noche\n",
    "sns.histplot(df['Precio por noche'], bins=20, color='blue', kde=True, ax=axes[0, 0])\n",
    "axes[0, 0].set_title('Histograma de Precios por Noche')\n",
    "axes[0, 0].set_xlabel('Precio por Noche (€)')\n",
    "axes[0, 0].set_ylabel('Frecuencia')\n",
    "\n",
    "# Histograma de Precios por Noche por Viajero\n",
    "sns.histplot(df['Precio por noche por viajero'], bins=20, color='blue', kde=True, ax=axes[0, 1])\n",
    "axes[0, 1].set_title('Histograma de Precios por Noche por Viajero')\n",
    "axes[0, 1].set_xlabel('Precio por Noche por Viajero (€)')\n",
    "axes[0, 1].set_ylabel('Frecuencia')\n",
    "\n",
    "# Histograma de Precios Totales\n",
    "sns.histplot(df['Precio total'], bins=20, color='blue', kde=True, ax=axes[1, 0])\n",
    "axes[1, 0].set_title('Histograma de Precios Totales')\n",
    "axes[1, 0].set_xlabel('Precio Total (€)')\n",
    "axes[1, 0].set_ylabel('Frecuencia')\n",
    "\n",
    "# Histograma de Precios Totales por Viajero\n",
    "sns.histplot(df['Precio total por viajero'], bins=20, color='blue', kde=True, ax=axes[1, 1])\n",
    "axes[1, 1].set_title('Histograma de Precios Totales por Viajero')\n",
    "axes[1, 1].set_xlabel('Precio Total por Viajero (€)')\n",
    "axes[1, 1].set_ylabel('Frecuencia')\n",
    "\n",
    "plt.tight_layout()\n",
    "plt.savefig('output/Análisis Económico/Histograma - Precios.png')\n",
    "plt.close(fig)"
   ]
  },
  {
   "cell_type": "markdown",
   "id": "3afb0ed8",
   "metadata": {},
   "source": [
    "##### **5.1.7.2 Diagramas de Caja**"
   ]
  },
  {
   "cell_type": "code",
   "execution_count": null,
   "id": "176c87d5",
   "metadata": {},
   "outputs": [],
   "source": [
    "fig, axes = plt.subplots(2, 2, figsize=(15, 10))\n",
    "\n",
    "# Diagrama de caja de Precios por Noche\n",
    "sns.boxplot(data=df, y='Precio por noche', ax=axes[0, 0], color='blue')\n",
    "axes[0, 0].set_title('Diagrama de Caja de Precios por Noche')\n",
    "axes[0, 0].set_ylabel('Precio por Noche (€)')\n",
    "\n",
    "# Diagrama de caja de Precios por Noche por Viajero\n",
    "sns.boxplot(data=df, y='Precio por noche por viajero', ax=axes[0, 1], color='blue')\n",
    "axes[0, 1].set_title('Diagrama de Caja de Precios por Noche por Viajero')\n",
    "axes[0, 1].set_ylabel('Precio por Noche por Viajero (€)')\n",
    "\n",
    "# Diagrama de caja de Precios Totales\n",
    "sns.boxplot(data=df, y='Precio total', ax=axes[1, 0], color='blue')\n",
    "axes[1, 0].set_title('Diagrama de Caja de Precios Totales')\n",
    "axes[1, 0].set_ylabel('Precio Total (€)')\n",
    "\n",
    "# Diagrama de caja de Precios Totales por Viajero\n",
    "sns.boxplot(data=df, y='Precio total por viajero', ax=axes[1, 1], color='blue')\n",
    "axes[1, 1].set_title('Diagrama de Caja de Precios Totales por Viajero')\n",
    "axes[1, 1].set_ylabel('Precio Total por Viajero (€)')\n",
    "\n",
    "plt.tight_layout()\n",
    "plt.savefig('output/Análisis Económico/Diagrama Caja - Precios.png')\n",
    "plt.close(fig)"
   ]
  },
  {
   "cell_type": "markdown",
   "id": "7ed20de9",
   "metadata": {},
   "source": [
    "### **5.2 Análisis de Servicios**"
   ]
  },
  {
   "cell_type": "markdown",
   "id": "e77ec57b",
   "metadata": {},
   "source": [
    "#### **5.2.1 Extracción de los Servicios**"
   ]
  },
  {
   "cell_type": "code",
   "execution_count": 119,
   "id": "67ccab81",
   "metadata": {},
   "outputs": [],
   "source": [
    "# Copiamos solo la columna de servicios para trabajar\n",
    "servicios_raw = df['Servicios'].dropna().copy()\n",
    "\n",
    "def extraer_servicios(servicio_str):\n",
    "    lineas = servicio_str.strip().split('\\n')\n",
    "    servicios_ok = []\n",
    "    \n",
    "    for linea in lineas:\n",
    "        linea = linea.strip().lstrip('- ').strip()\n",
    "        if linea.startswith(\"No disponible:\"):\n",
    "            continue\n",
    "        servicios_ok.append(linea)\n",
    "    \n",
    "    return servicios_ok\n",
    "\n",
    "# Aplicamos a cada alojamiento para obtener listas de servicios\n",
    "listas_de_servicios = servicios_raw.apply(extraer_servicios)\n",
    "\n",
    "# Aplanamos todas las listas en una sola\n",
    "todos_los_servicios = [servicio for sublist in listas_de_servicios for servicio in sublist]"
   ]
  },
  {
   "cell_type": "markdown",
   "id": "7f6d38d4",
   "metadata": {},
   "source": [
    "#### **5.2.2 Contamos las Frecuencias de los Servicios**"
   ]
  },
  {
   "cell_type": "code",
   "execution_count": 120,
   "id": "84d33f89",
   "metadata": {},
   "outputs": [],
   "source": [
    "frecuencias_servicios = Counter(todos_los_servicios)"
   ]
  },
  {
   "cell_type": "markdown",
   "id": "597d77ba",
   "metadata": {},
   "source": [
    "#### **5.2.3 Creación de un Dataframe de los Servicios**"
   ]
  },
  {
   "cell_type": "code",
   "execution_count": 121,
   "id": "75b4d7e6",
   "metadata": {},
   "outputs": [],
   "source": [
    "servicios_df = pd.DataFrame(frecuencias_servicios.items(), columns=['Servicio', 'Frecuencia'])\n",
    "servicios_df = servicios_df.sort_values(by='Frecuencia', ascending=False)"
   ]
  },
  {
   "cell_type": "markdown",
   "id": "d7f74f9a",
   "metadata": {},
   "source": [
    "#### **5.2.4 Representación Gráfica de los Servicios**"
   ]
  },
  {
   "cell_type": "code",
   "execution_count": null,
   "id": "fa4a2763",
   "metadata": {},
   "outputs": [],
   "source": [
    "warnings.simplefilter(action='ignore', category=FutureWarning)\n",
    "plt.figure(figsize=(12, 6))\n",
    "sns.barplot(data=servicios_df.head(20), x='Frecuencia', y='Servicio', palette='crest')\n",
    "plt.title(f'Servicios más comunes en los alojamientos de {ciudad}')\n",
    "plt.xlabel('Número de alojamientos que lo ofrecen')\n",
    "plt.ylabel('Servicio')\n",
    "plt.tight_layout()\n",
    "plt.savefig('output/Análisis de Servicios/Frecuencia - Servicios.png')\n",
    "warnings.simplefilter(action='ignore', category=FutureWarning)\n",
    "plt.close()"
   ]
  },
  {
   "cell_type": "markdown",
   "id": "e16d6288",
   "metadata": {},
   "source": [
    "#### **5.2.5 Cálculo del Número de Servicios por Alojamiento**"
   ]
  },
  {
   "cell_type": "code",
   "execution_count": null,
   "id": "4350dcf7",
   "metadata": {},
   "outputs": [],
   "source": [
    "df['Numero de Servicios'] = df['Servicios'].apply(lambda x: len(x.split('\\n')) if isinstance(x, str) else 0)"
   ]
  },
  {
   "cell_type": "markdown",
   "id": "ad60a923",
   "metadata": {},
   "source": [
    "### **5.3 Análisis Geográfico**"
   ]
  },
  {
   "cell_type": "markdown",
   "id": "a7bbe69a",
   "metadata": {},
   "source": [
    "##### **5.3.1 Obtener las Coordenadas de Nuestra Ciudad**"
   ]
  },
  {
   "cell_type": "code",
   "execution_count": null,
   "id": "893096c0",
   "metadata": {},
   "outputs": [],
   "source": [
    "geolocator = Nominatim(user_agent=\"geoapiEjemplo\")\n",
    "\n",
    "location = geolocator.geocode(f\"{ciudad}, {pais}\")\n",
    "\n",
    "latitud_ciudad = location.latitude\n",
    "longitud_ciudad = location.longitude"
   ]
  },
  {
   "cell_type": "markdown",
   "id": "d08e5737",
   "metadata": {},
   "source": [
    "##### **5.3.2 Creación del Mapa**"
   ]
  },
  {
   "cell_type": "code",
   "execution_count": null,
   "id": "f79c90c9",
   "metadata": {},
   "outputs": [],
   "source": [
    "mapa = folium.Map(location=[latitud_ciudad, longitud_ciudad], zoom_start=13)\n",
    "\n",
    "cluster = MarkerCluster().add_to(mapa) # Agrupador de marcadores"
   ]
  },
  {
   "cell_type": "markdown",
   "id": "d29715d3",
   "metadata": {},
   "source": [
    "##### **5.3.3 Añadir Elementos Clasificados al Mapa** "
   ]
  },
  {
   "cell_type": "code",
   "execution_count": null,
   "id": "feefa64e",
   "metadata": {},
   "outputs": [],
   "source": [
    "for _, row in df.iterrows():\n",
    "    tooltip = f\"Nombre: {row['Nombre']} <br> Precio total: {row['Precio total']} € <br> Precio total por viajero: {row['Precio total por viajero']} € <br> Precio por noche: {row['Precio por noche']} € <br> Precio por noche por viajero: {row['Precio por noche por viajero']} €  <br> Número de Servicios: {row['Numero de Servicios']} <br><a href='{row['URL']}' target='_blank'>Ver alojamiento</a>\"\n",
    "    \n",
    "    # Color según precio\n",
    "    if row['Precio por noche'] < 300:\n",
    "        color = 'green'\n",
    "    elif row['Precio por noche'] < 600:\n",
    "        color = 'orange'\n",
    "    else:\n",
    "        color = 'red'\n",
    "\n",
    "    folium.CircleMarker(\n",
    "        location=[row['Latitud'], row['Longitud']],\n",
    "        radius=6,\n",
    "        color=color,\n",
    "        fill=True,\n",
    "        fill_opacity=0.7,\n",
    "        popup=folium.Popup(tooltip, max_width=300)\n",
    "    ).add_to(cluster)"
   ]
  },
  {
   "cell_type": "markdown",
   "id": "237a3ecc",
   "metadata": {},
   "source": [
    "## **6. Exportación de Datos**"
   ]
  },
  {
   "cell_type": "markdown",
   "id": "7c0d618e",
   "metadata": {},
   "source": [
    "### **6.1 Reordenación del Dataframe**"
   ]
  },
  {
   "cell_type": "code",
   "execution_count": null,
   "id": "cee74d27",
   "metadata": {},
   "outputs": [],
   "source": [
    "# Especificar el nuevo orden de las columnas\n",
    "nuevo_orden = [\n",
    "    'Nombre', \n",
    "    'Servicios', 'Numero de Servicios',\n",
    "    'Precio Total', 'Máximo Precio Total', 'Mínimo Precio Total', 'Moda Precio Total', \n",
    "    'Precio Total por Viajero', 'Máximo Precio Total por Viajero', 'Mínimo Precio Total por Viajero', 'Moda Precio Total por Viajero', \n",
    "    'Precio por Noche', 'Máximo Precio por Noche', 'Mínimo Precio por Noche', 'Moda Precio por Noche', \n",
    "    'Precio por Noche por Viajero', 'Máximo Precio por Noche por Viajero', 'Mínimo Precio por Noche por Viajero', 'Moda Precio por Noche por Viajero', \n",
    "    'Latitud', \n",
    "    'Longitud', \n",
    "    'URL'\n",
    "]\n",
    "\n",
    "# Reordenar las columnas\n",
    "df = df[nuevo_orden]"
   ]
  },
  {
   "cell_type": "markdown",
   "id": "a858c7a7",
   "metadata": {},
   "source": [
    "### **6.2 Exportación del CSV**"
   ]
  },
  {
   "cell_type": "code",
   "execution_count": null,
   "id": "de3cc97d",
   "metadata": {},
   "outputs": [],
   "source": [
    "# Asegurarse de que el directorio exista\n",
    "os.makedirs('output', exist_ok=True)\n",
    "\n",
    "# Guardar el archivo\n",
    "df.to_csv(\n",
    "    f'output/Análisis de Datos/Alojamientos. {ciudad}. {numero_total_personas} Personas. {fecha_entrada_str} | {fecha_salida_str}.csv',\n",
    "    index=False,\n",
    "    encoding='utf-8'\n",
    ")"
   ]
  },
  {
   "cell_type": "markdown",
   "id": "af2246cb",
   "metadata": {},
   "source": [
    "### **6.3 Exportación del Fichero de Texto**"
   ]
  },
  {
   "cell_type": "code",
   "execution_count": null,
   "id": "bada55f4",
   "metadata": {},
   "outputs": [],
   "source": [
    "# Asegurarse de que el directorio exista\n",
    "os.makedirs('output', exist_ok=True)\n",
    "\n",
    "# Guardar el contenido en un archivo .txt\n",
    "with open('output/Análisis Económico/Medias_Precios.txt', 'w', encoding='utf-8') as file:\n",
    "    file.write(medias, medianas, desviaciones_tipicas)\n",
    "    file.write(\"\\n\\n\")"
   ]
  },
  {
   "cell_type": "markdown",
   "id": "047f5e15",
   "metadata": {},
   "source": [
    "### **6.4 Exportación del Mapa Interactivo**"
   ]
  },
  {
   "cell_type": "code",
   "execution_count": null,
   "id": "72289801",
   "metadata": {},
   "outputs": [],
   "source": [
    "mapa.save(f'output/Análisis Geográfico/Mapa. {ciudad}. {numero_total_personas} Personas. {fecha_entrada_str} | {fecha_salida_str}.html')"
   ]
  },
  {
   "cell_type": "markdown",
   "id": "05873271",
   "metadata": {},
   "source": [
    "## **7. Creación de un Agente de Inteligencia Artificial para las Conclusiones Finales**"
   ]
  },
  {
   "cell_type": "markdown",
   "id": "a0a1aa81",
   "metadata": {},
   "source": [
    "### **7.1 Función de Lectura del Prompt**"
   ]
  },
  {
   "cell_type": "code",
   "execution_count": null,
   "id": "dfff02d4",
   "metadata": {},
   "outputs": [],
   "source": [
    "def cargar_prompt():\n",
    "    with open('agente IA/input/prompt/prompt.txt', \"r\") as f:\n",
    "        return f.read()"
   ]
  },
  {
   "cell_type": "markdown",
   "id": "d8321bd2",
   "metadata": {},
   "source": [
    "### **7.2 Función de Carga de las Imágenes**"
   ]
  },
  {
   "cell_type": "code",
   "execution_count": null,
   "id": "04346a8f",
   "metadata": {},
   "outputs": [],
   "source": [
    "origen_imagen_economia_1 = \"output/Análisis Económico/Diagrama Caja - Precios.png\"\n",
    "origen_imagen_economia_2 = \"output/Análisis Económico/Histograma - Precios.png\"\n",
    "\n",
    "origen_imagen_servicios = \"output/Análisis de Servicios/Frecuencia - Servicios.png\"\n",
    "\n",
    "destino = \"agente\\ IA/input/images/\""
   ]
  },
  {
   "cell_type": "markdown",
   "id": "06ec7564",
   "metadata": {},
   "source": [
    "## **8. Finalización del Proyecto**"
   ]
  },
  {
   "cell_type": "code",
   "execution_count": null,
   "id": "e9f8dbb3",
   "metadata": {},
   "outputs": [],
   "source": [
    "print(\"\\nEl proceso ha terminado.\")\n",
    "contador_final = time.time()\n",
    "tiempo_total = contador_final - contador_inicio\n",
    "\n",
    "tiempo_total = np.ceil(tiempo_total)\n",
    "\n",
    "minutos = int(tiempo_total // 60)\n",
    "segundos = int(tiempo_total % 60)\n",
    "\n",
    "tiempo = f\"{minutos} minutos y {segundos} segundos\"\n",
    "\n",
    "print(f\"El tiempo transcurrido del proyecto ha sido de: {tiempo}.\")\n",
    "print(\"\\nLos resultados se han guardado en la carpeta 'output'.\")\n",
    "print(\"\\nGracias por usar el programa.\")"
   ]
  }
 ],
 "metadata": {
  "kernelspec": {
   "display_name": "Python 3",
   "language": "python",
   "name": "python3"
  },
  "language_info": {
   "codemirror_mode": {
    "name": "ipython",
    "version": 3
   },
   "file_extension": ".py",
   "mimetype": "text/x-python",
   "name": "python",
   "nbconvert_exporter": "python",
   "pygments_lexer": "ipython3",
   "version": "3.13.1"
  }
 },
 "nbformat": 4,
 "nbformat_minor": 5
}
