{
 "cells": [
  {
   "cell_type": "markdown",
   "id": "3c60f356",
   "metadata": {},
   "source": [
    "#### **© Alfonso Andrés Giménez Sánchez**. Todos los derechos reservados"
   ]
  },
  {
   "cell_type": "markdown",
   "id": "24aa6ac8",
   "metadata": {},
   "source": [
    "# **Web - Scraping. AIRBNB**"
   ]
  },
  {
   "cell_type": "markdown",
   "id": "69835c12",
   "metadata": {},
   "source": [
    "## **Implementación de Librerías y Paquetes**"
   ]
  },
  {
   "cell_type": "code",
   "execution_count": null,
   "id": "5185e87e",
   "metadata": {},
   "outputs": [],
   "source": [
    "import requests\n",
    "from bs4 import BeautifulSoup as bs\n",
    "import random\n",
    "import time\n",
    "import pandas as pd\n",
    "import numpy as np\n",
    "import os\n",
    "import re\n",
    "from datetime import datetime\n",
    "from translate import Translator\n",
    "from selenium import webdriver\n",
    "from selenium.webdriver.common.by import By\n",
    "from selenium.webdriver.common.keys import Keys\n",
    "import undetected_chromedriver as uc\n",
    "\n",
    "import ssl\n",
    "ssl._create_default_https_context = ssl._create_unverified_context"
   ]
  },
  {
   "cell_type": "markdown",
   "id": "30cb824e",
   "metadata": {},
   "source": [
    "## **Inicio del Proyecto**"
   ]
  },
  {
   "cell_type": "code",
   "execution_count": null,
   "id": "e60c7db3",
   "metadata": {},
   "outputs": [],
   "source": [
    "print(\"\\nBienvenido a Scraping-Web de Airbnb\")\n",
    "print(\"Comenzamos con el proyecto\\n\")\n",
    "contador_inicio = time.time()\n",
    "print(\"En proceso...\")"
   ]
  },
  {
   "cell_type": "markdown",
   "id": "7d207202",
   "metadata": {},
   "source": [
    "## **Apertura del Navegador en el Sitio Web**"
   ]
  },
  {
   "cell_type": "code",
   "execution_count": null,
   "id": "3f16a02c",
   "metadata": {},
   "outputs": [],
   "source": [
    "browser = uc.Chrome(headless=False)\n",
    "\n",
    "time.sleep(3)\n",
    "\n",
    "url = 'https://www.airbnb.es'\n",
    "\n",
    "browser.get(url)\n",
    "\n",
    "time.sleep(2)"
   ]
  },
  {
   "cell_type": "markdown",
   "id": "97ff84b7",
   "metadata": {},
   "source": [
    "## **Eliminación de Mensaje de Cookies**"
   ]
  },
  {
   "cell_type": "code",
   "execution_count": null,
   "id": "be307dfb",
   "metadata": {},
   "outputs": [],
   "source": [
    "cockies_botton = browser.find_element(By.XPATH, \"//button[contains(text(), 'Solo las necesarias')]\")\n",
    "\n",
    "cockies_botton.click()\n",
    "\n",
    "time.sleep(0.5)"
   ]
  },
  {
   "cell_type": "markdown",
   "id": "667cf4c6",
   "metadata": {},
   "source": [
    "## **Extracción del HTML**"
   ]
  },
  {
   "cell_type": "code",
   "execution_count": null,
   "id": "905715c0",
   "metadata": {},
   "outputs": [],
   "source": [
    "html = browser.page_source\n",
    "\n",
    "soup = bs(html, 'lxml')"
   ]
  },
  {
   "cell_type": "markdown",
   "id": "05f259e9",
   "metadata": {},
   "source": [
    "## **Lectura de Datos desde el Fichero**"
   ]
  },
  {
   "cell_type": "code",
   "execution_count": null,
   "id": "cd6b7a0f",
   "metadata": {},
   "outputs": [],
   "source": [
    "def cargar_variables(ruta):\n",
    "    variables = {}\n",
    "    with open(ruta, 'r') as f:\n",
    "        for linea in f:\n",
    "            if '=' in linea:\n",
    "                clave, valor = linea.strip().split('=', 1)\n",
    "                clave = clave.strip()\n",
    "                valor = valor.strip()\n",
    "                try:\n",
    "                    valor = eval(valor)\n",
    "                except:\n",
    "                    pass\n",
    "                variables[clave] = valor\n",
    "    return variables\n",
    "\n",
    "variables = cargar_variables('input/input_ejemplo.txt')\n",
    "\n",
    "for clave, valor in variables.items():\n",
    "    globals()[clave] = valor\n",
    "\n",
    "fecha_entrada_objetivo = datetime.strptime(fecha_entrada, \"%d/%m/%Y\")\n",
    "fecha_salida_objetivo = datetime.strptime(fecha_salida, \"%d/%m/%Y\")\n",
    "\n",
    "dia_entrada = str(fecha_entrada[0:2])\n",
    "\n",
    "dia_entrada_nombre = fecha_entrada_objetivo.strftime(\"%A\")\n",
    "\n",
    "mes_entrada = str(fecha_entrada[3:5])\n",
    "\n",
    "mes_entrada_nombre = fecha_entrada_objetivo.strftime(\"%B\")\n",
    "\n",
    "año_entrada = str(fecha_entrada[6:10])\n",
    "\n",
    "dia_salida = str(fecha_salida[0:2])\n",
    "\n",
    "dia_salida_nombre = fecha_salida_objetivo.strftime(\"%A\")\n",
    "\n",
    "mes_salida = str(fecha_salida[3:5])\n",
    "\n",
    "mes_salida_nombre = fecha_salida_objetivo.strftime(\"%B\")\n",
    "\n",
    "año_salida = str(fecha_salida[6:10])"
   ]
  },
  {
   "cell_type": "markdown",
   "id": "5375380e",
   "metadata": {},
   "source": [
    "## **Selección del Destino del Viaje**"
   ]
  },
  {
   "cell_type": "code",
   "execution_count": null,
   "id": "86bd8056",
   "metadata": {},
   "outputs": [],
   "source": [
    "Destino = f\"{ciudad}, {pais}\"\n",
    "\n",
    "campo_destino = browser.find_element(By.ID, \"bigsearch-query-location-input\")\n",
    "campo_destino.send_keys(Destino)\n",
    "campo_destino.send_keys(Keys.ENTER)\n",
    "\n",
    "time.sleep(2)"
   ]
  },
  {
   "cell_type": "markdown",
   "id": "53bae213",
   "metadata": {},
   "source": [
    "## **Selección de Fechas del Viaje**"
   ]
  },
  {
   "cell_type": "code",
   "execution_count": null,
   "id": "9c5a2fe9",
   "metadata": {},
   "outputs": [],
   "source": [
    "translator = Translator(to_lang=\"es\", from_lang=\"en\")\n",
    "\n",
    "mes_entrada_nombre_español = Translator(to_lang=\"es\").translate(mes_entrada_nombre).lower()\n",
    "\n",
    "mes_año = f\"{mes_entrada_nombre_español} {año_entrada}\"\n",
    "\n",
    "mes_actual = browser.find_element(By.XPATH, '//h2[contains(@class, \"h19aqaok\")]').text\n",
    "\n",
    "while mes_actual != mes_año:\n",
    "   \n",
    "    boton_siguiente = browser.find_element(By.XPATH, '//button[@aria-label[contains(.,\"cambiar al mes siguiente\")]]').click()\n",
    "    time.sleep(1)\n",
    "    mes_actual = browser.find_element(By.XPATH, '//h2[contains(@class, \"h19aqaok\")]').text\n",
    "\n",
    "time.sleep(3)\n",
    "\n",
    "tarjeta_fecha_entrada = f\"{dia_entrada}, {dia_entrada_nombre}, {mes_entrada_nombre} {año_entrada}. Disponible. Selecciona este día como fecha de llegada.\" # Texto único del atributo aria-label \n",
    "\n",
    "date_button = browser.find_element(By.XPATH, f\"//button[@aria-label='{tarjeta_fecha_entrada}']\") \n",
    "date_button.click()\n",
    "\n",
    "time.sleep(3)\n",
    "\n",
    "tarjeta_fecha_salida = f\"{dia_salida}, {dia_salida_nombre}, {mes_salida_nombre} {año_salida}. Disponible. Selecciona este día como fecha de salida.\" # Texto único del atributo aria-label \n",
    "\n",
    "date_button = browser.find_element(By.XPATH, f\"//button[@aria-label='{tarjeta_fecha_salida}']\") \n",
    "date_button.click()"
   ]
  },
  {
   "cell_type": "markdown",
   "id": "41148808",
   "metadata": {},
   "source": [
    "## **Selección de Viajeros del Viaje**"
   ]
  },
  {
   "cell_type": "code",
   "execution_count": null,
   "id": "3a9f521d",
   "metadata": {},
   "outputs": [],
   "source": [
    "viajeros_button = browser.find_element(By.XPATH, \"//div[div[text()='Viajeros']]/div[text()='Añade viajeros']\")\n",
    "viajeros_button.click()\n",
    "\n",
    "for n in range(0, numero_adultos):\n",
    "    increase_adults_button = browser.find_element(By.XPATH, \"//button[@data-testid='stepper-adults-increase-button']\")\n",
    "    increase_adults_button.click()\n",
    "    time.sleep(0.5)\n",
    "\n",
    "for n in range(0, numero_niños):\n",
    "    increase_childrens_button = browser.find_element(By.XPATH, \"//button[@data-testid='stepper-children-increase-button']\")\n",
    "    increase_childrens_button.click()\n",
    "    time.sleep(0.5)\n",
    "\n",
    "for n in range(0, numero_bebes):\n",
    "    increase_babies_button = browser.find_element(By.XPATH, \"//button[@data-testid='stepper-infants-increase-button']\")\n",
    "    increase_babies_button.click()\n",
    "    time.sleep(0.5)\n",
    "\n",
    "for n in range(0, numero_mascotas):\n",
    "    increase_pets_button = browser.find_element(By.XPATH, \"//button[@data-testid='stepper-pets-increase-button']\")\n",
    "    increase_pets_button.click()\n",
    "    time.sleep(0.5)"
   ]
  },
  {
   "cell_type": "markdown",
   "id": "aacbc2a5",
   "metadata": {},
   "source": [
    "## **Realización de la Búsqueda de Ubicaciones para el Viaje**"
   ]
  },
  {
   "cell_type": "code",
   "execution_count": null,
   "id": "fc69a322",
   "metadata": {},
   "outputs": [],
   "source": [
    "search_button = browser.find_element(By.XPATH, \"//button[@data-testid='structured-search-input-search-button']\")\n",
    "search_button.click()\n",
    "\n",
    "time.sleep(5)"
   ]
  },
  {
   "cell_type": "markdown",
   "id": "6d4d2d7c",
   "metadata": {},
   "source": [
    "## **Extracción de Datos de los Alojamientos**"
   ]
  },
  {
   "cell_type": "code",
   "execution_count": null,
   "id": "9088334a",
   "metadata": {},
   "outputs": [],
   "source": [
    "data = []\n",
    "\n",
    "for pagina in range(numero_paginas):\n",
    "\n",
    "    url_inicio_alojamientos = browser.current_url\n",
    "\n",
    "    alojamientos = browser.find_elements(By.XPATH, \"//div[@itemprop='itemListElement']\")\n",
    "\n",
    "    links = list()\n",
    "\n",
    "    for url in alojamientos:\n",
    "        try:\n",
    "            url = url.find_element(By.XPATH, \".//meta[@itemprop='url']\").get_attribute(\"content\")\n",
    "            links.append(url)\n",
    "        except Exception as e:\n",
    "            print(\"Error en una tarjeta:\", e)\n",
    "            continue\n",
    "\n",
    "    for link in links:\n",
    "        url = link\n",
    "\n",
    "        if not url.startswith(\"http\"):\n",
    "            url = \"https://\" + url\n",
    "\n",
    "        browser.get(url)\n",
    "        time.sleep(4)\n",
    "\n",
    "        try:\n",
    "            # Cierra el botón del traductor si aparece\n",
    "            traductor_botton = browser.find_element(By.XPATH, \"//button[@aria-label='Cerrar']\")\n",
    "            traductor_botton.click()\n",
    "        except:\n",
    "            pass  # Si no aparece, continúa\n",
    "\n",
    "        time.sleep(2)\n",
    "\n",
    "        try:\n",
    "            nombre = browser.find_element(By.XPATH, \"//h1[contains(@class, 'hpipapi')]\").text\n",
    "        except:\n",
    "            nombre = \"No disponible\"\n",
    "\n",
    "        time.sleep(1)\n",
    "\n",
    "        try:\n",
    "            spans = browser.find_elements(By.XPATH, \"//span[contains(text(),'€')]\")\n",
    "            precios_noche = [s.text for s in spans if \"noche\" in s.text.lower()]\n",
    "            if precios_noche:\n",
    "                precio_noche = precios_noche[0].split(\"€\")[0].strip() + \" €\"\n",
    "            else:\n",
    "                precio_noche = \"No disponible\"\n",
    "        except:\n",
    "            precio_noche = \"No disponible\"\n",
    "\n",
    "        time.sleep(1)\n",
    "\n",
    "        try:\n",
    "            spans_total = browser.find_elements(By.XPATH, \"//span[@class='_j1kt73']\")\n",
    "            precios = [s.text for s in spans_total if \"€\" in s.text]\n",
    "            if precios:\n",
    "                precio_total = precios[0].split(\"€\")[0].replace(\",\", \"\").strip() + \" €\"\n",
    "            else:\n",
    "                precio_total = \"No disponible\"\n",
    "        except:\n",
    "            precio_total = \"No disponible\"\n",
    "\n",
    "        time.sleep(1)\n",
    "\n",
    "        try:\n",
    "            servicios_elements = browser.find_elements(By.CSS_SELECTOR, 'div._19xnuo97 > div > div:first-child')\n",
    "            servicios = \", \".join([s.text for s in servicios_elements if s.text.strip()])\n",
    "        except:\n",
    "            servicios = \"No disponible\"\n",
    "\n",
    "        scroll_pause_time = 0.5  # Tiempo de pausa entre desplazamientos\n",
    "        screen_height = browser.execute_script(\"return window.innerHeight;\")  # Altura de la ventana\n",
    "        scroll_position = 0\n",
    "        while True:\n",
    "            # Desplázate hacia abajo\n",
    "            browser.execute_script(f\"window.scrollTo(0, {scroll_position});\")\n",
    "            scroll_position += screen_height  # Incrementa la posición de desplazamiento\n",
    "            time.sleep(scroll_pause_time)  # Pausa para permitir la carga del contenido\n",
    "\n",
    "            # Verifica si se ha llegado al final de la página\n",
    "            new_scroll_height = browser.execute_script(\"return document.body.scrollHeight;\")\n",
    "            if scroll_position >= new_scroll_height:\n",
    "                break\n",
    "\n",
    "        time.sleep(2)\n",
    "\n",
    "        try:\n",
    "            url_element = browser.find_element(By.XPATH, \"//a[@title='Informar a Google acerca de errores en las imágenes o en el mapa de carreteras']\")\n",
    "            url_coordenadas = url_element.get_attribute(\"href\")\n",
    "\n",
    "            match = re.search(r\"@([-\\d.]+),([-\\d.]+)\", url_coordenadas)\n",
    "\n",
    "            lat = match.group(1)  # Latitud\n",
    "            latitud = float(lat)  # Convertir a float\n",
    "            lon = match.group(2)  # Longitud\n",
    "            longitud = float(lon)  # Convertir a float\n",
    "\n",
    "        except:\n",
    "            latitud = \"No Disponible\"\n",
    "            longitud = \"No Disponible\"\n",
    "\n",
    "        time.sleep(2)\n",
    "\n",
    "        data.append({\n",
    "            'Nombre': nombre,\n",
    "            'Precio por noche': precio_noche,\n",
    "            'Precio total': precio_total,\n",
    "            'Servicios': servicios,\n",
    "            'Latitud': latitud,\n",
    "            'Longitud': longitud,\n",
    "            'URL': url\n",
    "        })\n",
    "\n",
    "    browser.get(url_inicio_alojamientos)\n",
    "\n",
    "    time.sleep(2)\n",
    "\n",
    "    scroll_pause_time = 0.5  # Tiempo de pausa entre desplazamientos\n",
    "    screen_height = browser.execute_script(\"return window.innerHeight;\")  # Altura de la ventana\n",
    "    scroll_position = 0\n",
    "\n",
    "    while True:\n",
    "        # Desplázate hacia abajo\n",
    "        browser.execute_script(f\"window.scrollTo(0, {scroll_position});\")\n",
    "        scroll_position += screen_height  # Incrementa la posición de desplazamiento\n",
    "        time.sleep(scroll_pause_time)  # Pausa para permitir la carga del contenido\n",
    "\n",
    "        # Verifica si se ha llegado al final de la página\n",
    "        new_scroll_height = browser.execute_script(\"return document.body.scrollHeight;\")\n",
    "        if scroll_position >= new_scroll_height:\n",
    "            break\n",
    "\n",
    "    time.sleep(2)\n",
    "    \n",
    "    boton_siguiente_pagina = browser.find_element(By.XPATH, '//*[@id=\"site-content\"]/div/div[3]/div/div/div/nav/div/a[5]')\n",
    "    boton_siguiente_pagina.click()\n",
    "    pagina_acutal += 1\n",
    "    \n",
    "    time.sleep(2)"
   ]
  },
  {
   "cell_type": "markdown",
   "id": "98049e18",
   "metadata": {},
   "source": [
    "## **Cierre del Navegador**"
   ]
  },
  {
   "cell_type": "code",
   "execution_count": null,
   "id": "9d5850eb",
   "metadata": {},
   "outputs": [],
   "source": [
    "browser.close()\n",
    "browser.quit()"
   ]
  },
  {
   "cell_type": "markdown",
   "id": "9e97df60",
   "metadata": {},
   "source": [
    "## **Creación de Dataframe con Datos Extraídos de cada Alojamiento**"
   ]
  },
  {
   "cell_type": "code",
   "execution_count": null,
   "id": "b0b11097",
   "metadata": {},
   "outputs": [],
   "source": [
    "df = pd.DataFrame(data)"
   ]
  },
  {
   "cell_type": "markdown",
   "id": "86cae308",
   "metadata": {},
   "source": [
    "## **Cálculo de Precio por Viajero**"
   ]
  },
  {
   "cell_type": "code",
   "execution_count": null,
   "id": "4f493461",
   "metadata": {},
   "outputs": [],
   "source": [
    "# Limpiar el precio y convertirlo a float\n",
    "def extraer_precio(precio_str):\n",
    "    if isinstance(precio_str, str) and '€' in precio_str:\n",
    "        try:\n",
    "            numero = precio_str.split(' ')[0].replace('.', '').replace(',', '.')\n",
    "            return float(numero)\n",
    "        except ValueError:\n",
    "            return None\n",
    "    return None\n",
    "\n",
    "df['Precio por noche por viajero'] = df['Precio por noche'].apply(lambda x: extraer_precio(x) / numero_adultos if extraer_precio(x) is not None else \"No Disponible\")\n",
    "\n",
    "df['Precio total por viajero'] = df['Precio total'].apply(lambda x: extraer_precio(x) / numero_adultos if extraer_precio(x) is not None else \"No Disponible\")\n",
    "                                                          \n",
    "df = df[['Nombre', 'Precio por noche', 'Precio por noche por viajero', 'Precio total', 'Precio total por viajero', 'Latitud', 'Longitud', 'Servicios', 'URL']]"
   ]
  },
  {
   "cell_type": "markdown",
   "id": "d9ad9c58",
   "metadata": {},
   "source": [
    "## **Limpieza y Ordenación de Datos**"
   ]
  },
  {
   "cell_type": "markdown",
   "id": "f0a37349",
   "metadata": {},
   "source": [
    "### **Eliminación de Filas No Disponibles**"
   ]
  },
  {
   "cell_type": "code",
   "execution_count": null,
   "id": "d81d9673",
   "metadata": {},
   "outputs": [],
   "source": [
    "indices = df[df.eq(\"No Disponible\").any(axis=1)].index.tolist()\n",
    "df = df.drop(indices)\n",
    "df = df.reset_index(drop=True)"
   ]
  },
  {
   "cell_type": "markdown",
   "id": "05bfca62",
   "metadata": {},
   "source": [
    "### **Formateo de Servicios con Viñetas**"
   ]
  },
  {
   "cell_type": "code",
   "execution_count": null,
   "id": "6a9bc369",
   "metadata": {},
   "outputs": [],
   "source": [
    "# Formatear los servicios con viñetas\n",
    "def formatear_servicios(servicios):\n",
    "    if servicios and isinstance(servicios, str):\n",
    "        return \"\\n\".join([f\"- {servicio.strip()}\" for servicio in servicios.split(\",\") if servicio.strip()])\n",
    "    return \"No disponible\"\n",
    "\n",
    "df['Servicios'] = df['Servicios'].apply(formatear_servicios)"
   ]
  },
  {
   "cell_type": "markdown",
   "id": "e9f7b849",
   "metadata": {},
   "source": [
    "### **Aproximación y Redondeo de Precios**"
   ]
  },
  {
   "cell_type": "code",
   "execution_count": null,
   "id": "d1cc7842",
   "metadata": {},
   "outputs": [],
   "source": [
    "columnas_a_redondear = ['Precio por noche por viajero', 'Precio total por viajero']\n",
    "\n",
    "for columna in columnas_a_redondear:\n",
    "    # Aseguramos que son numéricos\n",
    "    df[columna] = pd.to_numeric(df[columna], errors='coerce')\n",
    "    \n",
    "    # Redondeamos hacia arriba y convertimos a enteros\n",
    "    df[columna] = np.ceil(df[columna]).astype(float)"
   ]
  },
  {
   "cell_type": "markdown",
   "id": "a9366807",
   "metadata": {},
   "source": [
    "### **Conversión de Datos Económicos a Datos Numéricos**"
   ]
  },
  {
   "cell_type": "code",
   "execution_count": null,
   "id": "4482ef9f",
   "metadata": {},
   "outputs": [],
   "source": [
    "# Función para limpiar y convertir los precios a float\n",
    "def convertir_a_entero(precio):\n",
    "    if isinstance(precio, str):\n",
    "        return int(precio.replace(\"€\", \"\").replace(\".\", \"\").replace(\",\", \".\").strip())\n",
    "    return precio\n",
    "\n",
    "# Aplicar la función a las columnas correspondientes\n",
    "df[\"Precio por noche\"] = df[\"Precio por noche\"].apply(convertir_a_entero)\n",
    "df[\"Precio total\"] = df[\"Precio total\"].apply(convertir_a_entero)\n",
    "df[\"Precio por noche por viajero\"] = pd.to_numeric(df[\"Precio por noche por viajero\"]).astype(int)\n",
    "df[\"Precio total por viajero\"] = pd.to_numeric(df[\"Precio total por viajero\"]).astype(int)"
   ]
  },
  {
   "cell_type": "markdown",
   "id": "237a3ecc",
   "metadata": {},
   "source": [
    "## **Exportación de Datos a un CSV**"
   ]
  },
  {
   "cell_type": "code",
   "execution_count": null,
   "id": "de3cc97d",
   "metadata": {},
   "outputs": [],
   "source": [
    "# Asegurarse de que el directorio exista\n",
    "os.makedirs('output', exist_ok=True)\n",
    "\n",
    "# Limpiar la fecha para evitar errores con '/'\n",
    "fecha_entrada_str = fecha_entrada.replace('/', '-')\n",
    "fecha_salida_str = fecha_salida.replace('/', '-')\n",
    "numero_total_personas = numero_adultos + numero_niños + numero_bebes + numero_mascotas\n",
    "\n",
    "# Guardar el archivo\n",
    "df.to_csv(\n",
    "    f'output/Alojamientos. {ciudad}. {numero_total_personas} Personas. {fecha_entrada_str} | {fecha_salida_str}.csv',\n",
    "    index=False,\n",
    "    encoding='utf-8'\n",
    ")"
   ]
  },
  {
   "cell_type": "markdown",
   "id": "06ec7564",
   "metadata": {},
   "source": [
    "## **Finalización del Proyecto**"
   ]
  },
  {
   "cell_type": "code",
   "execution_count": null,
   "id": "e9f8dbb3",
   "metadata": {},
   "outputs": [],
   "source": [
    "print(\"\\nEl proceso ha terminado.\")\n",
    "contador_final = time.time()\n",
    "tiempo_total = contador_final - contador_inicio\n",
    "\n",
    "tiempo_total = np.ceil(tiempo_total)\n",
    "\n",
    "minutos = int(tiempo_total // 60)\n",
    "segundos = int(tiempo_total % 60)\n",
    "\n",
    "tiempo = f\"{minutos} minutos y {segundos} segundos\"\n",
    "\n",
    "print(f\"El tiempo transcurrido del proyecto ha sido de: {tiempo}.\")\n",
    "print(\"El archivo CSV se ha guardado en la carpeta 'output'.\")\n",
    "print(\"\\nGracias por usar el programa.\")"
   ]
  }
 ],
 "metadata": {
  "kernelspec": {
   "display_name": "Python 3",
   "language": "python",
   "name": "python3"
  },
  "language_info": {
   "codemirror_mode": {
    "name": "ipython",
    "version": 3
   },
   "file_extension": ".py",
   "mimetype": "text/x-python",
   "name": "python",
   "nbconvert_exporter": "python",
   "pygments_lexer": "ipython3",
   "version": "3.13.1"
  }
 },
 "nbformat": 4,
 "nbformat_minor": 5
}
