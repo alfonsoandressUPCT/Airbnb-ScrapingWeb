{
 "cells": [
  {
   "cell_type": "markdown",
   "id": "3c60f356",
   "metadata": {},
   "source": [
    "#### **© Alfonso Andrés Giménez Sánchez**. Todos los derechos reservados"
   ]
  },
  {
   "cell_type": "markdown",
   "id": "24aa6ac8",
   "metadata": {},
   "source": [
    "# **Web - Scraping. AIRBNB**"
   ]
  },
  {
   "cell_type": "markdown",
   "id": "69835c12",
   "metadata": {},
   "source": [
    "## **Implementación de Librerías y Paquetes**"
   ]
  },
  {
   "cell_type": "code",
   "execution_count": null,
   "id": "5185e87e",
   "metadata": {},
   "outputs": [],
   "source": [
    "import requests\n",
    "from bs4 import BeautifulSoup as bs\n",
    "import random\n",
    "import time\n",
    "import pandas as pd\n",
    "import numpy as np\n",
    "import os\n",
    "from datetime import datetime\n",
    "from translate import Translator\n",
    "from selenium import webdriver\n",
    "from selenium.webdriver.common.by import By\n",
    "from selenium.webdriver.common.keys import Keys\n",
    "import undetected_chromedriver as uc\n",
    "\n",
    "import ssl\n",
    "ssl._create_default_https_context = ssl._create_unverified_context"
   ]
  },
  {
   "cell_type": "markdown",
   "id": "7d207202",
   "metadata": {},
   "source": [
    "## **Apertura del Navegador en el Sitio Web**"
   ]
  },
  {
   "cell_type": "code",
   "execution_count": null,
   "id": "3f16a02c",
   "metadata": {},
   "outputs": [],
   "source": [
    "browser = uc.Chrome()\n",
    "\n",
    "time.sleep(3)\n",
    "\n",
    "url = 'https://www.airbnb.es'\n",
    "\n",
    "browser.get(url)\n",
    "\n",
    "time.sleep(2)"
   ]
  },
  {
   "cell_type": "markdown",
   "id": "97ff84b7",
   "metadata": {},
   "source": [
    "## **Eliminación de Mensaje de Cookies**"
   ]
  },
  {
   "cell_type": "code",
   "execution_count": null,
   "id": "be307dfb",
   "metadata": {},
   "outputs": [],
   "source": [
    "cockies_botton = browser.find_element(By.XPATH, \"//button[contains(text(), 'Solo las necesarias')]\")\n",
    "\n",
    "cockies_botton.click()\n",
    "\n",
    "time.sleep(0.5)"
   ]
  },
  {
   "cell_type": "markdown",
   "id": "667cf4c6",
   "metadata": {},
   "source": [
    "## **Extracción del HTML**"
   ]
  },
  {
   "cell_type": "code",
   "execution_count": null,
   "id": "905715c0",
   "metadata": {},
   "outputs": [],
   "source": [
    "html = browser.page_source\n",
    "\n",
    "soup = bs(html, 'lxml') \n",
    "\n",
    "soup"
   ]
  },
  {
   "cell_type": "markdown",
   "id": "f346d01b",
   "metadata": {},
   "source": [
    "## **Selección del Datos del Viaje**"
   ]
  },
  {
   "cell_type": "code",
   "execution_count": null,
   "id": "ae84f6c3",
   "metadata": {},
   "outputs": [],
   "source": [
    "print(\"\\n-----Bienvenido a la web scraping de Airbnb-----\")\n",
    "\n",
    "print(\"\\n\\t Introduce el país donde desea viajar\")\n",
    "pais = input('\\t\\nPaís: ').capitalize()\n",
    "\n",
    "print(\"\\n\\t Introduce la ciudad donde desea viajar\")\n",
    "ciudad = input(\"\\t\\nCiudad: \").capitalize()\n",
    "\n",
    "meses = {\n",
    "    \"01\": \"Enero\", \n",
    "    \"02\": \"Febrero\", \n",
    "    \"03\": \"Marzo\", \n",
    "    \"04\": \"Abril\",\n",
    "    \"05\": \"Mayo\", \n",
    "    \"06\": \"Junio\", \n",
    "    \"07\": \"Julio\", \n",
    "    \"08\": \"Agosto\",\n",
    "    \"09\": \"Septiembre\", \n",
    "    \"10\": \"Octubre\", \n",
    "    \"11\": \"Noviembre\", \n",
    "    \"12\": \"Diciembre\"\n",
    "}\n",
    "\n",
    "def definir_fechas():\n",
    "    while True:\n",
    "        try:\n",
    "            fecha_entrada_in = input(\"\\n\\t Introduce la fecha de entrada (dd/mm/aaaa): \")\n",
    "            dia_entrada_semana = str(input(\"\\n\\t¿Qué día de la semana es? (Lunes, Martes, Miércoles, Jueves, Viernes, Sábado, Domingo): \"))\n",
    "            entrada = datetime.strptime(fecha_entrada_in, \"%d/%m/%Y\")\n",
    "            fecha_entrada = fecha_entrada_in.split(\"/\")\n",
    "\n",
    "            dia_entrada = str(fecha_entrada[0])\n",
    "            mes_entrada = str(fecha_entrada[1])\n",
    "            mes_entrada_nombre = meses[mes_entrada].lower()\n",
    "            año_entrada = str(fecha_entrada[2])\n",
    "\n",
    "            fecha_salida_in = input(\"\\n\\t Introduce la fecha de salida (dd/mm/aaaa): \")\n",
    "            dia_salida_semana = str(input(\"\\n\\t¿Qué día de la semana es? (Lunes, Martes, Miércoles, Jueves, Viernes, Sábado, Domingo): \"))\n",
    "            salida = datetime.strptime(fecha_salida_in, \"%d/%m/%Y\")\n",
    "            fecha_salida = fecha_salida_in.split(\"/\")\n",
    "\n",
    "            dia_salida = str(fecha_salida[0])\n",
    "            mes_salida = fecha_salida[1]\n",
    "            mes_salida_nombre = meses[mes_salida].lower()\n",
    "            año_salida = str(fecha_salida[2])\n",
    "\n",
    "            if salida <= entrada:\n",
    "                print(\"❌ La fecha de salida no puede ser anterior o igual a la de entrada. Inténtalo de nuevo.\")\n",
    "            else:\n",
    "                return fecha_entrada_in, fecha_salida_in, dia_entrada, dia_entrada_semana, mes_entrada, mes_entrada_nombre, año_entrada, dia_salida, dia_salida_semana, mes_salida, mes_salida_nombre, año_salida\n",
    "        except ValueError:\n",
    "            print(\"❌ Formato de fecha inválido. Usa el formato dd/mm/aaaa.\")\n",
    "\n",
    "fecha_entrada, fecha_salida, dia_entrada, dia_entrada_semana, mes_entrada, mes_entrada_nombre, año_entrada, dia_salida, dia_salida_semana, mes_salida, mes_salida_nombre, año_salida = definir_fechas()\n",
    "\n",
    "print(\"\\n\\t Introduce el número de adultos\")\n",
    "numero_adultos = int(input(\"\\n\\tAdultos: \"))\n",
    "\n",
    "print(\"\\n\\t Introduce el número de niños\")\n",
    "numero_niños = int(input(\"\\t\\nNiños: \"))\n",
    "\n",
    "print(\"\\n\\t Introduce el número de bebés\")\n",
    "numero_bebes = int(input(\"\\t\\nBebés: \"))\n",
    "\n",
    "print(\"\\n\\t Introduce el número de mascotas\")\n",
    "numero_mascotas = int(input(\"\\t\\nMascotas: \"))\n",
    "\n",
    "time.sleep(5)"
   ]
  },
  {
   "cell_type": "markdown",
   "id": "5375380e",
   "metadata": {},
   "source": [
    "## **Selección del Destino del Viaje**"
   ]
  },
  {
   "cell_type": "code",
   "execution_count": null,
   "id": "86bd8056",
   "metadata": {},
   "outputs": [],
   "source": [
    "Destino = f\"{ciudad}, {pais}\"\n",
    "\n",
    "campo_destino = browser.find_element(By.ID, \"bigsearch-query-location-input\")\n",
    "campo_destino.send_keys(Destino)\n",
    "campo_destino.send_keys(Keys.ENTER)\n",
    "\n",
    "time.sleep(5)"
   ]
  },
  {
   "cell_type": "markdown",
   "id": "53bae213",
   "metadata": {},
   "source": [
    "## **Selección de Fechas del Viaje**"
   ]
  },
  {
   "cell_type": "code",
   "execution_count": null,
   "id": "82135a59",
   "metadata": {},
   "outputs": [],
   "source": [
    "translator = Translator(to_lang=\"en\", from_lang=\"es\")\n",
    "\n",
    "mes_año = f\"{mes_entrada_nombre} {año_entrada}\"\n",
    "\n",
    "mes_actual = browser.find_element(By.XPATH, '//h2[contains(@class, \"h19aqaok\")]').text\n",
    "\n",
    "while mes_actual != mes_año:\n",
    "   \n",
    "    boton_siguiente = browser.find_element(By.XPATH, '//button[@aria-label[contains(.,\"cambiar al mes siguiente\")]]').click()\n",
    "    time.sleep(1)\n",
    "    mes_actual = browser.find_element(By.XPATH, '//h2[contains(@class, \"h19aqaok\")]').text\n",
    "\n",
    "time.sleep(3)\n",
    "\n",
    "dia_entrada_semana_traducido = translator.translate(dia_entrada_semana)\n",
    "mes_entrada_traducido = translator.translate(mes_entrada_nombre)\n",
    "\n",
    "tarjeta_fecha = f\"{dia_entrada}, {dia_entrada_semana_traducido}, {mes_entrada_traducido} {año_entrada}. Disponible. Selecciona este día como fecha de llegada.\" # Texto único del atributo aria-label \n",
    "\n",
    "date_button = browser.find_element(By.XPATH, f\"//button[@aria-label='{tarjeta_fecha}']\") \n",
    "date_button.click()\n",
    "\n",
    "time.sleep(3)\n",
    "\n",
    "dia_salida_semana_traducido = translator.translate(dia_salida_semana)\n",
    "mes_salida_traducido = translator.translate(mes_salida_nombre)\n",
    "\n",
    "tarjeta_fecha = f\"{dia_salida}, {dia_salida_semana_traducido}, {mes_salida_traducido} {año_salida}. Disponible. Selecciona este día como fecha de salida.\" # Texto único del atributo aria-label \n",
    "\n",
    "date_button = browser.find_element(By.XPATH, f\"//button[@aria-label='{tarjeta_fecha}']\") \n",
    "date_button.click()"
   ]
  },
  {
   "cell_type": "markdown",
   "id": "41148808",
   "metadata": {},
   "source": [
    "## **Selección de Viajeros del Viaje**"
   ]
  },
  {
   "cell_type": "code",
   "execution_count": null,
   "id": "3a9f521d",
   "metadata": {},
   "outputs": [],
   "source": [
    "viajeros_button = browser.find_element(By.XPATH, \"//div[div[text()='Viajeros']]/div[text()='Añade viajeros']\")\n",
    "viajeros_button.click()\n",
    "\n",
    "for n in range(0, numero_adultos):\n",
    "    increase_adults_button = browser.find_element(By.XPATH, \"//button[@data-testid='stepper-adults-increase-button']\")\n",
    "    increase_adults_button.click()\n",
    "    time.sleep(0.5)\n",
    "\n",
    "for n in range(0, numero_niños):\n",
    "    increase_childrens_button = browser.find_element(By.XPATH, \"//button[@data-testid='stepper-children-increase-button']\")\n",
    "    increase_childrens_button.click()\n",
    "    time.sleep(0.5)\n",
    "\n",
    "for n in range(0, numero_bebes):\n",
    "    increase_babies_button = browser.find_element(By.XPATH, \"//button[@data-testid='stepper-infants-increase-button']\")\n",
    "    increase_babies_button.click()\n",
    "    time.sleep(0.5)\n",
    "\n",
    "for n in range(0, numero_mascotas):\n",
    "    increase_pets_button = browser.find_element(By.XPATH, \"//button[@data-testid='stepper-pets-increase-button']\")\n",
    "    increase_pets_button.click()\n",
    "    time.sleep(0.5)"
   ]
  },
  {
   "cell_type": "markdown",
   "id": "aacbc2a5",
   "metadata": {},
   "source": [
    "## **Realización de la Búsqueda de Ubicaciones para el Viaje**"
   ]
  },
  {
   "cell_type": "code",
   "execution_count": null,
   "id": "fc69a322",
   "metadata": {},
   "outputs": [],
   "source": [
    "search_button = browser.find_element(By.XPATH, \"//button[@data-testid='structured-search-input-search-button']\")\n",
    "search_button.click()\n",
    "\n",
    "time.sleep(5)"
   ]
  },
  {
   "cell_type": "markdown",
   "id": "69db7a92",
   "metadata": {},
   "source": [
    "## **Obtención de Links de los Alojamientos en una Página**"
   ]
  },
  {
   "cell_type": "code",
   "execution_count": null,
   "id": "bd70c7aa",
   "metadata": {},
   "outputs": [],
   "source": [
    "data = []\n",
    "\n",
    "links = list()\n",
    "\n",
    "alojamientos = browser.find_elements(By.XPATH, \"//div[@itemprop='itemListElement']\")\n",
    "\n",
    "for url in alojamientos:\n",
    "    try:\n",
    "        url = url.find_element(By.XPATH, \".//meta[@itemprop='url']\").get_attribute(\"content\")\n",
    "        links.append(url)\n",
    "    except Exception as e:\n",
    "        print(\"Error en una tarjeta:\", e)\n",
    "        continue"
   ]
  },
  {
   "cell_type": "markdown",
   "id": "6d4d2d7c",
   "metadata": {},
   "source": [
    "## **Extracción de Datos de los Alojamientos de una Página**"
   ]
  },
  {
   "cell_type": "code",
   "execution_count": null,
   "id": "9088334a",
   "metadata": {},
   "outputs": [],
   "source": [
    "for link in links:\n",
    "    url = link\n",
    "\n",
    "    if not url.startswith(\"http\"):\n",
    "        url = \"https://\" + url\n",
    "\n",
    "    browser.get(url)\n",
    "    time.sleep(3)\n",
    "\n",
    "    try:\n",
    "        # Cierra el botón del traductor si aparece\n",
    "        traductor_botton = browser.find_element(By.XPATH, \"//button[@aria-label='Cerrar']\")\n",
    "        traductor_botton.click()\n",
    "    except:\n",
    "        pass  # Si no aparece, continúa\n",
    "\n",
    "    time.sleep(1)\n",
    "\n",
    "    try:\n",
    "        nombre = browser.find_element(By.XPATH, \"//h1[contains(@class, 'hpipapi')]\").text\n",
    "    except:\n",
    "        nombre = url.find_element(By.XPATH, \".//meta[@itemprop='name']\").get_attribute(\"content\")\n",
    "\n",
    "    time.sleep(1)\n",
    "\n",
    "    try:\n",
    "        spans = browser.find_elements(By.XPATH, \"//span[contains(text(),'€')]\")\n",
    "        precios_noche = [s.text for s in spans if \"noche\" in s.text.lower()]\n",
    "        if precios_noche:\n",
    "            precio_noche = precios_noche[0].split(\"€\")[0].strip() + \" €\"\n",
    "        else:\n",
    "            precio_noche = \"No disponible\"\n",
    "    except:\n",
    "        precio_noche = \"No disponible\"\n",
    "\n",
    "    time.sleep(1)\n",
    "\n",
    "    try:\n",
    "        spans_total = browser.find_elements(By.XPATH, \"//span[@class='_j1kt73']\")\n",
    "        precios = [s.text for s in spans_total if \"€\" in s.text]\n",
    "        if precios:\n",
    "            precio_total = precios[0].split(\"€\")[0].replace(\",\", \"\").strip() + \" €\"\n",
    "        else:\n",
    "            precio_total = \"No disponible\"\n",
    "    except:\n",
    "        precio_total = \"No disponible\"\n",
    "\n",
    "    time.sleep(1)\n",
    "\n",
    "    try:\n",
    "        servicios_elements = browser.find_elements(By.CSS_SELECTOR, 'div._19xnuo97 > div > div:first-child')\n",
    "        servicios = \", \".join([s.text for s in servicios_elements if s.text.strip()])\n",
    "    except:\n",
    "        servicios = \"No disponible\"\n",
    "\n",
    "    time.sleep(1)\n",
    "\n",
    "    data.append({\n",
    "        'Nombre': nombre,\n",
    "        'Precio por noche': precio_noche,\n",
    "        'Precio total': precio_total,\n",
    "        'Servicios': servicios,\n",
    "        'URL': url\n",
    "    })"
   ]
  },
  {
   "cell_type": "markdown",
   "id": "9e97df60",
   "metadata": {},
   "source": [
    "## **Creación de Dataframe con Datos Extraídos de cada Alojamiento**"
   ]
  },
  {
   "cell_type": "code",
   "execution_count": null,
   "id": "4f493461",
   "metadata": {},
   "outputs": [],
   "source": [
    "# Convertir el diccionario 'data' a un DataFrame\n",
    "df = pd.DataFrame(data)\n",
    "\n",
    "# Limpiar el precio y convertirlo a float\n",
    "def extraer_precio(precio_str):\n",
    "    if isinstance(precio_str, str) and '€' in precio_str:\n",
    "        try:\n",
    "            numero = precio_str.split(' ')[0].replace('.', '').replace(',', '.')\n",
    "            return float(numero)\n",
    "        except ValueError:\n",
    "            return None\n",
    "    return None\n",
    "\n",
    "df['Precio por noche por viajero'] = df['Precio por noche'].apply(lambda x: extraer_precio(x) / numero_adultos if extraer_precio(x) is not None else \"No Disponible\")\n",
    "\n",
    "df['Precio total por viajero'] = df['Precio total'].apply(lambda x: extraer_precio(x) / numero_adultos if extraer_precio(x) is not None else \"No Disponible\")\n",
    "                                                          \n",
    "df = df[['Nombre', 'Precio por noche', 'Precio por noche por viajero', 'Precio total', 'Precio total por viajero', 'Servicios', 'URL']]\n",
    "\n",
    "# Formatear los servicios con viñetas\n",
    "def formatear_servicios(servicios):\n",
    "    if servicios and isinstance(servicios, str):\n",
    "        return \"\\n\".join([f\"- {servicio.strip()}\" for servicio in servicios.split(\",\") if servicio.strip()])\n",
    "    return \"No disponible\"\n",
    "\n",
    "df['Servicios'] = df['Servicios'].apply(formatear_servicios)"
   ]
  },
  {
   "cell_type": "markdown",
   "id": "237a3ecc",
   "metadata": {},
   "source": [
    "## **Exportación de Datos a un CSV**"
   ]
  },
  {
   "cell_type": "code",
   "execution_count": null,
   "id": "de3cc97d",
   "metadata": {},
   "outputs": [],
   "source": [
    "# Asegurarse de que el directorio exista\n",
    "os.makedirs('output', exist_ok=True)\n",
    "\n",
    "# Limpiar la fecha para evitar errores con '/'\n",
    "fecha_entrada_str = fecha_entrada.replace('/', '-')\n",
    "fecha_salida_str = fecha_salida.replace('/', '-')\n",
    "\n",
    "# Guardar el archivo\n",
    "df.to_csv(\n",
    "    f'output/Alojamientos. {ciudad}. {fecha_entrada_str} - {fecha_salida_str}.csv',\n",
    "    index=False,\n",
    "    encoding='utf-8'\n",
    ")"
   ]
  },
  {
   "cell_type": "markdown",
   "id": "044ffbdb",
   "metadata": {},
   "source": [
    "## **Finalización del Proyecto y Cierre del Navegador**"
   ]
  },
  {
   "cell_type": "code",
   "execution_count": null,
   "id": "9bd5d076",
   "metadata": {},
   "outputs": [],
   "source": [
    "browser.close()\n",
    "browser.quit()"
   ]
  }
 ],
 "metadata": {
  "kernelspec": {
   "display_name": "Python 3",
   "language": "python",
   "name": "python3"
  },
  "language_info": {
   "codemirror_mode": {
    "name": "ipython",
    "version": 3
   },
   "file_extension": ".py",
   "mimetype": "text/x-python",
   "name": "python",
   "nbconvert_exporter": "python",
   "pygments_lexer": "ipython3",
   "version": "3.13.1"
  }
 },
 "nbformat": 4,
 "nbformat_minor": 5
}
