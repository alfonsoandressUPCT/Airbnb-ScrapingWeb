{
 "cells": [
  {
   "cell_type": "markdown",
   "id": "3c60f356",
   "metadata": {},
   "source": [
    "#### **© Alfonso Andrés Giménez Sánchez**. Todos los derechos reservados"
   ]
  },
  {
   "cell_type": "markdown",
   "id": "24aa6ac8",
   "metadata": {},
   "source": [
    "# **AIRBNB - WEB SCRAPING. Proyecto de Ciencia de Datos**"
   ]
  },
  {
   "cell_type": "markdown",
   "id": "69835c12",
   "metadata": {},
   "source": [
    "## **1. Implementación de Librerías y Paquetes**"
   ]
  },
  {
   "cell_type": "markdown",
   "id": "73d4cb9f",
   "metadata": {},
   "source": [
    "### **1.1. Web Scraping**"
   ]
  },
  {
   "cell_type": "code",
   "execution_count": 4,
   "id": "0890a857",
   "metadata": {},
   "outputs": [],
   "source": [
    "import requests\n",
    "import undetected_chromedriver as uc\n",
    "\n",
    "from bs4 import BeautifulSoup as bs\n",
    "from selenium import webdriver\n",
    "from selenium.webdriver.common.by import By\n",
    "from selenium.webdriver.common.keys import Keys"
   ]
  },
  {
   "cell_type": "markdown",
   "id": "f875293c",
   "metadata": {},
   "source": [
    "### **1.2. Análisis y Manipulación de Datos**"
   ]
  },
  {
   "cell_type": "code",
   "execution_count": 7,
   "id": "e612c6b4",
   "metadata": {},
   "outputs": [],
   "source": [
    "import pandas as pd\n",
    "import numpy as np\n",
    "import re\n",
    "\n",
    "from datetime import datetime"
   ]
  },
  {
   "cell_type": "markdown",
   "id": "93834dee",
   "metadata": {},
   "source": [
    "### **1.3. Geolocalización y Visualización en Mapas**"
   ]
  },
  {
   "cell_type": "code",
   "execution_count": 10,
   "id": "360c149f",
   "metadata": {},
   "outputs": [],
   "source": [
    "import folium\n",
    "\n",
    "from folium.plugins import MarkerCluster\n",
    "from geopy.geocoders import Nominatim"
   ]
  },
  {
   "cell_type": "markdown",
   "id": "001ae8f9",
   "metadata": {},
   "source": [
    "### **1.4. Traducción**"
   ]
  },
  {
   "cell_type": "code",
   "execution_count": 13,
   "id": "4730ec80",
   "metadata": {},
   "outputs": [],
   "source": [
    "from translate import Translator"
   ]
  },
  {
   "cell_type": "markdown",
   "id": "eff1a48b",
   "metadata": {},
   "source": [
    "### **1.5. Visualización de Datos**"
   ]
  },
  {
   "cell_type": "code",
   "execution_count": 16,
   "id": "586bd00a",
   "metadata": {},
   "outputs": [],
   "source": [
    "import matplotlib.pyplot as plt\n",
    "import seaborn as sns"
   ]
  },
  {
   "cell_type": "markdown",
   "id": "b25573b3",
   "metadata": {},
   "source": [
    "### **1.6 Ventana Gráfica**"
   ]
  },
  {
   "cell_type": "code",
   "execution_count": null,
   "id": "3a6196dc",
   "metadata": {},
   "outputs": [],
   "source": [
    "import customtkinter as Ctk\n",
    "import tkinter as Tk\n",
    "\n",
    "from tkcalendar import Calendar, DateEntry\n",
    "from datetime import datetime\n",
    "from PIL import Image, ImageTk"
   ]
  },
  {
   "cell_type": "markdown",
   "id": "7933b181",
   "metadata": {},
   "source": [
    "### **1.7. Otras Utilidades**"
   ]
  },
  {
   "cell_type": "code",
   "execution_count": null,
   "id": "5185e87e",
   "metadata": {},
   "outputs": [],
   "source": [
    "from collections import Counter\n",
    "\n",
    "import warnings\n",
    "import random\n",
    "import time\n",
    "import os\n",
    "import ssl\n",
    "import sys\n",
    "import shutil\n",
    "\n",
    "ssl._create_default_https_context = ssl._create_unverified_context"
   ]
  },
  {
   "cell_type": "markdown",
   "id": "39ba750b",
   "metadata": {},
   "source": [
    "## **2. Inicio del Programa**"
   ]
  },
  {
   "cell_type": "markdown",
   "id": "076f7fdc",
   "metadata": {},
   "source": [
    "### **2.1 Función de Inicio de Programa**"
   ]
  },
  {
   "cell_type": "code",
   "execution_count": null,
   "id": "07c6d790",
   "metadata": {},
   "outputs": [],
   "source": [
    "def comenzar_programa():\n",
    "    return "
   ]
  },
  {
   "cell_type": "markdown",
   "id": "66f6ac67",
   "metadata": {},
   "source": [
    "### **2.2 Inicio del Contador**"
   ]
  },
  {
   "cell_type": "code",
   "execution_count": 3,
   "id": "c09df8d2",
   "metadata": {},
   "outputs": [
    {
     "name": "stdout",
     "output_type": "stream",
     "text": [
      "\n",
      "2. Inicio del Contador\n"
     ]
    }
   ],
   "source": [
    "print(\"\\n2. Inicio del Contador\")"
   ]
  },
  {
   "cell_type": "code",
   "execution_count": null,
   "id": "1ec9d39c",
   "metadata": {},
   "outputs": [],
   "source": [
    "contador_inicio = time.time()"
   ]
  },
  {
   "cell_type": "markdown",
   "id": "24232c48",
   "metadata": {},
   "source": [
    "## **3. Extracción de Datos**"
   ]
  },
  {
   "cell_type": "code",
   "execution_count": null,
   "id": "0977bd08",
   "metadata": {},
   "outputs": [
    {
     "name": "stdout",
     "output_type": "stream",
     "text": [
      "\n",
      "3. Extracción de Datos\n"
     ]
    }
   ],
   "source": [
    "def comenzar_programa():\n",
    "    mostrar_mensaje(\"3. Extracción de Datos\")\n",
    "    "
   ]
  },
  {
   "cell_type": "markdown",
   "id": "7d207202",
   "metadata": {},
   "source": [
    "### **3.1. Apertura del Navegador en el Sitio Web**"
   ]
  },
  {
   "cell_type": "code",
   "execution_count": 24,
   "id": "efe17a95",
   "metadata": {},
   "outputs": [
    {
     "name": "stdout",
     "output_type": "stream",
     "text": [
      "\n",
      "\t3.1. Apertura del Navegador en el Sitio Web\n",
      "\n",
      "\t\tProceso iniciado\n"
     ]
    }
   ],
   "source": [
    "print(\"\\n\\t3.1. Apertura del Navegador en el Sitio Web\")\n",
    "print(\"\\n\\t\\tProceso iniciado\")"
   ]
  },
  {
   "cell_type": "code",
   "execution_count": 25,
   "id": "3f16a02c",
   "metadata": {},
   "outputs": [],
   "source": [
    "browser = uc.Chrome(headless=False)\n",
    "\n",
    "time.sleep(3)\n",
    "\n",
    "url = 'https://www.airbnb.es'\n",
    "\n",
    "browser.get(url)\n",
    "\n",
    "time.sleep(3)"
   ]
  },
  {
   "cell_type": "code",
   "execution_count": 26,
   "id": "d48578b8",
   "metadata": {},
   "outputs": [
    {
     "name": "stdout",
     "output_type": "stream",
     "text": [
      "\n",
      "\t\tProceso finalizado\n"
     ]
    }
   ],
   "source": [
    "print(\"\\n\\t\\tProceso finalizado\")"
   ]
  },
  {
   "cell_type": "markdown",
   "id": "97ff84b7",
   "metadata": {},
   "source": [
    "### **3.2. Eliminación de Mensaje de Cookies**"
   ]
  },
  {
   "cell_type": "code",
   "execution_count": 27,
   "id": "ca96080c",
   "metadata": {},
   "outputs": [
    {
     "name": "stdout",
     "output_type": "stream",
     "text": [
      "\n",
      "\t3.2. Eliminación de Mensaje de Cookies\n",
      "\n",
      "\t\tProceso iniciado\n"
     ]
    }
   ],
   "source": [
    "print(\"\\n\\t3.2. Eliminación de Mensaje de Cookies\")\n",
    "print(\"\\n\\t\\tProceso iniciado\")"
   ]
  },
  {
   "cell_type": "code",
   "execution_count": 28,
   "id": "be307dfb",
   "metadata": {},
   "outputs": [],
   "source": [
    "cockies_botton = browser.find_element(By.XPATH, \"//button[contains(text(), 'Solo las necesarias')]\")\n",
    "\n",
    "cockies_botton.click()\n",
    "\n",
    "time.sleep(0.5)"
   ]
  },
  {
   "cell_type": "code",
   "execution_count": 29,
   "id": "5d48f423",
   "metadata": {},
   "outputs": [
    {
     "name": "stdout",
     "output_type": "stream",
     "text": [
      "\n",
      "\t\tProceso finalizado\n"
     ]
    }
   ],
   "source": [
    "print(\"\\n\\t\\tProceso finalizado\")"
   ]
  },
  {
   "cell_type": "markdown",
   "id": "667cf4c6",
   "metadata": {},
   "source": [
    "### **3.3. Extracción del HTML**"
   ]
  },
  {
   "cell_type": "code",
   "execution_count": 30,
   "id": "b7800775",
   "metadata": {},
   "outputs": [
    {
     "name": "stdout",
     "output_type": "stream",
     "text": [
      "\n",
      "\t3.3. Extracción del HTML\n",
      "\n",
      "\t\tProceso iniciado\n"
     ]
    }
   ],
   "source": [
    "print(\"\\n\\t3.3. Extracción del HTML\")\n",
    "print(\"\\n\\t\\tProceso iniciado\")"
   ]
  },
  {
   "cell_type": "code",
   "execution_count": 31,
   "id": "905715c0",
   "metadata": {},
   "outputs": [],
   "source": [
    "html = browser.page_source\n",
    "\n",
    "soup = bs(html, 'lxml')"
   ]
  },
  {
   "cell_type": "code",
   "execution_count": 32,
   "id": "5c29ecc9",
   "metadata": {},
   "outputs": [
    {
     "name": "stdout",
     "output_type": "stream",
     "text": [
      "\n",
      "\t\tProceso finalizado\n"
     ]
    }
   ],
   "source": [
    "print(\"\\n\\t\\tProceso finalizado\")"
   ]
  },
  {
   "cell_type": "markdown",
   "id": "05f259e9",
   "metadata": {},
   "source": [
    "### **3.4. Lectura de Datos desde el Fichero y Creación de Carpeta para Resultados**"
   ]
  },
  {
   "cell_type": "code",
   "execution_count": 33,
   "id": "cd551fcf",
   "metadata": {},
   "outputs": [
    {
     "name": "stdout",
     "output_type": "stream",
     "text": [
      "\n",
      "\t3.4. Lectura de Datos desde el Fichero\n",
      "\n",
      "\t\tProceso iniciado\n"
     ]
    }
   ],
   "source": [
    "print(\"\\n\\t3.4. Lectura de Datos desde el Fichero\")\n",
    "print(\"\\n\\t\\tProceso iniciado\")"
   ]
  },
  {
   "cell_type": "code",
   "execution_count": null,
   "id": "cd6b7a0f",
   "metadata": {},
   "outputs": [],
   "source": [
    "def cargar_variables(ruta):\n",
    "    variables = {}\n",
    "    with open(ruta, 'r') as f:\n",
    "        for linea in f:\n",
    "            if '=' in linea:\n",
    "                clave, valor = linea.strip().split('=', 1)\n",
    "                clave = clave.strip()\n",
    "                valor = valor.strip()\n",
    "                try:\n",
    "                    valor = eval(valor)\n",
    "                except:\n",
    "                    pass\n",
    "                variables[clave] = valor\n",
    "    return variables\n",
    "\n",
    "variables = cargar_variables('input/input.txt')\n",
    "\n",
    "for clave, valor in variables.items():\n",
    "    globals()[clave] = valor\n",
    "\n",
    "fecha_entrada_objetivo = datetime.strptime(fecha_entrada, \"%d/%m/%Y\")\n",
    "fecha_salida_objetivo = datetime.strptime(fecha_salida, \"%d/%m/%Y\")\n",
    "\n",
    "fecha_entrada_lista = list(fecha_entrada_objetivo)\n",
    "\n",
    "dia_entrada = str(fecha_entrada[0:2])\n",
    "\n",
    "\n",
    "dia_entrada_nombre = fecha_entrada_objetivo.strftime(\"%A\")\n",
    "\n",
    "mes_entrada = str(fecha_entrada[3:5])\n",
    "\n",
    "mes_entrada_nombre = fecha_entrada_objetivo.strftime(\"%B\")\n",
    "\n",
    "año_entrada = str(fecha_entrada[6:10])\n",
    "\n",
    "if dia_entrada[0] == '0':\n",
    "    dia_entrada = dia_entrada[1:]\n",
    "\n",
    "dia_salida = str(fecha_salida[0:2])\n",
    "\n",
    "dia_salida_nombre = fecha_salida_objetivo.strftime(\"%A\")\n",
    "\n",
    "mes_salida = str(fecha_salida[3:5])\n",
    "\n",
    "mes_salida_nombre = fecha_salida_objetivo.strftime(\"%B\")\n",
    "\n",
    "año_salida = str(fecha_salida[6:10])\n",
    "\n",
    "if dia_salida[0] == '0':\n",
    "    dia_salida = dia_salida[1:]\n",
    "\n",
    "fecha_entrada_str = fecha_entrada.replace('/', '-')\n",
    "fecha_salida_str = fecha_salida.replace('/', '-')\n",
    "\n",
    "numero_total_personas = numero_adultos + numero_niños + numero_bebes + numero_mascotas\n",
    "\n",
    "directorios = list()\n",
    "\n",
    "directorios.append(f'output/{ciudad}. {numero_total_personas} Personas. {fecha_entrada_str} | {fecha_salida_str}')\n",
    "directorios.append(f'output/{ciudad}. {numero_total_personas} Personas. {fecha_entrada_str} | {fecha_salida_str}/Análisis de Datos')\n",
    "directorios.append(f'output/{ciudad}. {numero_total_personas} Personas. {fecha_entrada_str} | {fecha_salida_str}/Análisis de Servicios')\n",
    "directorios.append(f'output/{ciudad}. {numero_total_personas} Personas. {fecha_entrada_str} | {fecha_salida_str}/Análisis Económico')\n",
    "directorios.append(f'output/{ciudad}. {numero_total_personas} Personas. {fecha_entrada_str} | {fecha_salida_str}/Análisis Económico/Diagrama de Cajas')\n",
    "directorios.append(f'output/{ciudad}. {numero_total_personas} Personas. {fecha_entrada_str} | {fecha_salida_str}/Análisis Económico/Histograma')\n",
    "directorios.append(f'output/{ciudad}. {numero_total_personas} Personas. {fecha_entrada_str} | {fecha_salida_str}/Análisis Económico/Medidas Descriptivas')\n",
    "directorios.append(f'output/{ciudad}. {numero_total_personas} Personas. {fecha_entrada_str} | {fecha_salida_str}/Análisis Geográfico')\n",
    "\n",
    "for directorio in directorios:\n",
    "    if not os.path.exists(directorio):\n",
    "        os.makedirs(directorio)"
   ]
  },
  {
   "cell_type": "code",
   "execution_count": 35,
   "id": "b57a3a27",
   "metadata": {},
   "outputs": [
    {
     "name": "stdout",
     "output_type": "stream",
     "text": [
      "\n",
      "\t\tProceso finalizado\n"
     ]
    }
   ],
   "source": [
    "print(\"\\n\\t\\tProceso finalizado\")"
   ]
  },
  {
   "cell_type": "markdown",
   "id": "5375380e",
   "metadata": {},
   "source": [
    "### **3.5. Selección del Destino del Viaje**"
   ]
  },
  {
   "cell_type": "code",
   "execution_count": 36,
   "id": "174f51e5",
   "metadata": {},
   "outputs": [
    {
     "name": "stdout",
     "output_type": "stream",
     "text": [
      "\n",
      "\t3.5. Selección del Destino del Viaje\n",
      "\n",
      "\t\tProceso iniciado\n"
     ]
    }
   ],
   "source": [
    "print(\"\\n\\t3.5. Selección del Destino del Viaje\")\n",
    "print(\"\\n\\t\\tProceso iniciado\")"
   ]
  },
  {
   "cell_type": "code",
   "execution_count": 37,
   "id": "86bd8056",
   "metadata": {},
   "outputs": [],
   "source": [
    "Destino = f\"{ciudad}, {pais}\"\n",
    "\n",
    "campo_destino = browser.find_element(By.ID, \"bigsearch-query-location-input\")\n",
    "campo_destino.send_keys(Destino)\n",
    "campo_destino.send_keys(Keys.ENTER)\n",
    "\n",
    "time.sleep(2)"
   ]
  },
  {
   "cell_type": "code",
   "execution_count": 38,
   "id": "97d9da7d",
   "metadata": {},
   "outputs": [
    {
     "name": "stdout",
     "output_type": "stream",
     "text": [
      "\n",
      "\t\tProceso finalizado\n"
     ]
    }
   ],
   "source": [
    "print(\"\\n\\t\\tProceso finalizado\")"
   ]
  },
  {
   "cell_type": "markdown",
   "id": "53bae213",
   "metadata": {},
   "source": [
    "### **3.6. Selección de Fechas del Viaje**"
   ]
  },
  {
   "cell_type": "code",
   "execution_count": 39,
   "id": "2dea7077",
   "metadata": {},
   "outputs": [
    {
     "name": "stdout",
     "output_type": "stream",
     "text": [
      "\n",
      "\t3.6. Selección de Fechas del Viaje\n",
      "\n",
      "\t\tProceso iniciado\n"
     ]
    }
   ],
   "source": [
    "print(\"\\n\\t3.6. Selección de Fechas del Viaje\")\n",
    "print(\"\\n\\t\\tProceso iniciado\")"
   ]
  },
  {
   "cell_type": "code",
   "execution_count": 40,
   "id": "9c5a2fe9",
   "metadata": {},
   "outputs": [
    {
     "ename": "NoSuchElementException",
     "evalue": "Message: no such element: Unable to locate element: {\"method\":\"xpath\",\"selector\":\"//button[@aria-label='1, Friday, July /2025. Disponible. Selecciona este día como fecha de salida.']\"}\n  (Session info: chrome=136.0.7103.114); For documentation on this error, please visit: https://www.selenium.dev/documentation/webdriver/troubleshooting/errors#no-such-element-exception\nStacktrace:\n0   undetected_chromedriver             0x0000000102d3c898 undetected_chromedriver + 5986456\n1   undetected_chromedriver             0x0000000102d339ca undetected_chromedriver + 5949898\n2   undetected_chromedriver             0x00000001027ec600 undetected_chromedriver + 415232\n3   undetected_chromedriver             0x000000010283e304 undetected_chromedriver + 750340\n4   undetected_chromedriver             0x000000010283e521 undetected_chromedriver + 750881\n5   undetected_chromedriver             0x000000010288e204 undetected_chromedriver + 1077764\n6   undetected_chromedriver             0x000000010286433d undetected_chromedriver + 906045\n7   undetected_chromedriver             0x000000010288b566 undetected_chromedriver + 1066342\n8   undetected_chromedriver             0x00000001028640e3 undetected_chromedriver + 905443\n9   undetected_chromedriver             0x000000010283061d undetected_chromedriver + 693789\n10  undetected_chromedriver             0x0000000102831281 undetected_chromedriver + 696961\n11  undetected_chromedriver             0x0000000102cfa560 undetected_chromedriver + 5715296\n12  undetected_chromedriver             0x0000000102cfe425 undetected_chromedriver + 5731365\n13  undetected_chromedriver             0x0000000102cd4eb0 undetected_chromedriver + 5562032\n14  undetected_chromedriver             0x0000000102cfee5b undetected_chromedriver + 5733979\n15  undetected_chromedriver             0x0000000102cc3dc4 undetected_chromedriver + 5492164\n16  undetected_chromedriver             0x0000000102d21a78 undetected_chromedriver + 5876344\n17  undetected_chromedriver             0x0000000102d21c40 undetected_chromedriver + 5876800\n18  undetected_chromedriver             0x0000000102d33591 undetected_chromedriver + 5948817\n19  libsystem_pthread.dylib             0x00007ff80daacdf1 _pthread_start + 99\n20  libsystem_pthread.dylib             0x00007ff80daa8857 thread_start + 15\n",
     "output_type": "error",
     "traceback": [
      "\u001b[0;31m---------------------------------------------------------------------------\u001b[0m",
      "\u001b[0;31mNoSuchElementException\u001b[0m                    Traceback (most recent call last)",
      "Cell \u001b[0;32mIn[40], line 26\u001b[0m\n\u001b[1;32m     22\u001b[0m time\u001b[38;5;241m.\u001b[39msleep(\u001b[38;5;241m3\u001b[39m)\n\u001b[1;32m     24\u001b[0m tarjeta_fecha_salida \u001b[38;5;241m=\u001b[39m \u001b[38;5;124mf\u001b[39m\u001b[38;5;124m\"\u001b[39m\u001b[38;5;132;01m{\u001b[39;00mdia_salida\u001b[38;5;132;01m}\u001b[39;00m\u001b[38;5;124m, \u001b[39m\u001b[38;5;132;01m{\u001b[39;00mdia_salida_nombre\u001b[38;5;132;01m}\u001b[39;00m\u001b[38;5;124m, \u001b[39m\u001b[38;5;132;01m{\u001b[39;00mmes_salida_nombre\u001b[38;5;132;01m}\u001b[39;00m\u001b[38;5;124m \u001b[39m\u001b[38;5;132;01m{\u001b[39;00maño_salida\u001b[38;5;132;01m}\u001b[39;00m\u001b[38;5;124m. Disponible. Selecciona este día como fecha de salida.\u001b[39m\u001b[38;5;124m\"\u001b[39m \u001b[38;5;66;03m# Texto único del atributo aria-label \u001b[39;00m\n\u001b[0;32m---> 26\u001b[0m date_button \u001b[38;5;241m=\u001b[39m \u001b[43mbrowser\u001b[49m\u001b[38;5;241;43m.\u001b[39;49m\u001b[43mfind_element\u001b[49m\u001b[43m(\u001b[49m\u001b[43mBy\u001b[49m\u001b[38;5;241;43m.\u001b[39;49m\u001b[43mXPATH\u001b[49m\u001b[43m,\u001b[49m\u001b[43m \u001b[49m\u001b[38;5;124;43mf\u001b[39;49m\u001b[38;5;124;43m\"\u001b[39;49m\u001b[38;5;124;43m//button[@aria-label=\u001b[39;49m\u001b[38;5;124;43m'\u001b[39;49m\u001b[38;5;132;43;01m{\u001b[39;49;00m\u001b[43mtarjeta_fecha_salida\u001b[49m\u001b[38;5;132;43;01m}\u001b[39;49;00m\u001b[38;5;124;43m'\u001b[39;49m\u001b[38;5;124;43m]\u001b[39;49m\u001b[38;5;124;43m\"\u001b[39;49m\u001b[43m)\u001b[49m \n\u001b[1;32m     27\u001b[0m date_button\u001b[38;5;241m.\u001b[39mclick()\n",
      "File \u001b[0;32m/Library/Frameworks/Python.framework/Versions/3.13/lib/python3.13/site-packages/selenium/webdriver/remote/webdriver.py:898\u001b[0m, in \u001b[0;36mWebDriver.find_element\u001b[0;34m(self, by, value)\u001b[0m\n\u001b[1;32m    895\u001b[0m         \u001b[38;5;28;01mraise\u001b[39;00m NoSuchElementException(\u001b[38;5;124mf\u001b[39m\u001b[38;5;124m\"\u001b[39m\u001b[38;5;124mCannot locate relative element with: \u001b[39m\u001b[38;5;132;01m{\u001b[39;00mby\u001b[38;5;241m.\u001b[39mroot\u001b[38;5;132;01m}\u001b[39;00m\u001b[38;5;124m\"\u001b[39m)\n\u001b[1;32m    896\u001b[0m     \u001b[38;5;28;01mreturn\u001b[39;00m elements[\u001b[38;5;241m0\u001b[39m]\n\u001b[0;32m--> 898\u001b[0m \u001b[38;5;28;01mreturn\u001b[39;00m \u001b[38;5;28;43mself\u001b[39;49m\u001b[38;5;241;43m.\u001b[39;49m\u001b[43mexecute\u001b[49m\u001b[43m(\u001b[49m\u001b[43mCommand\u001b[49m\u001b[38;5;241;43m.\u001b[39;49m\u001b[43mFIND_ELEMENT\u001b[49m\u001b[43m,\u001b[49m\u001b[43m \u001b[49m\u001b[43m{\u001b[49m\u001b[38;5;124;43m\"\u001b[39;49m\u001b[38;5;124;43musing\u001b[39;49m\u001b[38;5;124;43m\"\u001b[39;49m\u001b[43m:\u001b[49m\u001b[43m \u001b[49m\u001b[43mby\u001b[49m\u001b[43m,\u001b[49m\u001b[43m \u001b[49m\u001b[38;5;124;43m\"\u001b[39;49m\u001b[38;5;124;43mvalue\u001b[39;49m\u001b[38;5;124;43m\"\u001b[39;49m\u001b[43m:\u001b[49m\u001b[43m \u001b[49m\u001b[43mvalue\u001b[49m\u001b[43m}\u001b[49m\u001b[43m)\u001b[49m[\u001b[38;5;124m\"\u001b[39m\u001b[38;5;124mvalue\u001b[39m\u001b[38;5;124m\"\u001b[39m]\n",
      "File \u001b[0;32m/Library/Frameworks/Python.framework/Versions/3.13/lib/python3.13/site-packages/selenium/webdriver/remote/webdriver.py:429\u001b[0m, in \u001b[0;36mWebDriver.execute\u001b[0;34m(self, driver_command, params)\u001b[0m\n\u001b[1;32m    427\u001b[0m response \u001b[38;5;241m=\u001b[39m \u001b[38;5;28mself\u001b[39m\u001b[38;5;241m.\u001b[39mcommand_executor\u001b[38;5;241m.\u001b[39mexecute(driver_command, params)\n\u001b[1;32m    428\u001b[0m \u001b[38;5;28;01mif\u001b[39;00m response:\n\u001b[0;32m--> 429\u001b[0m     \u001b[38;5;28;43mself\u001b[39;49m\u001b[38;5;241;43m.\u001b[39;49m\u001b[43merror_handler\u001b[49m\u001b[38;5;241;43m.\u001b[39;49m\u001b[43mcheck_response\u001b[49m\u001b[43m(\u001b[49m\u001b[43mresponse\u001b[49m\u001b[43m)\u001b[49m\n\u001b[1;32m    430\u001b[0m     response[\u001b[38;5;124m\"\u001b[39m\u001b[38;5;124mvalue\u001b[39m\u001b[38;5;124m\"\u001b[39m] \u001b[38;5;241m=\u001b[39m \u001b[38;5;28mself\u001b[39m\u001b[38;5;241m.\u001b[39m_unwrap_value(response\u001b[38;5;241m.\u001b[39mget(\u001b[38;5;124m\"\u001b[39m\u001b[38;5;124mvalue\u001b[39m\u001b[38;5;124m\"\u001b[39m, \u001b[38;5;28;01mNone\u001b[39;00m))\n\u001b[1;32m    431\u001b[0m     \u001b[38;5;28;01mreturn\u001b[39;00m response\n",
      "File \u001b[0;32m/Library/Frameworks/Python.framework/Versions/3.13/lib/python3.13/site-packages/selenium/webdriver/remote/errorhandler.py:232\u001b[0m, in \u001b[0;36mErrorHandler.check_response\u001b[0;34m(self, response)\u001b[0m\n\u001b[1;32m    230\u001b[0m         alert_text \u001b[38;5;241m=\u001b[39m value[\u001b[38;5;124m\"\u001b[39m\u001b[38;5;124malert\u001b[39m\u001b[38;5;124m\"\u001b[39m]\u001b[38;5;241m.\u001b[39mget(\u001b[38;5;124m\"\u001b[39m\u001b[38;5;124mtext\u001b[39m\u001b[38;5;124m\"\u001b[39m)\n\u001b[1;32m    231\u001b[0m     \u001b[38;5;28;01mraise\u001b[39;00m exception_class(message, screen, stacktrace, alert_text)  \u001b[38;5;66;03m# type: ignore[call-arg]  # mypy is not smart enough here\u001b[39;00m\n\u001b[0;32m--> 232\u001b[0m \u001b[38;5;28;01mraise\u001b[39;00m exception_class(message, screen, stacktrace)\n",
      "\u001b[0;31mNoSuchElementException\u001b[0m: Message: no such element: Unable to locate element: {\"method\":\"xpath\",\"selector\":\"//button[@aria-label='1, Friday, July /2025. Disponible. Selecciona este día como fecha de salida.']\"}\n  (Session info: chrome=136.0.7103.114); For documentation on this error, please visit: https://www.selenium.dev/documentation/webdriver/troubleshooting/errors#no-such-element-exception\nStacktrace:\n0   undetected_chromedriver             0x0000000102d3c898 undetected_chromedriver + 5986456\n1   undetected_chromedriver             0x0000000102d339ca undetected_chromedriver + 5949898\n2   undetected_chromedriver             0x00000001027ec600 undetected_chromedriver + 415232\n3   undetected_chromedriver             0x000000010283e304 undetected_chromedriver + 750340\n4   undetected_chromedriver             0x000000010283e521 undetected_chromedriver + 750881\n5   undetected_chromedriver             0x000000010288e204 undetected_chromedriver + 1077764\n6   undetected_chromedriver             0x000000010286433d undetected_chromedriver + 906045\n7   undetected_chromedriver             0x000000010288b566 undetected_chromedriver + 1066342\n8   undetected_chromedriver             0x00000001028640e3 undetected_chromedriver + 905443\n9   undetected_chromedriver             0x000000010283061d undetected_chromedriver + 693789\n10  undetected_chromedriver             0x0000000102831281 undetected_chromedriver + 696961\n11  undetected_chromedriver             0x0000000102cfa560 undetected_chromedriver + 5715296\n12  undetected_chromedriver             0x0000000102cfe425 undetected_chromedriver + 5731365\n13  undetected_chromedriver             0x0000000102cd4eb0 undetected_chromedriver + 5562032\n14  undetected_chromedriver             0x0000000102cfee5b undetected_chromedriver + 5733979\n15  undetected_chromedriver             0x0000000102cc3dc4 undetected_chromedriver + 5492164\n16  undetected_chromedriver             0x0000000102d21a78 undetected_chromedriver + 5876344\n17  undetected_chromedriver             0x0000000102d21c40 undetected_chromedriver + 5876800\n18  undetected_chromedriver             0x0000000102d33591 undetected_chromedriver + 5948817\n19  libsystem_pthread.dylib             0x00007ff80daacdf1 _pthread_start + 99\n20  libsystem_pthread.dylib             0x00007ff80daa8857 thread_start + 15\n"
     ]
    }
   ],
   "source": [
    "translator = Translator(to_lang=\"es\", from_lang=\"en\")\n",
    "\n",
    "mes_entrada_nombre_español = Translator(to_lang=\"es\").translate(mes_entrada_nombre).lower()\n",
    "\n",
    "mes_año = f\"{mes_entrada_nombre_español} {año_entrada}\"\n",
    "\n",
    "mes_actual = browser.find_element(By.XPATH, '//h2[contains(@class, \"h19aqaok\")]').text\n",
    "\n",
    "while mes_actual != mes_año:\n",
    "   \n",
    "    boton_siguiente = browser.find_element(By.XPATH, '//button[@aria-label[contains(.,\"cambiar al mes siguiente\")]]').click()\n",
    "    time.sleep(1)\n",
    "    mes_actual = browser.find_element(By.XPATH, '//h2[contains(@class, \"h19aqaok\")]').text\n",
    "\n",
    "time.sleep(5)\n",
    "\n",
    "tarjeta_fecha_entrada = f\"{dia_entrada}, {dia_entrada_nombre}, {mes_entrada_nombre} {año_entrada}. Disponible. Selecciona este día como fecha de llegada.\" # Texto único del atributo aria-label \n",
    "\n",
    "date_button = browser.find_element(By.XPATH, f\"//button[@aria-label='{tarjeta_fecha_entrada}']\")\n",
    "date_button.click()\n",
    "\n",
    "time.sleep(3)\n",
    "\n",
    "tarjeta_fecha_salida = f\"{dia_salida}, {dia_salida_nombre}, {mes_salida_nombre} {año_salida}. Disponible. Selecciona este día como fecha de salida.\" # Texto único del atributo aria-label \n",
    "\n",
    "date_button = browser.find_element(By.XPATH, f\"//button[@aria-label='{tarjeta_fecha_salida}']\") \n",
    "date_button.click()"
   ]
  },
  {
   "cell_type": "code",
   "execution_count": null,
   "id": "f8572264",
   "metadata": {},
   "outputs": [],
   "source": [
    "print(\"\\n\\t\\tProceso finalizado\")"
   ]
  },
  {
   "cell_type": "markdown",
   "id": "41148808",
   "metadata": {},
   "source": [
    "### **3.7. Selección de Viajeros del Viaje**"
   ]
  },
  {
   "cell_type": "code",
   "execution_count": null,
   "id": "a0f6c2d8",
   "metadata": {},
   "outputs": [],
   "source": [
    "print(\"\\n\\t3.7. Selección de Viajeros del Viaje\")\n",
    "print(\"\\n\\t\\tProceso iniciado\")"
   ]
  },
  {
   "cell_type": "code",
   "execution_count": 43,
   "id": "3a9f521d",
   "metadata": {},
   "outputs": [
    {
     "ename": "NoSuchElementException",
     "evalue": "Message: no such element: Unable to locate element: {\"method\":\"xpath\",\"selector\":\"//div[div[text()='Viajeros']]/div[text()='Añade viajeros']\"}\n  (Session info: chrome=136.0.7103.114); For documentation on this error, please visit: https://www.selenium.dev/documentation/webdriver/troubleshooting/errors#no-such-element-exception\nStacktrace:\n0   undetected_chromedriver             0x0000000102d3c898 undetected_chromedriver + 5986456\n1   undetected_chromedriver             0x0000000102d339ca undetected_chromedriver + 5949898\n2   undetected_chromedriver             0x00000001027ec600 undetected_chromedriver + 415232\n3   undetected_chromedriver             0x000000010283e304 undetected_chromedriver + 750340\n4   undetected_chromedriver             0x000000010283e521 undetected_chromedriver + 750881\n5   undetected_chromedriver             0x000000010288e204 undetected_chromedriver + 1077764\n6   undetected_chromedriver             0x000000010286433d undetected_chromedriver + 906045\n7   undetected_chromedriver             0x000000010288b566 undetected_chromedriver + 1066342\n8   undetected_chromedriver             0x00000001028640e3 undetected_chromedriver + 905443\n9   undetected_chromedriver             0x000000010283061d undetected_chromedriver + 693789\n10  undetected_chromedriver             0x0000000102831281 undetected_chromedriver + 696961\n11  undetected_chromedriver             0x0000000102cfa560 undetected_chromedriver + 5715296\n12  undetected_chromedriver             0x0000000102cfe425 undetected_chromedriver + 5731365\n13  undetected_chromedriver             0x0000000102cd4eb0 undetected_chromedriver + 5562032\n14  undetected_chromedriver             0x0000000102cfee5b undetected_chromedriver + 5733979\n15  undetected_chromedriver             0x0000000102cc3dc4 undetected_chromedriver + 5492164\n16  undetected_chromedriver             0x0000000102d21a78 undetected_chromedriver + 5876344\n17  undetected_chromedriver             0x0000000102d21c40 undetected_chromedriver + 5876800\n18  undetected_chromedriver             0x0000000102d33591 undetected_chromedriver + 5948817\n19  libsystem_pthread.dylib             0x00007ff80daacdf1 _pthread_start + 99\n20  libsystem_pthread.dylib             0x00007ff80daa8857 thread_start + 15\n",
     "output_type": "error",
     "traceback": [
      "\u001b[0;31m---------------------------------------------------------------------------\u001b[0m",
      "\u001b[0;31mNoSuchElementException\u001b[0m                    Traceback (most recent call last)",
      "Cell \u001b[0;32mIn[43], line 1\u001b[0m\n\u001b[0;32m----> 1\u001b[0m viajeros_button \u001b[38;5;241m=\u001b[39m \u001b[43mbrowser\u001b[49m\u001b[38;5;241;43m.\u001b[39;49m\u001b[43mfind_element\u001b[49m\u001b[43m(\u001b[49m\u001b[43mBy\u001b[49m\u001b[38;5;241;43m.\u001b[39;49m\u001b[43mXPATH\u001b[49m\u001b[43m,\u001b[49m\u001b[43m \u001b[49m\u001b[38;5;124;43m\"\u001b[39;49m\u001b[38;5;124;43m//div[div[text()=\u001b[39;49m\u001b[38;5;124;43m'\u001b[39;49m\u001b[38;5;124;43mViajeros\u001b[39;49m\u001b[38;5;124;43m'\u001b[39;49m\u001b[38;5;124;43m]]/div[text()=\u001b[39;49m\u001b[38;5;124;43m'\u001b[39;49m\u001b[38;5;124;43mAñade viajeros\u001b[39;49m\u001b[38;5;124;43m'\u001b[39;49m\u001b[38;5;124;43m]\u001b[39;49m\u001b[38;5;124;43m\"\u001b[39;49m\u001b[43m)\u001b[49m\n\u001b[1;32m      2\u001b[0m viajeros_button\u001b[38;5;241m.\u001b[39mclick()\n\u001b[1;32m      4\u001b[0m \u001b[38;5;28;01mfor\u001b[39;00m n \u001b[38;5;129;01min\u001b[39;00m \u001b[38;5;28mrange\u001b[39m(\u001b[38;5;241m0\u001b[39m, numero_adultos):\n",
      "File \u001b[0;32m/Library/Frameworks/Python.framework/Versions/3.13/lib/python3.13/site-packages/selenium/webdriver/remote/webdriver.py:898\u001b[0m, in \u001b[0;36mWebDriver.find_element\u001b[0;34m(self, by, value)\u001b[0m\n\u001b[1;32m    895\u001b[0m         \u001b[38;5;28;01mraise\u001b[39;00m NoSuchElementException(\u001b[38;5;124mf\u001b[39m\u001b[38;5;124m\"\u001b[39m\u001b[38;5;124mCannot locate relative element with: \u001b[39m\u001b[38;5;132;01m{\u001b[39;00mby\u001b[38;5;241m.\u001b[39mroot\u001b[38;5;132;01m}\u001b[39;00m\u001b[38;5;124m\"\u001b[39m)\n\u001b[1;32m    896\u001b[0m     \u001b[38;5;28;01mreturn\u001b[39;00m elements[\u001b[38;5;241m0\u001b[39m]\n\u001b[0;32m--> 898\u001b[0m \u001b[38;5;28;01mreturn\u001b[39;00m \u001b[38;5;28;43mself\u001b[39;49m\u001b[38;5;241;43m.\u001b[39;49m\u001b[43mexecute\u001b[49m\u001b[43m(\u001b[49m\u001b[43mCommand\u001b[49m\u001b[38;5;241;43m.\u001b[39;49m\u001b[43mFIND_ELEMENT\u001b[49m\u001b[43m,\u001b[49m\u001b[43m \u001b[49m\u001b[43m{\u001b[49m\u001b[38;5;124;43m\"\u001b[39;49m\u001b[38;5;124;43musing\u001b[39;49m\u001b[38;5;124;43m\"\u001b[39;49m\u001b[43m:\u001b[49m\u001b[43m \u001b[49m\u001b[43mby\u001b[49m\u001b[43m,\u001b[49m\u001b[43m \u001b[49m\u001b[38;5;124;43m\"\u001b[39;49m\u001b[38;5;124;43mvalue\u001b[39;49m\u001b[38;5;124;43m\"\u001b[39;49m\u001b[43m:\u001b[49m\u001b[43m \u001b[49m\u001b[43mvalue\u001b[49m\u001b[43m}\u001b[49m\u001b[43m)\u001b[49m[\u001b[38;5;124m\"\u001b[39m\u001b[38;5;124mvalue\u001b[39m\u001b[38;5;124m\"\u001b[39m]\n",
      "File \u001b[0;32m/Library/Frameworks/Python.framework/Versions/3.13/lib/python3.13/site-packages/selenium/webdriver/remote/webdriver.py:429\u001b[0m, in \u001b[0;36mWebDriver.execute\u001b[0;34m(self, driver_command, params)\u001b[0m\n\u001b[1;32m    427\u001b[0m response \u001b[38;5;241m=\u001b[39m \u001b[38;5;28mself\u001b[39m\u001b[38;5;241m.\u001b[39mcommand_executor\u001b[38;5;241m.\u001b[39mexecute(driver_command, params)\n\u001b[1;32m    428\u001b[0m \u001b[38;5;28;01mif\u001b[39;00m response:\n\u001b[0;32m--> 429\u001b[0m     \u001b[38;5;28;43mself\u001b[39;49m\u001b[38;5;241;43m.\u001b[39;49m\u001b[43merror_handler\u001b[49m\u001b[38;5;241;43m.\u001b[39;49m\u001b[43mcheck_response\u001b[49m\u001b[43m(\u001b[49m\u001b[43mresponse\u001b[49m\u001b[43m)\u001b[49m\n\u001b[1;32m    430\u001b[0m     response[\u001b[38;5;124m\"\u001b[39m\u001b[38;5;124mvalue\u001b[39m\u001b[38;5;124m\"\u001b[39m] \u001b[38;5;241m=\u001b[39m \u001b[38;5;28mself\u001b[39m\u001b[38;5;241m.\u001b[39m_unwrap_value(response\u001b[38;5;241m.\u001b[39mget(\u001b[38;5;124m\"\u001b[39m\u001b[38;5;124mvalue\u001b[39m\u001b[38;5;124m\"\u001b[39m, \u001b[38;5;28;01mNone\u001b[39;00m))\n\u001b[1;32m    431\u001b[0m     \u001b[38;5;28;01mreturn\u001b[39;00m response\n",
      "File \u001b[0;32m/Library/Frameworks/Python.framework/Versions/3.13/lib/python3.13/site-packages/selenium/webdriver/remote/errorhandler.py:232\u001b[0m, in \u001b[0;36mErrorHandler.check_response\u001b[0;34m(self, response)\u001b[0m\n\u001b[1;32m    230\u001b[0m         alert_text \u001b[38;5;241m=\u001b[39m value[\u001b[38;5;124m\"\u001b[39m\u001b[38;5;124malert\u001b[39m\u001b[38;5;124m\"\u001b[39m]\u001b[38;5;241m.\u001b[39mget(\u001b[38;5;124m\"\u001b[39m\u001b[38;5;124mtext\u001b[39m\u001b[38;5;124m\"\u001b[39m)\n\u001b[1;32m    231\u001b[0m     \u001b[38;5;28;01mraise\u001b[39;00m exception_class(message, screen, stacktrace, alert_text)  \u001b[38;5;66;03m# type: ignore[call-arg]  # mypy is not smart enough here\u001b[39;00m\n\u001b[0;32m--> 232\u001b[0m \u001b[38;5;28;01mraise\u001b[39;00m exception_class(message, screen, stacktrace)\n",
      "\u001b[0;31mNoSuchElementException\u001b[0m: Message: no such element: Unable to locate element: {\"method\":\"xpath\",\"selector\":\"//div[div[text()='Viajeros']]/div[text()='Añade viajeros']\"}\n  (Session info: chrome=136.0.7103.114); For documentation on this error, please visit: https://www.selenium.dev/documentation/webdriver/troubleshooting/errors#no-such-element-exception\nStacktrace:\n0   undetected_chromedriver             0x0000000102d3c898 undetected_chromedriver + 5986456\n1   undetected_chromedriver             0x0000000102d339ca undetected_chromedriver + 5949898\n2   undetected_chromedriver             0x00000001027ec600 undetected_chromedriver + 415232\n3   undetected_chromedriver             0x000000010283e304 undetected_chromedriver + 750340\n4   undetected_chromedriver             0x000000010283e521 undetected_chromedriver + 750881\n5   undetected_chromedriver             0x000000010288e204 undetected_chromedriver + 1077764\n6   undetected_chromedriver             0x000000010286433d undetected_chromedriver + 906045\n7   undetected_chromedriver             0x000000010288b566 undetected_chromedriver + 1066342\n8   undetected_chromedriver             0x00000001028640e3 undetected_chromedriver + 905443\n9   undetected_chromedriver             0x000000010283061d undetected_chromedriver + 693789\n10  undetected_chromedriver             0x0000000102831281 undetected_chromedriver + 696961\n11  undetected_chromedriver             0x0000000102cfa560 undetected_chromedriver + 5715296\n12  undetected_chromedriver             0x0000000102cfe425 undetected_chromedriver + 5731365\n13  undetected_chromedriver             0x0000000102cd4eb0 undetected_chromedriver + 5562032\n14  undetected_chromedriver             0x0000000102cfee5b undetected_chromedriver + 5733979\n15  undetected_chromedriver             0x0000000102cc3dc4 undetected_chromedriver + 5492164\n16  undetected_chromedriver             0x0000000102d21a78 undetected_chromedriver + 5876344\n17  undetected_chromedriver             0x0000000102d21c40 undetected_chromedriver + 5876800\n18  undetected_chromedriver             0x0000000102d33591 undetected_chromedriver + 5948817\n19  libsystem_pthread.dylib             0x00007ff80daacdf1 _pthread_start + 99\n20  libsystem_pthread.dylib             0x00007ff80daa8857 thread_start + 15\n"
     ]
    }
   ],
   "source": [
    "viajeros_button = browser.find_element(By.XPATH, \"//div[div[text()='Viajeros']]/div[text()='Añade viajeros']\")\n",
    "viajeros_button.click()\n",
    "\n",
    "for n in range(0, numero_adultos):\n",
    "    increase_adults_button = browser.find_element(By.XPATH, \"//button[@data-testid='stepper-adults-increase-button']\")\n",
    "    increase_adults_button.click()\n",
    "    time.sleep(0.5)\n",
    "\n",
    "for n in range(0, numero_niños):\n",
    "    increase_childrens_button = browser.find_element(By.XPATH, \"//button[@data-testid='stepper-children-increase-button']\")\n",
    "    increase_childrens_button.click()\n",
    "    time.sleep(0.5)\n",
    "\n",
    "for n in range(0, numero_bebes):\n",
    "    increase_babies_button = browser.find_element(By.XPATH, \"//button[@data-testid='stepper-infants-increase-button']\")\n",
    "    increase_babies_button.click()\n",
    "    time.sleep(0.5)\n",
    "\n",
    "for n in range(0, numero_mascotas):\n",
    "    increase_pets_button = browser.find_element(By.XPATH, \"//button[@data-testid='stepper-pets-increase-button']\")\n",
    "    increase_pets_button.click()\n",
    "    time.sleep(0.5)"
   ]
  },
  {
   "cell_type": "code",
   "execution_count": null,
   "id": "3be64813",
   "metadata": {},
   "outputs": [],
   "source": [
    "print(\"\\n\\t\\tProceso finalizado\")"
   ]
  },
  {
   "cell_type": "markdown",
   "id": "aacbc2a5",
   "metadata": {},
   "source": [
    "### **3.8. Realización de la Búsqueda de Ubicaciones para el Viaje**"
   ]
  },
  {
   "cell_type": "code",
   "execution_count": null,
   "id": "1e2668e8",
   "metadata": {},
   "outputs": [],
   "source": [
    "print(\"\\n\\t3.8. Realización de la Búsqueda de Ubicaciones para el Viaje\")\n",
    "print(\"\\n\\t\\tProceso iniciado\")"
   ]
  },
  {
   "cell_type": "code",
   "execution_count": 44,
   "id": "fc69a322",
   "metadata": {},
   "outputs": [],
   "source": [
    "search_button = browser.find_element(By.XPATH, \"//button[@data-testid='structured-search-input-search-button']\")\n",
    "search_button.click()\n",
    "\n",
    "time.sleep(5)"
   ]
  },
  {
   "cell_type": "code",
   "execution_count": null,
   "id": "f8588a51",
   "metadata": {},
   "outputs": [],
   "source": [
    "print(\"\\n\\t\\tProceso finalizado\")"
   ]
  },
  {
   "cell_type": "markdown",
   "id": "6d4d2d7c",
   "metadata": {},
   "source": [
    "### **3.9. Extracción de Datos de los Alojamientos**"
   ]
  },
  {
   "cell_type": "code",
   "execution_count": null,
   "id": "f7f792f1",
   "metadata": {},
   "outputs": [],
   "source": [
    "print(\"\\n\\t3.9. Extracción de Datos de los Alojamientos\")\n",
    "print(\"\\n\\t\\tProceso iniciado\")"
   ]
  },
  {
   "cell_type": "code",
   "execution_count": 46,
   "id": "9088334a",
   "metadata": {},
   "outputs": [],
   "source": [
    "data = []\n",
    "\n",
    "for pagina in range(numero_pagina):\n",
    "\n",
    "    url_inicio_alojamientos = browser.current_url\n",
    "\n",
    "    alojamientos = browser.find_elements(By.XPATH, \"//div[@itemprop='itemListElement']\")\n",
    "\n",
    "    links = list()\n",
    "\n",
    "    for url in alojamientos:\n",
    "        try:\n",
    "            url = url.find_element(By.XPATH, \".//meta[@itemprop='url']\").get_attribute(\"content\")\n",
    "            links.append(url)\n",
    "        except Exception as e:\n",
    "            print(\"Error en una tarjeta:\", e)\n",
    "            continue\n",
    "\n",
    "    for link in links:\n",
    "        url = link\n",
    "\n",
    "        if not url.startswith(\"http\"):\n",
    "            url = \"https://\" + url\n",
    "\n",
    "        browser.get(url)\n",
    "        time.sleep(4)\n",
    "\n",
    "        try:\n",
    "            # Cierra el botón del traductor si aparece\n",
    "            traductor_botton = browser.find_element(By.XPATH, \"//button[@aria-label='Cerrar']\")\n",
    "            traductor_botton.click()\n",
    "        except:\n",
    "            pass  # Si no aparece, continúa\n",
    "\n",
    "        time.sleep(2)\n",
    "\n",
    "        try:\n",
    "            nombre = browser.find_element(By.XPATH, \"//h1[contains(@class, 'hpipapi')]\").text\n",
    "        except:\n",
    "            nombre = \"No disponible\"\n",
    "\n",
    "        time.sleep(1)\n",
    "\n",
    "        try:\n",
    "            spans = browser.find_elements(By.XPATH, \"//span[contains(text(),'€')]\")\n",
    "            precios_noche = [s.text for s in spans if \"noche\" in s.text.lower()]\n",
    "            if precios_noche:\n",
    "                precio_noche = precios_noche[0].split(\"€\")[0].strip() + \" €\"\n",
    "            else:\n",
    "                precio_noche = \"No disponible\"\n",
    "        except:\n",
    "            precio_noche = \"No disponible\"\n",
    "\n",
    "        time.sleep(1)\n",
    "\n",
    "        try:\n",
    "            spans_total = browser.find_elements(By.XPATH, \"//span[@class='_j1kt73']\")\n",
    "            precios = [s.text for s in spans_total if \"€\" in s.text]\n",
    "            if precios:\n",
    "                precio_total = precios[0].split(\"€\")[0].replace(\",\", \"\").strip() + \" €\"\n",
    "            else:\n",
    "                precio_total = \"No disponible\"\n",
    "        except:\n",
    "            precio_total = \"No disponible\"\n",
    "\n",
    "        time.sleep(1)\n",
    "\n",
    "        try:\n",
    "            servicios_elements = browser.find_elements(By.CSS_SELECTOR, 'div._19xnuo97 > div > div:first-child')\n",
    "            servicios = \", \".join([s.text for s in servicios_elements if s.text.strip()])\n",
    "        except:\n",
    "            servicios = \"No disponible\"\n",
    "\n",
    "        scroll_pause_time = 0.5  # Tiempo de pausa entre desplazamientos\n",
    "        screen_height = browser.execute_script(\"return window.innerHeight;\")  # Altura de la ventana\n",
    "        scroll_position = 0\n",
    "        while True:\n",
    "            # Desplázate hacia abajo\n",
    "            browser.execute_script(f\"window.scrollTo(0, {scroll_position});\")\n",
    "            scroll_position += screen_height  # Incrementa la posición de desplazamiento\n",
    "            time.sleep(scroll_pause_time)  # Pausa para permitir la carga del contenido\n",
    "\n",
    "            # Verifica si se ha llegado al final de la página\n",
    "            new_scroll_height = browser.execute_script(\"return document.body.scrollHeight;\")\n",
    "            if scroll_position >= new_scroll_height:\n",
    "                break\n",
    "\n",
    "        time.sleep(2)\n",
    "\n",
    "        try:\n",
    "            url_element = browser.find_element(By.XPATH, \"//a[@title='Informar a Google acerca de errores en las imágenes o en el mapa de carreteras']\")\n",
    "            url_coordenadas = url_element.get_attribute(\"href\")\n",
    "\n",
    "            match = re.search(r\"@([-\\d.]+),([-\\d.]+)\", url_coordenadas)\n",
    "\n",
    "            lat = match.group(1)  # Latitud\n",
    "            latitud = float(lat)  # Convertir a float\n",
    "            lon = match.group(2)  # Longitud\n",
    "            longitud = float(lon)  # Convertir a float\n",
    "\n",
    "        except:\n",
    "            latitud = \"No Disponible\"\n",
    "            longitud = \"No Disponible\"\n",
    "\n",
    "        time.sleep(2)\n",
    "\n",
    "        data.append({\n",
    "            'Nombre': nombre,\n",
    "            'Precio por Noche': precio_noche,\n",
    "            'Precio Total': precio_total,\n",
    "            'Servicios': servicios,\n",
    "            'Latitud': latitud,\n",
    "            'Longitud': longitud,\n",
    "            'URL': url\n",
    "        })\n",
    "\n",
    "    browser.get(url_inicio_alojamientos)\n",
    "\n",
    "    time.sleep(2)\n",
    "\n",
    "    scroll_pause_time = 0.5  # Tiempo de pausa entre desplazamientos\n",
    "    screen_height = browser.execute_script(\"return window.innerHeight;\")  # Altura de la ventana\n",
    "    scroll_position = 0\n",
    "\n",
    "    while True:\n",
    "        # Desplázate hacia abajo\n",
    "        browser.execute_script(f\"window.scrollTo(0, {scroll_position});\")\n",
    "        scroll_position += screen_height  # Incrementa la posición de desplazamiento\n",
    "        time.sleep(scroll_pause_time)  # Pausa para permitir la carga del contenido\n",
    "\n",
    "        # Verifica si se ha llegado al final de la página\n",
    "        new_scroll_height = browser.execute_script(\"return document.body.scrollHeight;\")\n",
    "        if scroll_position >= new_scroll_height:\n",
    "            break\n",
    "\n",
    "    time.sleep(2)\n",
    "\n",
    "    if numero_pagina != 1:\n",
    "        boton_siguiente_pagina = browser.find_element(By.XPATH, \"//a[@aria-label='Siguiente']\")\n",
    "        boton_siguiente_pagina.click()      \n",
    "    else:\n",
    "        pass\n",
    "        \n",
    "    time.sleep(2)"
   ]
  },
  {
   "cell_type": "code",
   "execution_count": 47,
   "id": "5a07db3b",
   "metadata": {},
   "outputs": [
    {
     "name": "stdout",
     "output_type": "stream",
     "text": [
      "\n",
      "\t\tProceso finalizado\n"
     ]
    }
   ],
   "source": [
    "print(\"\\n\\t\\tProceso finalizado\")"
   ]
  },
  {
   "cell_type": "markdown",
   "id": "98049e18",
   "metadata": {},
   "source": [
    "### **3.10. Cierre del Navegador**"
   ]
  },
  {
   "cell_type": "code",
   "execution_count": 48,
   "id": "a052ecb6",
   "metadata": {},
   "outputs": [
    {
     "name": "stdout",
     "output_type": "stream",
     "text": [
      "\n",
      "\t3.10. Cierre del Navegador\n",
      "\n",
      "\t\tProceso iniciado\n"
     ]
    }
   ],
   "source": [
    "print(\"\\n\\t3.10. Cierre del Navegador\")\n",
    "print(\"\\n\\t\\tProceso iniciado\")"
   ]
  },
  {
   "cell_type": "code",
   "execution_count": 49,
   "id": "9d5850eb",
   "metadata": {},
   "outputs": [],
   "source": [
    "browser.close()\n",
    "browser.quit()"
   ]
  },
  {
   "cell_type": "code",
   "execution_count": 50,
   "id": "fe8de5ca",
   "metadata": {},
   "outputs": [
    {
     "name": "stdout",
     "output_type": "stream",
     "text": [
      "\n",
      "\t\tProceso finalizado\n"
     ]
    }
   ],
   "source": [
    "print(\"\\n\\t\\tProceso finalizado\")"
   ]
  },
  {
   "cell_type": "markdown",
   "id": "9e97df60",
   "metadata": {},
   "source": [
    "### **3.11. Creación de Dataframe con Datos Extraídos de cada Alojamiento**"
   ]
  },
  {
   "cell_type": "code",
   "execution_count": 51,
   "id": "b25f290c",
   "metadata": {},
   "outputs": [
    {
     "name": "stdout",
     "output_type": "stream",
     "text": [
      "\n",
      "\t3.11. Creación de Dataframe con Datos Extraídos de cada Alojamiento\n",
      "\n",
      "\t\tProceso iniciado\n"
     ]
    }
   ],
   "source": [
    "print(\"\\n\\t3.11. Creación de Dataframe con Datos Extraídos de cada Alojamiento\")\n",
    "print(\"\\n\\t\\tProceso iniciado\")"
   ]
  },
  {
   "cell_type": "code",
   "execution_count": 52,
   "id": "b0b11097",
   "metadata": {},
   "outputs": [],
   "source": [
    "df = pd.DataFrame(data)"
   ]
  },
  {
   "cell_type": "code",
   "execution_count": 53,
   "id": "eeccf65b",
   "metadata": {},
   "outputs": [
    {
     "name": "stdout",
     "output_type": "stream",
     "text": [
      "\n",
      "\t\tProceso finalizado\n"
     ]
    }
   ],
   "source": [
    "print(\"\\n\\t\\tProceso finalizado\")"
   ]
  },
  {
   "cell_type": "markdown",
   "id": "d9ad9c58",
   "metadata": {},
   "source": [
    "## **4. Limpieza y Ordenación de Datos**"
   ]
  },
  {
   "cell_type": "code",
   "execution_count": 54,
   "id": "66844fb2",
   "metadata": {},
   "outputs": [
    {
     "name": "stdout",
     "output_type": "stream",
     "text": [
      "\n",
      "4. Limpieza y Ordenación de Datos\n"
     ]
    }
   ],
   "source": [
    "print(\"\\n4. Limpieza y Ordenación de Datos\")"
   ]
  },
  {
   "cell_type": "markdown",
   "id": "86cae308",
   "metadata": {},
   "source": [
    "### **4.1. Cálculo de Precio por Viajero**"
   ]
  },
  {
   "cell_type": "code",
   "execution_count": 55,
   "id": "7aef9dd8",
   "metadata": {},
   "outputs": [
    {
     "name": "stdout",
     "output_type": "stream",
     "text": [
      "\n",
      "\t4.1. Cálculo de Precio por Viajero\n",
      "\n",
      "\t\tProceso iniciado\n"
     ]
    }
   ],
   "source": [
    "print(\"\\n\\t4.1. Cálculo de Precio por Viajero\")\n",
    "print(\"\\n\\t\\tProceso iniciado\")"
   ]
  },
  {
   "cell_type": "code",
   "execution_count": 56,
   "id": "4f493461",
   "metadata": {},
   "outputs": [],
   "source": [
    "# Limpiar el precio y convertirlo a float\n",
    "def extraer_precio(precio_str):\n",
    "    if isinstance(precio_str, str) and '€' in precio_str:\n",
    "        try:\n",
    "            numero = precio_str.split(' ')[0].replace('.', '').replace(',', '.')\n",
    "            return float(numero)\n",
    "        except ValueError:\n",
    "            return None\n",
    "    return None\n",
    "\n",
    "df['Precio por Noche por Viajero'] = df['Precio por Noche'].apply(lambda x: extraer_precio(x) / numero_adultos if extraer_precio(x) is not None else \"No Disponible\")\n",
    "\n",
    "df['Precio Total por Viajero'] = df['Precio Total'].apply(lambda x: extraer_precio(x) / numero_adultos if extraer_precio(x) is not None else \"No Disponible\")\n",
    "                                                          \n",
    "df = df[['Nombre', 'Precio por Noche', 'Precio por Noche por Viajero', 'Precio Total', 'Precio Total por Viajero', 'Latitud', 'Longitud', 'Servicios', 'URL']]"
   ]
  },
  {
   "cell_type": "code",
   "execution_count": 57,
   "id": "bd3c8508",
   "metadata": {},
   "outputs": [
    {
     "name": "stdout",
     "output_type": "stream",
     "text": [
      "\n",
      "\t\tProceso finalizado\n"
     ]
    }
   ],
   "source": [
    "print(\"\\n\\t\\tProceso finalizado\")"
   ]
  },
  {
   "cell_type": "markdown",
   "id": "f0a37349",
   "metadata": {},
   "source": [
    "### **4.2. Eliminación de Filas No Disponibles**"
   ]
  },
  {
   "cell_type": "code",
   "execution_count": 58,
   "id": "cdfd7d2d",
   "metadata": {},
   "outputs": [
    {
     "name": "stdout",
     "output_type": "stream",
     "text": [
      "\n",
      "\t4.2. Eliminación de Filas No Disponibles\n",
      "\n",
      "\t\tProceso iniciado\n"
     ]
    }
   ],
   "source": [
    "print(\"\\n\\t4.2. Eliminación de Filas No Disponibles\")\n",
    "print(\"\\n\\t\\tProceso iniciado\")"
   ]
  },
  {
   "cell_type": "code",
   "execution_count": 59,
   "id": "d81d9673",
   "metadata": {},
   "outputs": [],
   "source": [
    "indices = df[df.eq(\"No Disponible\").any(axis=1)].index.tolist()\n",
    "df = df.drop(indices)\n",
    "df = df.reset_index(drop=True)"
   ]
  },
  {
   "cell_type": "code",
   "execution_count": 60,
   "id": "b844c518",
   "metadata": {},
   "outputs": [
    {
     "name": "stdout",
     "output_type": "stream",
     "text": [
      "\n",
      "\t\tProceso finalizado\n"
     ]
    }
   ],
   "source": [
    "print(\"\\n\\t\\tProceso finalizado\")"
   ]
  },
  {
   "cell_type": "markdown",
   "id": "05bfca62",
   "metadata": {},
   "source": [
    "### **4.3. Formateo de Servicios con Viñetas**"
   ]
  },
  {
   "cell_type": "code",
   "execution_count": 61,
   "id": "e9641bab",
   "metadata": {},
   "outputs": [
    {
     "name": "stdout",
     "output_type": "stream",
     "text": [
      "\n",
      "\t4.3. Formateo de Servicios con Viñetas\n",
      "\n",
      "\t\tProceso iniciado\n"
     ]
    }
   ],
   "source": [
    "print(\"\\n\\t4.3. Formateo de Servicios con Viñetas\")\n",
    "print(\"\\n\\t\\tProceso iniciado\")"
   ]
  },
  {
   "cell_type": "code",
   "execution_count": 62,
   "id": "6a9bc369",
   "metadata": {},
   "outputs": [],
   "source": [
    "# Formatear los servicios con viñetas\n",
    "def formatear_servicios(servicios):\n",
    "    if servicios and isinstance(servicios, str):\n",
    "        return \"\\n\".join([f\"- {servicio.strip()}\" for servicio in servicios.split(\",\") if servicio.strip()])\n",
    "    return \"No disponible\"\n",
    "\n",
    "df['Servicios'] = df['Servicios'].apply(formatear_servicios)"
   ]
  },
  {
   "cell_type": "code",
   "execution_count": 63,
   "id": "b455410b",
   "metadata": {},
   "outputs": [
    {
     "name": "stdout",
     "output_type": "stream",
     "text": [
      "\n",
      "\t\tProceso finalizado\n"
     ]
    }
   ],
   "source": [
    "print(\"\\n\\t\\tProceso finalizado\")"
   ]
  },
  {
   "cell_type": "markdown",
   "id": "e9f7b849",
   "metadata": {},
   "source": [
    "### **4.4. Aproximación y Redondeo de Precios**"
   ]
  },
  {
   "cell_type": "code",
   "execution_count": 64,
   "id": "dc0ad95b",
   "metadata": {},
   "outputs": [
    {
     "name": "stdout",
     "output_type": "stream",
     "text": [
      "\n",
      "\t4.4. Aproximación y Redondeo de Precios\n",
      "\n",
      "\t\tProceso iniciado\n"
     ]
    }
   ],
   "source": [
    "print(\"\\n\\t4.4. Aproximación y Redondeo de Precios\")\n",
    "print(\"\\n\\t\\tProceso iniciado\")"
   ]
  },
  {
   "cell_type": "code",
   "execution_count": 65,
   "id": "d1cc7842",
   "metadata": {},
   "outputs": [],
   "source": [
    "columnas_a_redondear = ['Precio por Noche por Viajero', 'Precio Total por Viajero']\n",
    "\n",
    "for columna in columnas_a_redondear:\n",
    "    # Aseguramos que son numéricos\n",
    "    df[columna] = pd.to_numeric(df[columna], errors='coerce')\n",
    "    \n",
    "    # Redondeamos hacia arriba y convertimos a enteros\n",
    "    df[columna] = np.ceil(df[columna]).astype(float)"
   ]
  },
  {
   "cell_type": "code",
   "execution_count": 66,
   "id": "58fe19ed",
   "metadata": {},
   "outputs": [
    {
     "name": "stdout",
     "output_type": "stream",
     "text": [
      "\n",
      "\t\tProceso finalizado\n"
     ]
    }
   ],
   "source": [
    "print(\"\\n\\t\\tProceso finalizado\")"
   ]
  },
  {
   "cell_type": "markdown",
   "id": "a9366807",
   "metadata": {},
   "source": [
    "### **4.5. Conversión de Datos Económicos a Datos Numéricos**"
   ]
  },
  {
   "cell_type": "code",
   "execution_count": 67,
   "id": "4d23c479",
   "metadata": {},
   "outputs": [
    {
     "name": "stdout",
     "output_type": "stream",
     "text": [
      "\n",
      "\t4.5. Conversión de Datos Económicos a Datos Numéricos\n",
      "\n",
      "\t\tProceso iniciado\n"
     ]
    }
   ],
   "source": [
    "print(\"\\n\\t4.5. Conversión de Datos Económicos a Datos Numéricos\")\n",
    "print(\"\\n\\t\\tProceso iniciado\")"
   ]
  },
  {
   "cell_type": "code",
   "execution_count": 68,
   "id": "4482ef9f",
   "metadata": {},
   "outputs": [],
   "source": [
    "# Función para limpiar y convertir los precios a float\n",
    "def convertir_a_entero(precio):\n",
    "    if isinstance(precio, str):\n",
    "        return int(precio.replace(\"€\", \"\").replace(\".\", \"\").replace(\",\", \".\").strip())\n",
    "    return precio\n",
    "\n",
    "# Aplicar la función a las columnas correspondientes\n",
    "df[\"Precio por Noche\"] = df[\"Precio por Noche\"].apply(convertir_a_entero)\n",
    "df[\"Precio Total\"] = df[\"Precio Total\"].apply(convertir_a_entero)\n",
    "df[\"Precio por Noche por Viajero\"] = pd.to_numeric(df[\"Precio por Noche por Viajero\"]).astype(int)\n",
    "df[\"Precio Total por Viajero\"] = pd.to_numeric(df[\"Precio Total por Viajero\"]).astype(int)"
   ]
  },
  {
   "cell_type": "code",
   "execution_count": 69,
   "id": "9c0dc589",
   "metadata": {},
   "outputs": [
    {
     "name": "stdout",
     "output_type": "stream",
     "text": [
      "\n",
      "\t\tProceso finalizado\n"
     ]
    }
   ],
   "source": [
    "print(\"\\n\\t\\tProceso finalizado\")"
   ]
  },
  {
   "cell_type": "markdown",
   "id": "8091d4d7",
   "metadata": {},
   "source": [
    "### **4.6. Capitalización de Nombre de los Títulos**"
   ]
  },
  {
   "cell_type": "code",
   "execution_count": 70,
   "id": "7929a754",
   "metadata": {},
   "outputs": [
    {
     "name": "stdout",
     "output_type": "stream",
     "text": [
      "\n",
      "\t4.6. Capitalización de Nombre de los Títulos\n",
      "\n",
      "\t\tProceso iniciado\n"
     ]
    }
   ],
   "source": [
    "print(\"\\n\\t4.6. Capitalización de Nombre de los Títulos\")\n",
    "print(\"\\n\\t\\tProceso iniciado\")"
   ]
  },
  {
   "cell_type": "code",
   "execution_count": 71,
   "id": "0a75b8b9",
   "metadata": {},
   "outputs": [],
   "source": [
    "df['Nombre'] = df['Nombre'].str.title()"
   ]
  },
  {
   "cell_type": "code",
   "execution_count": 72,
   "id": "25cb2f8b",
   "metadata": {},
   "outputs": [
    {
     "name": "stdout",
     "output_type": "stream",
     "text": [
      "\n",
      "\t\tProceso finalizado\n"
     ]
    }
   ],
   "source": [
    "print(\"\\n\\t\\tProceso finalizado\")"
   ]
  },
  {
   "cell_type": "markdown",
   "id": "3e3918fd",
   "metadata": {},
   "source": [
    "## **5. Interpretación de Datos**"
   ]
  },
  {
   "cell_type": "code",
   "execution_count": 73,
   "id": "2e1e133b",
   "metadata": {},
   "outputs": [
    {
     "name": "stdout",
     "output_type": "stream",
     "text": [
      "\n",
      "5. Interpretación de Datos\n"
     ]
    }
   ],
   "source": [
    "print(\"\\n5. Interpretación de Datos\")"
   ]
  },
  {
   "cell_type": "markdown",
   "id": "33dcecc7",
   "metadata": {},
   "source": [
    "### **5.1. Análisis Económico**"
   ]
  },
  {
   "cell_type": "code",
   "execution_count": 74,
   "id": "8ea4c426",
   "metadata": {},
   "outputs": [
    {
     "name": "stdout",
     "output_type": "stream",
     "text": [
      "\n",
      "\t5.1. Análisis Económico\n"
     ]
    }
   ],
   "source": [
    "print(\"\\n\\t5.1. Análisis Económico\")"
   ]
  },
  {
   "cell_type": "markdown",
   "id": "6dfe8918",
   "metadata": {},
   "source": [
    "#### **5.1.1. Medias de los Precios**"
   ]
  },
  {
   "cell_type": "code",
   "execution_count": 75,
   "id": "461e78b2",
   "metadata": {},
   "outputs": [
    {
     "name": "stdout",
     "output_type": "stream",
     "text": [
      "\n",
      "\t\t5.1.1. Medias de los Precios\n",
      "\n",
      "\t\t\tProceso iniciado\n"
     ]
    }
   ],
   "source": [
    "print(\"\\n\\t\\t5.1.1. Medias de los Precios\")\n",
    "print(\"\\n\\t\\t\\tProceso iniciado\")"
   ]
  },
  {
   "cell_type": "code",
   "execution_count": 76,
   "id": "41b4909b",
   "metadata": {},
   "outputs": [],
   "source": [
    "media_precio_noche = df['Precio por Noche'].mean()\n",
    "media_precio_noche_viajero = df['Precio por Noche por Viajero'].mean()\n",
    "media_precio_total = df['Precio Total'].mean()\n",
    "media_precio_total_viajero = df['Precio Total por Viajero'].mean()\n",
    "\n",
    "medias = (\n",
    "    f\"Medias de los Precios de Alojamientos en {ciudad}:\\n\"\n",
    "    f\"----------------------------------------\\n\"\n",
    "    f\"Media del Precio por Noche: {media_precio_noche:.2f} €\\n\"\n",
    "    f\"Media del Precio por Noche por Viajero: {media_precio_noche_viajero:.2f} €\\n\"\n",
    "    f\"Media del Precio Total: {media_precio_total:.2f} €\\n\"\n",
    "    f\"Media del Precio Total por Viajero: {media_precio_total_viajero:.2f} €\\n\"\n",
    ")"
   ]
  },
  {
   "cell_type": "code",
   "execution_count": 77,
   "id": "199ecf4b",
   "metadata": {},
   "outputs": [
    {
     "name": "stdout",
     "output_type": "stream",
     "text": [
      "\n",
      "\t\t\tProceso finalizado\n"
     ]
    }
   ],
   "source": [
    "print(\"\\n\\t\\t\\tProceso finalizado\")"
   ]
  },
  {
   "cell_type": "markdown",
   "id": "d1b449fc",
   "metadata": {},
   "source": [
    "#### **5.1.2. Medianas de los Precios**"
   ]
  },
  {
   "cell_type": "code",
   "execution_count": 78,
   "id": "968c7850",
   "metadata": {},
   "outputs": [
    {
     "name": "stdout",
     "output_type": "stream",
     "text": [
      "\n",
      "\t\t5.1.2. Medianas de los Precios\n",
      "\n",
      "\t\t\tProceso iniciado\n"
     ]
    }
   ],
   "source": [
    "print(\"\\n\\t\\t5.1.2. Medianas de los Precios\")\n",
    "print(\"\\n\\t\\t\\tProceso iniciado\")"
   ]
  },
  {
   "cell_type": "code",
   "execution_count": 79,
   "id": "44bc7a0c",
   "metadata": {},
   "outputs": [],
   "source": [
    "mediana_precio_noche = df['Precio por Noche'].median()\n",
    "mediana_precio_noche_viajero = df['Precio por Noche por Viajero'].median()\n",
    "mediana_precio_total = df['Precio Total'].median()\n",
    "mediana_precio_total_viajero = df['Precio Total por Viajero'].median()\n",
    "\n",
    "medianas = (\n",
    "    f\"Medianas de los Precios de Alojamientos en {ciudad}:\\n\"\n",
    "    f\"----------------------------------------\\n\"\n",
    "    f\"Mediana del Precio por Noche: {mediana_precio_noche:.2f} €\\n\"\n",
    "    f\"Mediana del Precio por Noche por Viajero: {mediana_precio_noche_viajero:.2f} €\\n\"\n",
    "    f\"Mediana del Precio Total: {mediana_precio_total:.2f} €\\n\"\n",
    "    f\"Mediana del Precio Total por Viajero: {mediana_precio_total_viajero:.2f} €\\n\"\n",
    ")"
   ]
  },
  {
   "cell_type": "code",
   "execution_count": 80,
   "id": "cd62acc0",
   "metadata": {},
   "outputs": [
    {
     "name": "stdout",
     "output_type": "stream",
     "text": [
      "\n",
      "\t\t\tProceso finalizado\n"
     ]
    }
   ],
   "source": [
    "print(\"\\n\\t\\t\\tProceso finalizado\")"
   ]
  },
  {
   "cell_type": "markdown",
   "id": "bc400419",
   "metadata": {},
   "source": [
    "#### **5.1.3. Desviaciones Estándar de los Precios**"
   ]
  },
  {
   "cell_type": "code",
   "execution_count": 81,
   "id": "eb80885e",
   "metadata": {},
   "outputs": [
    {
     "name": "stdout",
     "output_type": "stream",
     "text": [
      "\n",
      "\t\t5.1.3. Desviaciones Estándar de los Precios\n",
      "\n",
      "\t\t\tProceso iniciado\n"
     ]
    }
   ],
   "source": [
    "print(\"\\n\\t\\t5.1.3. Desviaciones Estándar de los Precios\")\n",
    "print(\"\\n\\t\\t\\tProceso iniciado\")"
   ]
  },
  {
   "cell_type": "code",
   "execution_count": 82,
   "id": "74ba9e6c",
   "metadata": {},
   "outputs": [],
   "source": [
    "desviacion_precio_noche = df['Precio por Noche'].std()\n",
    "desviacion_precio_noche_viajero = df['Precio por Noche por Viajero'].std()\n",
    "desviacion_precio_total = df['Precio Total'].std()\n",
    "desviacion_precio_total_viajero = df['Precio Total por Viajero'].std()\n",
    "\n",
    "desviaciones_tipicas = (\n",
    "    f\"Desviaciones Típicas de los Precios de Alojamientos en {ciudad}:\\n\"\n",
    "    f\"----------------------------------------\\n\"\n",
    "    f\"Desviación Estándar del Precio por Noche: {desviacion_precio_noche:.2f} €\\n\"\n",
    "    f\"Desviación Estándar del Precio por Noche por Viajero: {desviacion_precio_noche_viajero:.2f} €\\n\"\n",
    "    f\"Desviación Estándar del Precio Total: {desviacion_precio_total:.2f} €\\n\"\n",
    "    f\"Desviación Estándar del Precio Total por Viajero: {desviacion_precio_total_viajero:.2f} €\\n\"\n",
    ")"
   ]
  },
  {
   "cell_type": "code",
   "execution_count": 83,
   "id": "999cf0f2",
   "metadata": {},
   "outputs": [
    {
     "name": "stdout",
     "output_type": "stream",
     "text": [
      "\n",
      "\t\t\tProceso finalizado\n"
     ]
    }
   ],
   "source": [
    "print(\"\\n\\t\\t\\tProceso finalizado\")"
   ]
  },
  {
   "cell_type": "markdown",
   "id": "7678bd31",
   "metadata": {},
   "source": [
    "#### **5.1.4. Modas de los Precios**"
   ]
  },
  {
   "cell_type": "code",
   "execution_count": 84,
   "id": "433e0ae4",
   "metadata": {},
   "outputs": [
    {
     "name": "stdout",
     "output_type": "stream",
     "text": [
      "\n",
      "\t\t5.1.4. Modas de los Precios\n",
      "\n",
      "\t\t\tProceso iniciado\n"
     ]
    }
   ],
   "source": [
    "print(\"\\n\\t\\t5.1.4. Modas de los Precios\")\n",
    "print(\"\\n\\t\\t\\tProceso iniciado\")"
   ]
  },
  {
   "cell_type": "code",
   "execution_count": 85,
   "id": "d947f2be",
   "metadata": {},
   "outputs": [],
   "source": [
    "moda_precio_noche = df['Precio por Noche'].mode()[0]\n",
    "df['Moda Precio por Noche'] = df['Precio por Noche'].apply(lambda x: 'X' if x == moda_precio_noche else '')\n",
    "\n",
    "moda_precio_noche_viajero = df['Precio por Noche por Viajero'].mode()[0]\n",
    "df['Moda Precio por Noche por Viajero'] = df['Precio por Noche por Viajero'].apply(lambda x: 'X' if x == moda_precio_noche_viajero else '')\n",
    "\n",
    "moda_precio_total = df['Precio Total'].mode()[0]\n",
    "df['Moda Precio Total'] = df['Precio Total'].apply(lambda x: 'X' if x == moda_precio_total else '')\n",
    "\n",
    "moda_precio_total_viajero = df['Precio Total por Viajero'].mode()[0]\n",
    "df['Moda Precio Total por Viajero'] = df['Precio Total por Viajero'].apply(lambda x: 'X' if x == moda_precio_total_viajero else '')"
   ]
  },
  {
   "cell_type": "code",
   "execution_count": 86,
   "id": "0c6b40ea",
   "metadata": {},
   "outputs": [
    {
     "name": "stdout",
     "output_type": "stream",
     "text": [
      "\n",
      "\t\t\tProceso finalizado\n"
     ]
    }
   ],
   "source": [
    "print(\"\\n\\t\\t\\tProceso finalizado\")"
   ]
  },
  {
   "cell_type": "markdown",
   "id": "9f93128c",
   "metadata": {},
   "source": [
    "#### **5.1.5. Precios Máximos**"
   ]
  },
  {
   "cell_type": "code",
   "execution_count": 87,
   "id": "06eab292",
   "metadata": {},
   "outputs": [
    {
     "name": "stdout",
     "output_type": "stream",
     "text": [
      "\n",
      "\t\t5.1.5. Precios Máximos\n",
      "\n",
      "\t\t\tProceso iniciado\n"
     ]
    }
   ],
   "source": [
    "print(\"\\n\\t\\t5.1.5. Precios Máximos\")\n",
    "print(\"\\n\\t\\t\\tProceso iniciado\")"
   ]
  },
  {
   "cell_type": "code",
   "execution_count": 88,
   "id": "dc138bab",
   "metadata": {},
   "outputs": [],
   "source": [
    "maximo_precio_noche = df['Precio por Noche'].max()\n",
    "df['Máximo Precio por Noche'] = df['Precio por Noche'].apply(lambda x: 'X' if x == maximo_precio_noche else '')\n",
    "\n",
    "maximo_precio_noche_viajero = df['Precio por Noche por Viajero'].max()\n",
    "df['Máximo Precio por Noche por Viajero'] = df['Precio por Noche por Viajero'].apply(lambda x: 'X' if x == maximo_precio_noche_viajero else '')\n",
    "\n",
    "maximo_precio_total = df['Precio Total'].max()\n",
    "df['Máximo Precio Total'] = df['Precio Total'].apply(lambda x: 'X' if x == maximo_precio_total else '')\n",
    "\n",
    "maximo_precio_total_viajero = df['Precio Total por Viajero'].max()\n",
    "df['Máximo Precio Total por Viajero'] = df['Precio Total por Viajero'].apply(lambda x: 'X' if x == maximo_precio_total_viajero else '')"
   ]
  },
  {
   "cell_type": "code",
   "execution_count": 89,
   "id": "df0ca452",
   "metadata": {},
   "outputs": [
    {
     "name": "stdout",
     "output_type": "stream",
     "text": [
      "\n",
      "\t\t\tProceso finalizado\n"
     ]
    }
   ],
   "source": [
    "print(\"\\n\\t\\t\\tProceso finalizado\")"
   ]
  },
  {
   "cell_type": "markdown",
   "id": "797fc575",
   "metadata": {},
   "source": [
    "#### **5.1.6. Precios Mínimos**"
   ]
  },
  {
   "cell_type": "code",
   "execution_count": 90,
   "id": "7ff9a1a2",
   "metadata": {},
   "outputs": [
    {
     "name": "stdout",
     "output_type": "stream",
     "text": [
      "\n",
      "\t\t5.1.6. Precios Mínimos\n",
      "\n",
      "\t\t\tProceso iniciado\n"
     ]
    }
   ],
   "source": [
    "print(\"\\n\\t\\t5.1.6. Precios Mínimos\")\n",
    "print(\"\\n\\t\\t\\tProceso iniciado\")"
   ]
  },
  {
   "cell_type": "code",
   "execution_count": 91,
   "id": "0e7f616d",
   "metadata": {},
   "outputs": [],
   "source": [
    "minimo_precio_noche = df['Precio por Noche'].min()\n",
    "df['Mínimo Precio por Noche'] = df['Precio por Noche'].apply(lambda x: 'X' if x == minimo_precio_noche else '')\n",
    "\n",
    "minimo_precio_noche_viajero = df['Precio por Noche por Viajero'].min()\n",
    "df['Mínimo Precio por Noche por Viajero'] = df['Precio por Noche por Viajero'].apply(lambda x: 'X' if x == minimo_precio_noche_viajero else '')\n",
    "\n",
    "minimo_precio_total = df['Precio Total'].min()\n",
    "df['Mínimo Precio Total'] = df['Precio Total'].apply(lambda x: 'X' if x == minimo_precio_total else '')\n",
    "\n",
    "minimo_precio_total_viajero = df['Precio Total por Viajero'].min()\n",
    "df['Mínimo Precio Total por Viajero'] = df['Precio Total por Viajero'].apply(lambda x: 'X' if x == minimo_precio_total_viajero else '')"
   ]
  },
  {
   "cell_type": "code",
   "execution_count": 92,
   "id": "c0883772",
   "metadata": {},
   "outputs": [
    {
     "name": "stdout",
     "output_type": "stream",
     "text": [
      "\n",
      "\t\t\tProceso finalizado\n"
     ]
    }
   ],
   "source": [
    "print(\"\\n\\t\\t\\tProceso finalizado\")"
   ]
  },
  {
   "cell_type": "markdown",
   "id": "b7dd74b5",
   "metadata": {},
   "source": [
    "#### **5.1.7. Representación Gráfica de Precios**"
   ]
  },
  {
   "cell_type": "code",
   "execution_count": 93,
   "id": "991860f0",
   "metadata": {},
   "outputs": [
    {
     "name": "stdout",
     "output_type": "stream",
     "text": [
      "\n",
      "\t\t5.1.7. Representación Gráfica de Precios\n"
     ]
    }
   ],
   "source": [
    "print(\"\\n\\t\\t5.1.7. Representación Gráfica de Precios\")"
   ]
  },
  {
   "cell_type": "markdown",
   "id": "5cdb4498",
   "metadata": {},
   "source": [
    "##### **5.1.7.1. Histogramas**"
   ]
  },
  {
   "cell_type": "code",
   "execution_count": 94,
   "id": "49a43365",
   "metadata": {},
   "outputs": [
    {
     "name": "stdout",
     "output_type": "stream",
     "text": [
      "\n",
      "\t\t\t5.1.7.1. Histogramas\n",
      "\n",
      "\t\t\t\tProceso iniciado\n"
     ]
    }
   ],
   "source": [
    "print(\"\\n\\t\\t\\t5.1.7.1. Histogramas\")\n",
    "print(\"\\n\\t\\t\\t\\tProceso iniciado\")"
   ]
  },
  {
   "cell_type": "code",
   "execution_count": 95,
   "id": "759993ea",
   "metadata": {},
   "outputs": [],
   "source": [
    "fig, axes = plt.subplots(2, 2, figsize=(15, 10))\n",
    "\n",
    "# Histograma de Precios por Noche\n",
    "sns.histplot(df['Precio por Noche'], bins=20, color='blue', kde=True, ax=axes[0, 0])\n",
    "axes[0, 0].set_title('Histograma de Precios por Noche')\n",
    "axes[0, 0].set_xlabel('Precio por Noche (€)')\n",
    "axes[0, 0].set_ylabel('Frecuencia')\n",
    "\n",
    "# Histograma de Precios por Noche por Viajero\n",
    "sns.histplot(df['Precio por Noche por Viajero'], bins=20, color='blue', kde=True, ax=axes[0, 1])\n",
    "axes[0, 1].set_title('Histograma de Precios por Noche por Viajero')\n",
    "axes[0, 1].set_xlabel('Precio por Noche por Viajero (€)')\n",
    "axes[0, 1].set_ylabel('Frecuencia')\n",
    "\n",
    "# Histograma de Precios Totales\n",
    "sns.histplot(df['Precio Total'], bins=20, color='blue', kde=True, ax=axes[1, 0])\n",
    "axes[1, 0].set_title('Histograma de Precios Totales')\n",
    "axes[1, 0].set_xlabel('Precio Total (€)')\n",
    "axes[1, 0].set_ylabel('Frecuencia')\n",
    "\n",
    "# Histograma de Precios Totales por Viajero\n",
    "sns.histplot(df['Precio Total por Viajero'], bins=20, color='blue', kde=True, ax=axes[1, 1])\n",
    "axes[1, 1].set_title('Histograma de Precios Totales por Viajero')\n",
    "axes[1, 1].set_xlabel('Precio Total por Viajero (€)')\n",
    "axes[1, 1].set_ylabel('Frecuencia')\n",
    "\n",
    "plt.tight_layout()\n",
    "plt.savefig(f'output/{ciudad}. {numero_total_personas} Personas. {fecha_entrada_str} | {fecha_salida_str}/Análisis Económico/Histograma/Histograma - {ciudad}.png')\n",
    "plt.close(fig)"
   ]
  },
  {
   "cell_type": "code",
   "execution_count": 96,
   "id": "1cc5da64",
   "metadata": {},
   "outputs": [
    {
     "name": "stdout",
     "output_type": "stream",
     "text": [
      "\n",
      "\t\t\t\tProceso finalizado\n"
     ]
    }
   ],
   "source": [
    "print(\"\\n\\t\\t\\t\\tProceso finalizado\")"
   ]
  },
  {
   "cell_type": "markdown",
   "id": "3afb0ed8",
   "metadata": {},
   "source": [
    "##### **5.1.7.2. Diagramas de Caja**"
   ]
  },
  {
   "cell_type": "code",
   "execution_count": 97,
   "id": "7a6c3816",
   "metadata": {},
   "outputs": [
    {
     "name": "stdout",
     "output_type": "stream",
     "text": [
      "\n",
      "\t\t\t5.1.7.2. Diagramas de Caja\n",
      "\n",
      "\t\t\t\tProceso iniciado\n"
     ]
    }
   ],
   "source": [
    "print(\"\\n\\t\\t\\t5.1.7.2. Diagramas de Caja\")\n",
    "print(\"\\n\\t\\t\\t\\tProceso iniciado\")"
   ]
  },
  {
   "cell_type": "code",
   "execution_count": 98,
   "id": "176c87d5",
   "metadata": {},
   "outputs": [],
   "source": [
    "fig, axes = plt.subplots(2, 2, figsize=(15, 10))\n",
    "\n",
    "# Diagrama de caja de Precios por Noche\n",
    "sns.boxplot(data=df, y='Precio por Noche', ax=axes[0, 0], color='blue')\n",
    "axes[0, 0].set_title('Diagrama de Caja de Precios por Noche')\n",
    "axes[0, 0].set_ylabel('Precio por Noche (€)')\n",
    "\n",
    "# Diagrama de caja de Precios por Noche por Viajero\n",
    "sns.boxplot(data=df, y='Precio por Noche por Viajero', ax=axes[0, 1], color='blue')\n",
    "axes[0, 1].set_title('Diagrama de Caja de Precios por Noche por Viajero')\n",
    "axes[0, 1].set_ylabel('Precio por Noche por Viajero (€)')\n",
    "\n",
    "# Diagrama de caja de Precios Totales\n",
    "sns.boxplot(data=df, y='Precio Total', ax=axes[1, 0], color='blue')\n",
    "axes[1, 0].set_title('Diagrama de Caja de Precios Totales')\n",
    "axes[1, 0].set_ylabel('Precio Total (€)')\n",
    "\n",
    "# Diagrama de caja de Precios Totales por Viajero\n",
    "sns.boxplot(data=df, y='Precio Total por Viajero', ax=axes[1, 1], color='blue')\n",
    "axes[1, 1].set_title('Diagrama de Caja de Precios Totales por Viajero')\n",
    "axes[1, 1].set_ylabel('Precio Total por Viajero (€)')\n",
    "\n",
    "plt.tight_layout()\n",
    "plt.savefig(f'output/{ciudad}. {numero_total_personas} Personas. {fecha_entrada_str} | {fecha_salida_str}/Análisis Económico/Diagrama de Cajas/Diagrama Caja - {ciudad}.png')\n",
    "plt.close(fig)"
   ]
  },
  {
   "cell_type": "code",
   "execution_count": 99,
   "id": "8c42f68f",
   "metadata": {},
   "outputs": [
    {
     "name": "stdout",
     "output_type": "stream",
     "text": [
      "\n",
      "\t\t\t\tProceso finalizado\n"
     ]
    }
   ],
   "source": [
    "print(\"\\n\\t\\t\\t\\tProceso finalizado\")"
   ]
  },
  {
   "cell_type": "markdown",
   "id": "7ed20de9",
   "metadata": {},
   "source": [
    "### **5.2. Análisis de Servicios**"
   ]
  },
  {
   "cell_type": "code",
   "execution_count": 100,
   "id": "58efabf3",
   "metadata": {},
   "outputs": [
    {
     "name": "stdout",
     "output_type": "stream",
     "text": [
      "\n",
      "\t5.2. Análisis de Servicios\n"
     ]
    }
   ],
   "source": [
    "print(\"\\n\\t5.2. Análisis de Servicios\")"
   ]
  },
  {
   "cell_type": "markdown",
   "id": "e77ec57b",
   "metadata": {},
   "source": [
    "#### **5.2.1. Extracción de los Servicios**"
   ]
  },
  {
   "cell_type": "code",
   "execution_count": 101,
   "id": "8f525b4f",
   "metadata": {},
   "outputs": [
    {
     "name": "stdout",
     "output_type": "stream",
     "text": [
      "\n",
      "\t\t5.2.1. Extracción de los Servicios\n",
      "\n",
      "\t\t\tProceso iniciado\n"
     ]
    }
   ],
   "source": [
    "print(\"\\n\\t\\t5.2.1. Extracción de los Servicios\")\n",
    "print(\"\\n\\t\\t\\tProceso iniciado\")"
   ]
  },
  {
   "cell_type": "code",
   "execution_count": 102,
   "id": "67ccab81",
   "metadata": {},
   "outputs": [],
   "source": [
    "# Copiamos solo la columna de servicios para trabajar\n",
    "servicios_raw = df['Servicios'].dropna().copy()\n",
    "\n",
    "def extraer_servicios(servicio_str):\n",
    "    lineas = servicio_str.strip().split('\\n')\n",
    "    servicios_ok = []\n",
    "    \n",
    "    for linea in lineas:\n",
    "        linea = linea.strip().lstrip('- ').strip()\n",
    "        if linea.startswith(\"No disponible:\"):\n",
    "            continue\n",
    "        servicios_ok.append(linea)\n",
    "    \n",
    "    return servicios_ok\n",
    "\n",
    "# Aplicamos a cada alojamiento para obtener listas de servicios\n",
    "listas_de_servicios = servicios_raw.apply(extraer_servicios)\n",
    "\n",
    "# Aplanamos todas las listas en una sola\n",
    "todos_los_servicios = [servicio for sublist in listas_de_servicios for servicio in sublist]"
   ]
  },
  {
   "cell_type": "code",
   "execution_count": 103,
   "id": "cf5257cb",
   "metadata": {},
   "outputs": [
    {
     "name": "stdout",
     "output_type": "stream",
     "text": [
      "\n",
      "\t\t\tProceso finalizado\n"
     ]
    }
   ],
   "source": [
    "print(\"\\n\\t\\t\\tProceso finalizado\")"
   ]
  },
  {
   "cell_type": "markdown",
   "id": "7f6d38d4",
   "metadata": {},
   "source": [
    "#### **5.2.2. Contamos las Frecuencias de los Servicios**"
   ]
  },
  {
   "cell_type": "code",
   "execution_count": 104,
   "id": "5066b572",
   "metadata": {},
   "outputs": [
    {
     "name": "stdout",
     "output_type": "stream",
     "text": [
      "\n",
      "\t\t5.2.2. Contamos las Frecuencias de los Servicios\n",
      "\n",
      "\t\t\tProceso iniciado\n"
     ]
    }
   ],
   "source": [
    "print(\"\\n\\t\\t5.2.2. Contamos las Frecuencias de los Servicios\")\n",
    "print(\"\\n\\t\\t\\tProceso iniciado\")"
   ]
  },
  {
   "cell_type": "code",
   "execution_count": 105,
   "id": "84d33f89",
   "metadata": {},
   "outputs": [],
   "source": [
    "frecuencias_servicios = Counter(todos_los_servicios)"
   ]
  },
  {
   "cell_type": "code",
   "execution_count": 106,
   "id": "7c2493c5",
   "metadata": {},
   "outputs": [
    {
     "name": "stdout",
     "output_type": "stream",
     "text": [
      "\n",
      "\t\t\tProceso finalizado\n"
     ]
    }
   ],
   "source": [
    "print(\"\\n\\t\\t\\tProceso finalizado\")"
   ]
  },
  {
   "cell_type": "markdown",
   "id": "597d77ba",
   "metadata": {},
   "source": [
    "#### **5.2.3. Creación de un Dataframe de los Servicios**"
   ]
  },
  {
   "cell_type": "code",
   "execution_count": 107,
   "id": "a58f3d4f",
   "metadata": {},
   "outputs": [
    {
     "name": "stdout",
     "output_type": "stream",
     "text": [
      "\n",
      "\t\t5.2.3. Creación de un Dataframe de los Servicios\n",
      "\n",
      "\t\t\tProceso iniciado\n"
     ]
    }
   ],
   "source": [
    "print(\"\\n\\t\\t5.2.3. Creación de un Dataframe de los Servicios\")\n",
    "print(\"\\n\\t\\t\\tProceso iniciado\")"
   ]
  },
  {
   "cell_type": "code",
   "execution_count": 108,
   "id": "75b4d7e6",
   "metadata": {},
   "outputs": [],
   "source": [
    "servicios_df = pd.DataFrame(frecuencias_servicios.items(), columns=['Servicio', 'Frecuencia'])\n",
    "servicios_df = servicios_df.sort_values(by='Frecuencia', ascending=False)"
   ]
  },
  {
   "cell_type": "code",
   "execution_count": 109,
   "id": "d428ceeb",
   "metadata": {},
   "outputs": [
    {
     "name": "stdout",
     "output_type": "stream",
     "text": [
      "\n",
      "\t\t\tProceso finalizado\n"
     ]
    }
   ],
   "source": [
    "print(\"\\n\\t\\t\\tProceso finalizado\")"
   ]
  },
  {
   "cell_type": "markdown",
   "id": "d7f74f9a",
   "metadata": {},
   "source": [
    "#### **5.2.4. Representación Gráfica de los Servicios**"
   ]
  },
  {
   "cell_type": "code",
   "execution_count": 110,
   "id": "c3a76ada",
   "metadata": {},
   "outputs": [
    {
     "name": "stdout",
     "output_type": "stream",
     "text": [
      "\n",
      "\t\t5.2.4. Representación Gráfica de los Servicios\n",
      "\n",
      "\t\t\tProceso iniciado\n"
     ]
    }
   ],
   "source": [
    "print(\"\\n\\t\\t5.2.4. Representación Gráfica de los Servicios\")\n",
    "print(\"\\n\\t\\t\\tProceso iniciado\")"
   ]
  },
  {
   "cell_type": "code",
   "execution_count": 111,
   "id": "fa4a2763",
   "metadata": {},
   "outputs": [],
   "source": [
    "warnings.simplefilter(action='ignore', category=FutureWarning)\n",
    "plt.figure(figsize=(12, 6))\n",
    "sns.barplot(data=servicios_df.head(20), x='Frecuencia', y='Servicio', palette='crest')\n",
    "plt.title(f'Servicios más comunes en los alojamientos de {ciudad}')\n",
    "plt.xlabel('Número de alojamientos que lo ofrecen')\n",
    "plt.ylabel('Servicio')\n",
    "plt.tight_layout()\n",
    "plt.savefig(f'output/{ciudad}. {numero_total_personas} Personas. {fecha_entrada_str} | {fecha_salida_str}/Análisis de Servicios/Servicios - {ciudad}.png')\n",
    "warnings.simplefilter(action='ignore', category=FutureWarning)\n",
    "plt.close()"
   ]
  },
  {
   "cell_type": "code",
   "execution_count": 112,
   "id": "537c5bef",
   "metadata": {},
   "outputs": [
    {
     "name": "stdout",
     "output_type": "stream",
     "text": [
      "\n",
      "\t\t\tProceso finalizado\n"
     ]
    }
   ],
   "source": [
    "print(\"\\n\\t\\t\\tProceso finalizado\")"
   ]
  },
  {
   "cell_type": "markdown",
   "id": "e16d6288",
   "metadata": {},
   "source": [
    "#### **5.2.5. Cálculo del Número de Servicios por Alojamiento**"
   ]
  },
  {
   "cell_type": "code",
   "execution_count": 113,
   "id": "995f9701",
   "metadata": {},
   "outputs": [
    {
     "name": "stdout",
     "output_type": "stream",
     "text": [
      "\n",
      "\t\t5.2.5. Cálculo del Número de Servicios por Alojamiento\n",
      "\n",
      "\t\t\tProceso iniciado\n"
     ]
    }
   ],
   "source": [
    "print(\"\\n\\t\\t5.2.5. Cálculo del Número de Servicios por Alojamiento\")\n",
    "print(\"\\n\\t\\t\\tProceso iniciado\")"
   ]
  },
  {
   "cell_type": "code",
   "execution_count": 114,
   "id": "4350dcf7",
   "metadata": {},
   "outputs": [],
   "source": [
    "df['Numero de Servicios'] = df['Servicios'].apply(lambda x: len(x.split('\\n')) if isinstance(x, str) else 0)"
   ]
  },
  {
   "cell_type": "code",
   "execution_count": 115,
   "id": "0da3cf42",
   "metadata": {},
   "outputs": [
    {
     "name": "stdout",
     "output_type": "stream",
     "text": [
      "\n",
      "\t\t\tProceso finalizado\n"
     ]
    }
   ],
   "source": [
    "print(\"\\n\\t\\t\\tProceso finalizado\")"
   ]
  },
  {
   "cell_type": "markdown",
   "id": "ad60a923",
   "metadata": {},
   "source": [
    "### **5.3. Análisis Geográfico**"
   ]
  },
  {
   "cell_type": "code",
   "execution_count": 116,
   "id": "370dad99",
   "metadata": {},
   "outputs": [
    {
     "name": "stdout",
     "output_type": "stream",
     "text": [
      "\n",
      "\t5.3. Análisis Geográfico\n"
     ]
    }
   ],
   "source": [
    "print(\"\\n\\t5.3. Análisis Geográfico\")"
   ]
  },
  {
   "cell_type": "markdown",
   "id": "a7bbe69a",
   "metadata": {},
   "source": [
    "##### **5.3.1. Obtener las Coordenadas de Nuestra Ciudad**"
   ]
  },
  {
   "cell_type": "code",
   "execution_count": 117,
   "id": "ed8d137d",
   "metadata": {},
   "outputs": [
    {
     "name": "stdout",
     "output_type": "stream",
     "text": [
      "\n",
      "\t\t5.3.1. Obtener las Coordenadas de Nuestra Ciudad\n",
      "\n",
      "\t\t\tProceso iniciado\n"
     ]
    }
   ],
   "source": [
    "print(\"\\n\\t\\t5.3.1. Obtener las Coordenadas de Nuestra Ciudad\")\n",
    "print(\"\\n\\t\\t\\tProceso iniciado\")"
   ]
  },
  {
   "cell_type": "code",
   "execution_count": 118,
   "id": "893096c0",
   "metadata": {},
   "outputs": [],
   "source": [
    "geolocator = Nominatim(user_agent=\"geoapiEjemplo\")\n",
    "\n",
    "location = geolocator.geocode(f\"{ciudad}, {pais}\")\n",
    "\n",
    "latitud_ciudad = location.latitude\n",
    "longitud_ciudad = location.longitude"
   ]
  },
  {
   "cell_type": "code",
   "execution_count": 119,
   "id": "d325591b",
   "metadata": {},
   "outputs": [
    {
     "name": "stdout",
     "output_type": "stream",
     "text": [
      "\n",
      "\t\t\tProceso finalizado\n"
     ]
    }
   ],
   "source": [
    "print(\"\\n\\t\\t\\tProceso finalizado\")"
   ]
  },
  {
   "cell_type": "markdown",
   "id": "d08e5737",
   "metadata": {},
   "source": [
    "##### **5.3.2. Creación del Mapa**"
   ]
  },
  {
   "cell_type": "code",
   "execution_count": 120,
   "id": "48dec1ed",
   "metadata": {},
   "outputs": [
    {
     "name": "stdout",
     "output_type": "stream",
     "text": [
      "\n",
      "\t\t5.3.2. Creación del Mapa\n",
      "\n",
      "\t\t\tProceso iniciado\n"
     ]
    }
   ],
   "source": [
    "print(\"\\n\\t\\t5.3.2. Creación del Mapa\")\n",
    "print(\"\\n\\t\\t\\tProceso iniciado\")"
   ]
  },
  {
   "cell_type": "code",
   "execution_count": 121,
   "id": "f79c90c9",
   "metadata": {},
   "outputs": [],
   "source": [
    "mapa = folium.Map(location=[latitud_ciudad, longitud_ciudad], zoom_start=13)\n",
    "\n",
    "cluster = MarkerCluster().add_to(mapa) # Agrupador de marcadores"
   ]
  },
  {
   "cell_type": "code",
   "execution_count": 122,
   "id": "dfcbc528",
   "metadata": {},
   "outputs": [
    {
     "name": "stdout",
     "output_type": "stream",
     "text": [
      "\n",
      "\t\t\tProceso finalizado\n"
     ]
    }
   ],
   "source": [
    "print(\"\\n\\t\\t\\tProceso finalizado\")"
   ]
  },
  {
   "cell_type": "markdown",
   "id": "d29715d3",
   "metadata": {},
   "source": [
    "##### **5.3.3. Añadir Elementos Clasificados al Mapa** "
   ]
  },
  {
   "cell_type": "code",
   "execution_count": 123,
   "id": "ef0b30f8",
   "metadata": {},
   "outputs": [
    {
     "name": "stdout",
     "output_type": "stream",
     "text": [
      "\n",
      "\t\t5.3.3. Añadir Elementos Clasificados al Mapa\n",
      "\n",
      "\t\t\tProceso iniciado\n"
     ]
    }
   ],
   "source": [
    "print(\"\\n\\t\\t5.3.3. Añadir Elementos Clasificados al Mapa\")\n",
    "print(\"\\n\\t\\t\\tProceso iniciado\")"
   ]
  },
  {
   "cell_type": "code",
   "execution_count": 124,
   "id": "feefa64e",
   "metadata": {},
   "outputs": [],
   "source": [
    "for _, row in df.iterrows():\n",
    "    tooltip = f\"Nombre: {row['Nombre']} <br> Precio Total: {row['Precio Total']} € <br> Precio Total por Viajero: {row['Precio Total por Viajero']} € <br> Precio por Noche: {row['Precio por Noche']} € <br> Precio por Noche por Viajero: {row['Precio por Noche por Viajero']} €  <br> Número de Servicios: {row['Numero de Servicios']} <br><a href='{row['URL']}' target='_blank'>Ver alojamiento</a>\"\n",
    "    \n",
    "    # Color según precio\n",
    "    if row['Precio por Noche'] < 300:\n",
    "        color = 'green'\n",
    "    elif row['Precio por Noche'] < 600:\n",
    "        color = 'orange'\n",
    "    else:\n",
    "        color = 'red'\n",
    "\n",
    "    folium.CircleMarker(\n",
    "        location=[row['Latitud'], row['Longitud']],\n",
    "        radius=6,\n",
    "        color=color,\n",
    "        fill=True,\n",
    "        fill_opacity=0.7,\n",
    "        popup=folium.Popup(tooltip, max_width=300)\n",
    "    ).add_to(cluster)"
   ]
  },
  {
   "cell_type": "code",
   "execution_count": 125,
   "id": "361e8598",
   "metadata": {},
   "outputs": [
    {
     "name": "stdout",
     "output_type": "stream",
     "text": [
      "\n",
      "\t\t\tProceso finalizado\n"
     ]
    }
   ],
   "source": [
    "print(\"\\n\\t\\t\\tProceso finalizado\")"
   ]
  },
  {
   "cell_type": "markdown",
   "id": "237a3ecc",
   "metadata": {},
   "source": [
    "## **6. Exportación de Datos**"
   ]
  },
  {
   "cell_type": "code",
   "execution_count": 126,
   "id": "f000cbc4",
   "metadata": {},
   "outputs": [
    {
     "name": "stdout",
     "output_type": "stream",
     "text": [
      "\n",
      "6. Exportación de Datos\n"
     ]
    }
   ],
   "source": [
    "print(\"\\n6. Exportación de Datos\")"
   ]
  },
  {
   "cell_type": "markdown",
   "id": "7c0d618e",
   "metadata": {},
   "source": [
    "### **6.1. Reordenación del Dataframe**"
   ]
  },
  {
   "cell_type": "code",
   "execution_count": 127,
   "id": "4a9e8f6f",
   "metadata": {},
   "outputs": [
    {
     "name": "stdout",
     "output_type": "stream",
     "text": [
      "\n",
      "\t6.1. Reordenación del Dataframe\n",
      "\n",
      "\t\tProceso iniciado\n"
     ]
    }
   ],
   "source": [
    "print(\"\\n\\t6.1. Reordenación del Dataframe\")\n",
    "print(\"\\n\\t\\tProceso iniciado\")"
   ]
  },
  {
   "cell_type": "code",
   "execution_count": 128,
   "id": "cee74d27",
   "metadata": {},
   "outputs": [],
   "source": [
    "# Especificar el nuevo orden de las columnas\n",
    "nuevo_orden = [\n",
    "    'Nombre', \n",
    "    'Servicios', 'Numero de Servicios',\n",
    "    'Precio Total', 'Máximo Precio Total', 'Mínimo Precio Total', 'Moda Precio Total', \n",
    "    'Precio Total por Viajero', 'Máximo Precio Total por Viajero', 'Mínimo Precio Total por Viajero', 'Moda Precio Total por Viajero', \n",
    "    'Precio por Noche', 'Máximo Precio por Noche', 'Mínimo Precio por Noche', 'Moda Precio por Noche', \n",
    "    'Precio por Noche por Viajero', 'Máximo Precio por Noche por Viajero', 'Mínimo Precio por Noche por Viajero', 'Moda Precio por Noche por Viajero', \n",
    "    'Latitud', \n",
    "    'Longitud', \n",
    "    'URL'\n",
    "]\n",
    "\n",
    "# Reordenar las columnas\n",
    "df = df[nuevo_orden]"
   ]
  },
  {
   "cell_type": "code",
   "execution_count": 129,
   "id": "d250d715",
   "metadata": {},
   "outputs": [
    {
     "name": "stdout",
     "output_type": "stream",
     "text": [
      "\n",
      "\t\tProceso finalizado\n"
     ]
    }
   ],
   "source": [
    "print(\"\\n\\t\\tProceso finalizado\")"
   ]
  },
  {
   "cell_type": "markdown",
   "id": "a858c7a7",
   "metadata": {},
   "source": [
    "### **6.2. Exportación del CSV**"
   ]
  },
  {
   "cell_type": "code",
   "execution_count": 130,
   "id": "c944b4a1",
   "metadata": {},
   "outputs": [
    {
     "name": "stdout",
     "output_type": "stream",
     "text": [
      "\n",
      "\t6.2. Exportación del CSV\n",
      "\n",
      "\t\tProceso iniciado\n"
     ]
    }
   ],
   "source": [
    "print(\"\\n\\t6.2. Exportación del CSV\")\n",
    "print(\"\\n\\t\\tProceso iniciado\")"
   ]
  },
  {
   "cell_type": "code",
   "execution_count": 131,
   "id": "de3cc97d",
   "metadata": {},
   "outputs": [],
   "source": [
    "# Asegurarse de que el directorio exista\n",
    "os.makedirs('output', exist_ok=True)\n",
    "\n",
    "# Guardar el archivo\n",
    "df.to_csv(\n",
    "    f'output/{ciudad}. {numero_total_personas} Personas. {fecha_entrada_str} | {fecha_salida_str}/Análisis de Datos/Alojamientos. {ciudad}. {numero_total_personas} Personas. {fecha_entrada_str} | {fecha_salida_str}.csv',\n",
    "    index=False,\n",
    "    encoding='utf-8'\n",
    ")"
   ]
  },
  {
   "cell_type": "code",
   "execution_count": 132,
   "id": "b9a63da4",
   "metadata": {},
   "outputs": [
    {
     "name": "stdout",
     "output_type": "stream",
     "text": [
      "\n",
      "\t\tProceso finalizado\n"
     ]
    }
   ],
   "source": [
    "print(\"\\n\\t\\tProceso finalizado\")"
   ]
  },
  {
   "cell_type": "markdown",
   "id": "af2246cb",
   "metadata": {},
   "source": [
    "### **6.3. Exportación del Fichero de Texto**"
   ]
  },
  {
   "cell_type": "code",
   "execution_count": 133,
   "id": "da4f3083",
   "metadata": {},
   "outputs": [
    {
     "name": "stdout",
     "output_type": "stream",
     "text": [
      "\n",
      "\t6.3. Exportación del Fichero de Texto\n",
      "\n",
      "\t\tProceso iniciado\n"
     ]
    }
   ],
   "source": [
    "print(\"\\n\\t6.3. Exportación del Fichero de Texto\")\n",
    "print(\"\\n\\t\\tProceso iniciado\")"
   ]
  },
  {
   "cell_type": "code",
   "execution_count": 134,
   "id": "bada55f4",
   "metadata": {},
   "outputs": [],
   "source": [
    "# Asegurarse de que el directorio exista\n",
    "os.makedirs('output', exist_ok=True)\n",
    "\n",
    "# Guardar el contenido en un archivo .txt\n",
    "with open(f'output/{ciudad}. {numero_total_personas} Personas. {fecha_entrada_str} | {fecha_salida_str}/Análisis Económico/Medidas Descriptivas/Medidas Descriptivas - {ciudad}.txt', 'w', encoding='utf-8') as file:\n",
    "    file.write(\"\\n\\n\")\n",
    "    file.write(medias)\n",
    "    file.write(\"\\n\\n\")\n",
    "    file.write(medianas)\n",
    "    file.write(\"\\n\\n\")\n",
    "    file.write(desviaciones_tipicas)\n",
    "    file.write(\"\\n\\n\")"
   ]
  },
  {
   "cell_type": "code",
   "execution_count": 135,
   "id": "e0efe109",
   "metadata": {},
   "outputs": [
    {
     "name": "stdout",
     "output_type": "stream",
     "text": [
      "\n",
      "\t\tProceso finalizado\n"
     ]
    }
   ],
   "source": [
    "print(\"\\n\\t\\tProceso finalizado\")"
   ]
  },
  {
   "cell_type": "markdown",
   "id": "047f5e15",
   "metadata": {},
   "source": [
    "### **6.4. Exportación del Mapa Interactivo**"
   ]
  },
  {
   "cell_type": "code",
   "execution_count": 136,
   "id": "d98752cf",
   "metadata": {},
   "outputs": [
    {
     "name": "stdout",
     "output_type": "stream",
     "text": [
      "\n",
      "\t6.4. Exportación del Mapa Interactivo\n",
      "\n",
      "\t\tProceso iniciado\n"
     ]
    }
   ],
   "source": [
    "print(\"\\n\\t6.4. Exportación del Mapa Interactivo\")\n",
    "print(\"\\n\\t\\tProceso iniciado\")"
   ]
  },
  {
   "cell_type": "code",
   "execution_count": 137,
   "id": "72289801",
   "metadata": {},
   "outputs": [],
   "source": [
    "mapa.save(f'output/{ciudad}. {numero_total_personas} Personas. {fecha_entrada_str} | {fecha_salida_str}/Análisis Geográfico/Mapa. {ciudad}. {numero_total_personas} Personas. {fecha_entrada_str} | {fecha_salida_str}.html')"
   ]
  },
  {
   "cell_type": "code",
   "execution_count": 138,
   "id": "9f64a18c",
   "metadata": {},
   "outputs": [
    {
     "name": "stdout",
     "output_type": "stream",
     "text": [
      "\n",
      "\t\tProceso finalizado\n"
     ]
    }
   ],
   "source": [
    "print(\"\\n\\t\\tProceso finalizado\")"
   ]
  },
  {
   "cell_type": "markdown",
   "id": "9ef76513",
   "metadata": {},
   "source": [
    "### **6.5. Copia del Fichero Input.txt**"
   ]
  },
  {
   "cell_type": "code",
   "execution_count": 139,
   "id": "e13a1f7b",
   "metadata": {},
   "outputs": [
    {
     "name": "stdout",
     "output_type": "stream",
     "text": [
      "\n",
      "\t6.5. Copia del Fichero Input.txt\n",
      "\n",
      "\t\tProceso iniciado\n"
     ]
    }
   ],
   "source": [
    "print(\"\\n\\t6.5. Copia del Fichero Input.txt\")\n",
    "print(\"\\n\\t\\tProceso iniciado\")"
   ]
  },
  {
   "cell_type": "code",
   "execution_count": 140,
   "id": "738e2f4f",
   "metadata": {},
   "outputs": [],
   "source": [
    "ruta_input_origen = f'input/input.txt'\n",
    "ruta_directorio_destino = f'output/{ciudad}. {numero_total_personas} Personas. {fecha_entrada_str} | {fecha_salida_str}'\n",
    "ruta_input_destino = os.path.join(ruta_directorio_destino, 'input.txt')\n",
    "\n",
    "# Copiar el archivo\n",
    "shutil.copy(ruta_input_origen, ruta_input_destino)\n",
    "\n",
    "# Renombrar el archivo dentro del mismo directorio\n",
    "nuevo_nombre = 'Datos Usados Realizar Búsqueda.txt'\n",
    "ruta_nuevo_nombre = os.path.join(ruta_directorio_destino, nuevo_nombre)\n",
    "\n",
    "os.rename(ruta_input_destino, ruta_nuevo_nombre)"
   ]
  },
  {
   "cell_type": "code",
   "execution_count": 141,
   "id": "e69a586d",
   "metadata": {},
   "outputs": [
    {
     "name": "stdout",
     "output_type": "stream",
     "text": [
      "\n",
      "\t\tProceso finalizado\n"
     ]
    }
   ],
   "source": [
    "print(\"\\n\\t\\tProceso finalizado\")"
   ]
  },
  {
   "cell_type": "markdown",
   "id": "06ec7564",
   "metadata": {},
   "source": [
    "## **7. Finalización del Proyecto**"
   ]
  },
  {
   "cell_type": "code",
   "execution_count": null,
   "id": "a714e63b",
   "metadata": {},
   "outputs": [
    {
     "name": "stdout",
     "output_type": "stream",
     "text": [
      "\n",
      "8. Finalización del Proyecto\n"
     ]
    }
   ],
   "source": [
    "print(\"\\n7. Finalización del Proyecto\")"
   ]
  },
  {
   "cell_type": "code",
   "execution_count": 143,
   "id": "e9f8dbb3",
   "metadata": {},
   "outputs": [
    {
     "name": "stdout",
     "output_type": "stream",
     "text": [
      "\n",
      "El proceso ha terminado.\n",
      "El tiempo transcurrido del proyecto ha sido de: 18 minutos y 2 segundos.\n",
      "\n",
      "Los resultados se han guardado en la carpeta 'output/Santander. 4 Personas. 8-07-2025 | 11-07-2025'.\n",
      "\n",
      "Gracias por usar el programa.\n"
     ]
    }
   ],
   "source": [
    "print(\"\\nEl proceso ha terminado.\")\n",
    "contador_final = time.time()\n",
    "tiempo_total = contador_final - contador_inicio\n",
    "\n",
    "tiempo_total = np.ceil(tiempo_total)\n",
    "\n",
    "minutos = int(tiempo_total // 60)\n",
    "segundos = int(tiempo_total % 60)\n",
    "\n",
    "tiempo = f\"{minutos} minutos y {segundos} segundos\"\n",
    "\n",
    "print(f\"El tiempo transcurrido del proyecto ha sido de: {tiempo}.\")\n",
    "print(f\"\\nLos resultados se han guardado en la carpeta 'output/{ciudad}. {numero_total_personas} Personas. {fecha_entrada_str} | {fecha_salida_str}'.\")\n",
    "print(\"\\nGracias por usar el programa.\")"
   ]
  },
  {
   "cell_type": "markdown",
   "id": "601fd1f4",
   "metadata": {},
   "source": [
    "## **8. Ventana Gráfica**"
   ]
  },
  {
   "cell_type": "markdown",
   "id": "3c4b2988",
   "metadata": {},
   "source": [
    "### **8.1 Creación y Configuración de la Ventana**"
   ]
  },
  {
   "cell_type": "markdown",
   "id": "6cf247e0",
   "metadata": {},
   "source": [
    "#### **8.1.1 Ventana Principal de la Aplicación**"
   ]
  },
  {
   "cell_type": "code",
   "execution_count": null,
   "id": "0c103e33",
   "metadata": {},
   "outputs": [],
   "source": [
    "app = Ctk.CTk()"
   ]
  },
  {
   "cell_type": "markdown",
   "id": "80189191",
   "metadata": {},
   "source": [
    "#### **8.1.2 Configuración de la Aplicación**"
   ]
  },
  {
   "cell_type": "code",
   "execution_count": null,
   "id": "edf745df",
   "metadata": {},
   "outputs": [],
   "source": [
    "Ctk.set_appearance_mode(\"system\") \n",
    "app.title(\"Airbnb - Web Scraping\")\n",
    "app.geometry(\"1080x720\")\n",
    "app.resizable(False, False)\n",
    "app.configure(bg=\"#000000\")"
   ]
  },
  {
   "cell_type": "markdown",
   "id": "11274851",
   "metadata": {},
   "source": [
    "#### **8.1.3 Icono de la Aplicación**"
   ]
  },
  {
   "cell_type": "code",
   "execution_count": null,
   "id": "cd9efcf5",
   "metadata": {},
   "outputs": [],
   "source": [
    "icon_image = Image.open(\"/Users/alfonsoandresgimenezsanchez/Downloads/airbnb.png\")\n",
    "icon_photo = ImageTk.PhotoImage(icon_image)\n",
    "app.iconphoto(False, icon_photo)"
   ]
  },
  {
   "cell_type": "markdown",
   "id": "c8106846",
   "metadata": {},
   "source": [
    "### **8.2 Input Frame**"
   ]
  },
  {
   "cell_type": "markdown",
   "id": "6febbcb4",
   "metadata": {},
   "source": [
    "#### **8.2.1 Creación del Input Frame**"
   ]
  },
  {
   "cell_type": "code",
   "execution_count": null,
   "id": "8e49ea19",
   "metadata": {},
   "outputs": [],
   "source": [
    "input_frame = Ctk.CTkFrame(app, width=300, height=600, fg_color=\"#FF5A5F\")\n",
    "input_frame.place(x=0, y=0)"
   ]
  },
  {
   "cell_type": "markdown",
   "id": "949fc45e",
   "metadata": {},
   "source": [
    "#### **8.2.2 Título del Input Frame**"
   ]
  },
  {
   "cell_type": "code",
   "execution_count": null,
   "id": "f854700c",
   "metadata": {},
   "outputs": [],
   "source": [
    "input_label_title = Ctk.CTkLabel(input_frame, \n",
    "                                text=\"Parámetros de Búsqueda\", \n",
    "                                font=(\"AirbnbCereal_W_Blk\", 20, \"bold\"), \n",
    "                                text_color=\"#FFFFFF\", width=300, height=70, anchor=\"center\",\n",
    "                                corner_radius=0, bg_color=\"#FF5A5F\")\n",
    "input_label_title.place(x=0, y=0)"
   ]
  },
  {
   "cell_type": "markdown",
   "id": "ee3ce0eb",
   "metadata": {},
   "source": [
    "#### **8.2.3 Frame de Destino**"
   ]
  },
  {
   "cell_type": "markdown",
   "id": "0340b1ec",
   "metadata": {},
   "source": [
    "##### **8.2.3.1 Creación del Frame de Destino**"
   ]
  },
  {
   "cell_type": "code",
   "execution_count": null,
   "id": "a7b5e2d2",
   "metadata": {},
   "outputs": [],
   "source": [
    "input_destination_frame = Ctk.CTkFrame(input_frame, width=300, height=120, fg_color=\"#FF5A5F\")\n",
    "input_destination_frame.place(x=0, y=70)"
   ]
  },
  {
   "cell_type": "markdown",
   "id": "35e14d61",
   "metadata": {},
   "source": [
    "##### **8.2.3.2 Título del Frame de Destino**"
   ]
  },
  {
   "cell_type": "code",
   "execution_count": null,
   "id": "3502fecb",
   "metadata": {},
   "outputs": [],
   "source": [
    "destination_label_title = Ctk.CTkLabel(input_destination_frame, \n",
    "                                text=\"Destino\", \n",
    "                                font=(\"AirbnbCereal_W_Bk\", 20, \"bold\"), \n",
    "                                text_color=\"#FFFFFF\", width=245, height=50, anchor=\"w\",\n",
    "                                corner_radius=0, bg_color=\"#FF5A5F\")\n",
    "destination_label_title.place(x=30, y=0)"
   ]
  },
  {
   "cell_type": "markdown",
   "id": "26ff47fd",
   "metadata": {},
   "source": [
    "##### **8.2.3.3 Entrada del País de Destino**"
   ]
  },
  {
   "cell_type": "code",
   "execution_count": null,
   "id": "04562379",
   "metadata": {},
   "outputs": [],
   "source": [
    "destination_frame_country = Ctk.CTkEntry(input_destination_frame,\n",
    "                                                font=(\"AirbnbCereal_W_Bk\",14),\n",
    "                                                fg_color=\"#484848\",\n",
    "                                                text_color=\"#767676\", width=225, height=25,\n",
    "                                                placeholder_text=\"Pais\")\n",
    "destination_frame_country.place(x=55, y=50)"
   ]
  },
  {
   "cell_type": "markdown",
   "id": "8ea8e2f5",
   "metadata": {},
   "source": [
    "##### **8.2.3.4 Entrada de la Ciudad de Destino**"
   ]
  },
  {
   "cell_type": "code",
   "execution_count": null,
   "id": "3e1a5bed",
   "metadata": {},
   "outputs": [],
   "source": [
    "destination_frame_city = Ctk.CTkEntry(input_destination_frame,\n",
    "                                                font=(\"AirbnbCereal_W_Bk\",14),\n",
    "                                                fg_color=\"#484848\",\n",
    "                                                text_color=\"#767676\", width=225, height=25,\n",
    "                                                placeholder_text=\"Ciudad\")\n",
    "destination_frame_city.place(x=55, y=85)"
   ]
  },
  {
   "cell_type": "markdown",
   "id": "58413a1d",
   "metadata": {},
   "source": [
    "#### **8.2.4 Frame de Huéspedes**"
   ]
  },
  {
   "cell_type": "markdown",
   "id": "98455db9",
   "metadata": {},
   "source": [
    "##### **8.2.4.1 Creación del Frame de Huéspedes**"
   ]
  },
  {
   "cell_type": "code",
   "execution_count": null,
   "id": "afa6590e",
   "metadata": {},
   "outputs": [],
   "source": [
    "input_guest_frame = Ctk.CTkFrame(input_frame, width=300, height=200, fg_color=\"#FF5A5F\")\n",
    "input_guest_frame.place(x=0, y=200)"
   ]
  },
  {
   "cell_type": "markdown",
   "id": "d15a55b6",
   "metadata": {},
   "source": [
    "##### **8.2.4.2 Título del Frame de Huéspedes**"
   ]
  },
  {
   "cell_type": "code",
   "execution_count": null,
   "id": "df52831b",
   "metadata": {},
   "outputs": [],
   "source": [
    "guests_label_title = Ctk.CTkLabel(input_guest_frame, \n",
    "                                text=\"Huéspedes\", \n",
    "                                font=(\"AirbnbCereal_W_Bk\", 20, \"bold\"), \n",
    "                                text_color=\"#FFFFFF\", width=245, height=50, anchor=\"w\",\n",
    "                                corner_radius=0, bg_color=\"#FF5A5F\")\n",
    "guests_label_title.place(x=30, y=0)"
   ]
  },
  {
   "cell_type": "markdown",
   "id": "8d0643fb",
   "metadata": {},
   "source": [
    "##### **8.2.4.3 Frame de Adultos**"
   ]
  },
  {
   "cell_type": "markdown",
   "id": "fa8b5191",
   "metadata": {},
   "source": [
    "###### **8.2.4.3.1 Creación del Frame de Adultos**"
   ]
  },
  {
   "cell_type": "code",
   "execution_count": null,
   "id": "71287cbf",
   "metadata": {},
   "outputs": [],
   "source": [
    "guests_adults_frame = Ctk.CTkFrame(input_guest_frame, width=300, height=25, fg_color=\"#FF5A5F\")\n",
    "guests_adults_frame.place(x=50, y=50)"
   ]
  },
  {
   "cell_type": "markdown",
   "id": "6a52eb2b",
   "metadata": {},
   "source": [
    "###### **8.2.4.3.2 Título del Frame de Adultos**"
   ]
  },
  {
   "cell_type": "code",
   "execution_count": null,
   "id": "5decee8f",
   "metadata": {},
   "outputs": [],
   "source": [
    "guests_adults_label_title = Ctk.CTkLabel(guests_adults_frame,\n",
    "                                    text=\"Adultos\",\n",
    "                                    font=(\"AirbnbCereal_W_Bk\", 14, \"bold\"),\n",
    "                                    text_color=\"#FFFFFF\", width=100, height=25, anchor=\"w\",\n",
    "                                    corner_radius=0, bg_color=\"#FF5A5F\")\n",
    "guests_adults_label_title.place(x=10, y=0)"
   ]
  },
  {
   "cell_type": "markdown",
   "id": "afb6c95d",
   "metadata": {},
   "source": [
    "###### **8.2.4.3.3 Botones del Frame de Adultos**"
   ]
  },
  {
   "cell_type": "code",
   "execution_count": null,
   "id": "0fbf8815",
   "metadata": {},
   "outputs": [],
   "source": [
    "guests_adults_value_label = Ctk.CTkLabel(guests_adults_frame,\n",
    "                                        text=\"0\",\n",
    "                                        font=(\"AirbnbCereal_W_Bk\", 14, \"bold\"),\n",
    "                                        text_color=\"#FFFFFF\", width=30, height=25, anchor=\"center\",\n",
    "                                        corner_radius=0, bg_color=\"#FF5A5F\")\n",
    "guests_adults_value_label.place(x=250, y=0)\n",
    "\n",
    "adults_count = 0\n",
    "\n",
    "def aumentar_adultos():\n",
    "    global adults_count\n",
    "    adults_count += 1\n",
    "    guests_adults_value_label.configure(text=str(adults_count))\n",
    "\n",
    "def reducir_adultos():\n",
    "    global adults_count\n",
    "    if adults_count > 0:\n",
    "        adults_count -= 1\n",
    "        guests_adults_value_label.configure(text=str(adults_count))\n",
    "\n",
    "# Botón -\n",
    "guests_adults_button_decrement = Ctk.CTkButton(\n",
    "    guests_adults_frame,\n",
    "    text=\"-\",\n",
    "    font=(\"AirbnbCereal_W_Bk\", 14, \"bold\"),\n",
    "    text_color=\"#FFFFFF\",\n",
    "    width=30,\n",
    "    height=25,\n",
    "    corner_radius=5,\n",
    "    fg_color=\"#484848\",\n",
    "    command=reducir_adultos\n",
    ")\n",
    "guests_adults_button_decrement.place(x=100, y=0)\n",
    "\n",
    "# Valor actual\n",
    "guests_adults_value_label = Ctk.CTkLabel(\n",
    "    guests_adults_frame,\n",
    "    text=str(adults_count),\n",
    "    font=(\"AirbnbCereal_W_Bk\", 14),\n",
    "    width=30,\n",
    "    text_color=\"#FFFFFF\",\n",
    "    fg_color=\"transparent\"\n",
    ")\n",
    "guests_adults_value_label.place(x=135, y=0)\n",
    "\n",
    "# Botón +\n",
    "guests_adults_button_increment = Ctk.CTkButton(\n",
    "    guests_adults_frame,\n",
    "    text=\"+\",\n",
    "    font=(\"AirbnbCereal_W_Bk\", 14, \"bold\"),\n",
    "    text_color=\"#FFFFFF\",\n",
    "    width=30,\n",
    "    height=25,\n",
    "    corner_radius=5,\n",
    "    fg_color=\"#484848\",\n",
    "    command=aumentar_adultos\n",
    ")\n",
    "guests_adults_button_increment.place(x=170, y=0)"
   ]
  },
  {
   "cell_type": "markdown",
   "id": "ea582369",
   "metadata": {},
   "source": [
    "##### **8.2.4.4 Frame de Niños**"
   ]
  },
  {
   "cell_type": "markdown",
   "id": "5af4c59a",
   "metadata": {},
   "source": [
    "###### **8.2.4.4.1 Creación del Frame de Niños**"
   ]
  },
  {
   "cell_type": "code",
   "execution_count": null,
   "id": "e50faca1",
   "metadata": {},
   "outputs": [],
   "source": [
    "guests_childs_frame = Ctk.CTkFrame(input_guest_frame, width=300, height=25, fg_color=\"#FF5A5F\")\n",
    "guests_childs_frame.place(x=50, y=80)"
   ]
  },
  {
   "cell_type": "markdown",
   "id": "2a97d818",
   "metadata": {},
   "source": [
    "###### **8.2.4.4.2 Título del Frame de Niños**"
   ]
  },
  {
   "cell_type": "code",
   "execution_count": null,
   "id": "a9957674",
   "metadata": {},
   "outputs": [],
   "source": [
    "guests_childs_label_title = Ctk.CTkLabel(guests_childs_frame,\n",
    "                                    text=\"Niños\",\n",
    "                                    font=(\"AirbnbCereal_W_Bk\", 14, \"bold\"),\n",
    "                                    text_color=\"#FFFFFF\", width=100, height=25, anchor=\"w\",\n",
    "                                    corner_radius=0, bg_color=\"#FF5A5F\")\n",
    "guests_childs_label_title.place(x=10, y=0)"
   ]
  },
  {
   "cell_type": "markdown",
   "id": "d948e3d8",
   "metadata": {},
   "source": [
    "###### **8.2.4.4.3 Botones del Frame de Niños**"
   ]
  },
  {
   "cell_type": "code",
   "execution_count": null,
   "id": "92fc5eb2",
   "metadata": {},
   "outputs": [],
   "source": [
    "guests_childs_value_label = Ctk.CTkLabel(guests_childs_frame,\n",
    "                                        text=\"0\",\n",
    "                                        font=(\"AirbnbCereal_W_Bk\", 14, \"bold\"),\n",
    "                                        text_color=\"#FFFFFF\", width=30, height=25, anchor=\"center\",\n",
    "                                        corner_radius=0, bg_color=\"#FF5A5F\")\n",
    "guests_childs_value_label.place(x=250, y=0)\n",
    "\n",
    "childs_count = 0\n",
    "\n",
    "def aumentar_niños():\n",
    "    global childs_count\n",
    "    childs_count += 1\n",
    "    guests_childs_value_label.configure(text=str(childs_count))\n",
    "\n",
    "def reducir_niños():\n",
    "    global childs_count\n",
    "    if childs_count > 0:\n",
    "        childs_count -= 1\n",
    "        guests_childs_value_label.configure(text=str(childs_count))\n",
    "\n",
    "# Botón -\n",
    "guests_childs_button_decrement = Ctk.CTkButton(\n",
    "    guests_childs_frame,\n",
    "    text=\"-\",\n",
    "    font=(\"AirbnbCereal_W_Bk\", 14, \"bold\"),\n",
    "    text_color=\"#FFFFFF\",\n",
    "    width=30,\n",
    "    height=25,\n",
    "    corner_radius=5,\n",
    "    fg_color=\"#484848\",\n",
    "    command=reducir_niños\n",
    ")\n",
    "guests_childs_button_decrement.place(x=100, y=0)\n",
    "\n",
    "\n",
    "# Valor actual\n",
    "guests_childs_value_label = Ctk.CTkLabel(\n",
    "    guests_childs_frame,\n",
    "    text=str(childs_count),\n",
    "    font=(\"AirbnbCereal_W_Bk\", 14),\n",
    "    width=30,\n",
    "    text_color=\"#FFFFFF\",\n",
    "    fg_color=\"transparent\"\n",
    ")\n",
    "guests_childs_value_label.place(x=135, y=0)\n",
    "\n",
    "\n",
    "# Botón +\n",
    "guests_childs_button_increment = Ctk.CTkButton(\n",
    "    guests_childs_frame,\n",
    "    text=\"+\",\n",
    "    font=(\"AirbnbCereal_W_Bk\", 14, \"bold\"),\n",
    "    text_color=\"#FFFFFF\",\n",
    "    width=30,\n",
    "    height=25,\n",
    "    corner_radius=5,\n",
    "    fg_color=\"#484848\",\n",
    "    command=aumentar_niños\n",
    ")\n",
    "guests_childs_button_increment.place(x=170, y=0)"
   ]
  },
  {
   "cell_type": "markdown",
   "id": "71e9ceb5",
   "metadata": {},
   "source": [
    "##### **8.2.4.5 Frame de Bebés**"
   ]
  },
  {
   "cell_type": "markdown",
   "id": "cc0b7852",
   "metadata": {},
   "source": [
    "###### **8.2.4.5.1 Creación del Frame de Bebés**"
   ]
  },
  {
   "cell_type": "code",
   "execution_count": null,
   "id": "31b78a60",
   "metadata": {},
   "outputs": [],
   "source": [
    "guests_babys_frame = Ctk.CTkFrame(input_guest_frame, width=300, height=50, fg_color=\"#FF5A5F\")\n",
    "guests_babys_frame.place(x=50, y=110)"
   ]
  },
  {
   "cell_type": "markdown",
   "id": "3ad89a4b",
   "metadata": {},
   "source": [
    "###### **8.2.4.5.2 Título del Frame de Bebés**"
   ]
  },
  {
   "cell_type": "code",
   "execution_count": null,
   "id": "1b0eaef8",
   "metadata": {},
   "outputs": [],
   "source": [
    "guests_babys_label_title = Ctk.CTkLabel(guests_babys_frame,\n",
    "                                    text=\"Bebés\",\n",
    "                                    font=(\"AirbnbCereal_W_Bk\", 14, \"bold\"),\n",
    "                                    text_color=\"#FFFFFF\", width=100, height=25, anchor=\"w\",\n",
    "                                    corner_radius=0, bg_color=\"#FF5A5F\")\n",
    "guests_babys_label_title.place(x=10, y=0)"
   ]
  },
  {
   "cell_type": "markdown",
   "id": "a1931e99",
   "metadata": {},
   "source": [
    "###### **8.2.4.5.3 Botones del Frame de Bebés**"
   ]
  },
  {
   "cell_type": "code",
   "execution_count": null,
   "id": "f6f30f2f",
   "metadata": {},
   "outputs": [],
   "source": [
    "guests_babys_value_label = Ctk.CTkLabel(guests_babys_frame,\n",
    "                                        text=\"0\",\n",
    "                                        font=(\"AirbnbCereal_W_Bk\", 14, \"bold\"),\n",
    "                                        text_color=\"#FFFFFF\", width=30, height=25, anchor=\"center\",\n",
    "                                        corner_radius=0, bg_color=\"#FF5A5F\")\n",
    "guests_babys_value_label.place(x=250, y=0)\n",
    "\n",
    "babys_count = 0\n",
    "\n",
    "def aumentar_bebes():\n",
    "    global babys_count\n",
    "    babys_count += 1\n",
    "    guests_babys_value_label.configure(text=str(babys_count))\n",
    "\n",
    "def reducir_bebes():\n",
    "    global babys_count\n",
    "    if babys_count > 0:\n",
    "        babys_count -= 1\n",
    "        guests_babys_value_label.configure(text=str(babys_count))\n",
    "\n",
    "# Botón -\n",
    "guests_babys_button_decrement = Ctk.CTkButton(\n",
    "    guests_babys_frame,\n",
    "    text=\"-\",\n",
    "    font=(\"AirbnbCereal_W_Bk\", 14, \"bold\"),\n",
    "    text_color=\"#FFFFFF\",\n",
    "    width=30,\n",
    "    height=25,\n",
    "    corner_radius=5,\n",
    "    fg_color=\"#484848\",\n",
    "    command=reducir_bebes\n",
    ")\n",
    "guests_babys_button_decrement.place(x=100, y=0)\n",
    "\n",
    "\n",
    "# Valor actual\n",
    "guests_babys_value_label = Ctk.CTkLabel(\n",
    "    guests_babys_frame,\n",
    "    text=str(babys_count),\n",
    "    font=(\"AirbnbCereal_W_Bk\", 14),\n",
    "    width=30,\n",
    "    text_color=\"#FFFFFF\",\n",
    "    fg_color=\"transparent\"\n",
    ")\n",
    "guests_babys_value_label.place(x=135, y=0)\n",
    "\n",
    "\n",
    "# Botón +\n",
    "guests_babys_button_increment = Ctk.CTkButton(\n",
    "    guests_babys_frame,\n",
    "    text=\"+\",\n",
    "    font=(\"AirbnbCereal_W_Bk\", 14, \"bold\"),\n",
    "    text_color=\"#FFFFFF\",\n",
    "    width=30,\n",
    "    height=25,\n",
    "    corner_radius=5,\n",
    "    fg_color=\"#484848\",\n",
    "    command=aumentar_bebes\n",
    ")\n",
    "guests_babys_button_increment.place(x=170, y=0)"
   ]
  },
  {
   "cell_type": "markdown",
   "id": "a93a6554",
   "metadata": {},
   "source": [
    "##### **8.2.4.6 Frame de Mascotas**"
   ]
  },
  {
   "cell_type": "markdown",
   "id": "43f25ec8",
   "metadata": {},
   "source": [
    "###### **8.2.4.6.1 Creación del Frame de Mascotas**"
   ]
  },
  {
   "cell_type": "code",
   "execution_count": null,
   "id": "8df434d2",
   "metadata": {},
   "outputs": [],
   "source": [
    "guests_pets_frame = Ctk.CTkFrame(input_guest_frame, width=300, height=50, fg_color=\"#FF5A5F\")\n",
    "guests_pets_frame.place(x=50, y=140)"
   ]
  },
  {
   "cell_type": "markdown",
   "id": "099a39e4",
   "metadata": {},
   "source": [
    "###### **8.2.4.6.2 Título del Frame de Mascotas**"
   ]
  },
  {
   "cell_type": "code",
   "execution_count": null,
   "id": "8736ec0a",
   "metadata": {},
   "outputs": [],
   "source": [
    "guests_pets_label_title = Ctk.CTkLabel(guests_pets_frame,\n",
    "                                    text=\"Mascotas\",\n",
    "                                    font=(\"AirbnbCereal_W_Bk\", 14, \"bold\"),\n",
    "                                    text_color=\"#FFFFFF\", width=100, height=25, anchor=\"w\",\n",
    "                                    corner_radius=0, bg_color=\"#FF5A5F\")\n",
    "guests_pets_label_title.place(x=10, y=0)"
   ]
  },
  {
   "cell_type": "markdown",
   "id": "be9b7aa1",
   "metadata": {},
   "source": [
    "###### **8.2.4.6.3 Botones del Frame de Mascotas**"
   ]
  },
  {
   "cell_type": "code",
   "execution_count": null,
   "id": "560c54ac",
   "metadata": {},
   "outputs": [],
   "source": [
    "guests_pets_value_label = Ctk.CTkLabel(guests_pets_frame,\n",
    "                                        text=\"0\",\n",
    "                                        font=(\"AirbnbCereal_W_Bk\", 14, \"bold\"),\n",
    "                                        text_color=\"#FFFFFF\", width=30, height=25, anchor=\"center\",\n",
    "                                        corner_radius=0, bg_color=\"#FF5A5F\")\n",
    "guests_pets_value_label.place(x=250, y=0)\n",
    "\n",
    "pets_count = 0\n",
    "\n",
    "def aumentar_mascotas():\n",
    "    global pets_count\n",
    "    pets_count += 1\n",
    "    guests_pets_value_label.configure(text=str(pets_count))\n",
    "\n",
    "def reducir_mascotas():\n",
    "    global pets_count\n",
    "    if pets_count > 0:\n",
    "        pets_count -= 1\n",
    "        guests_pets_value_label.configure(text=str(pets_count))\n",
    "\n",
    "# Botón -\n",
    "guests_pets_button_decrement = Ctk.CTkButton(\n",
    "    guests_pets_frame,\n",
    "    text=\"-\",\n",
    "    font=(\"AirbnbCereal_W_Bk\", 14, \"bold\"),\n",
    "    text_color=\"#FFFFFF\",\n",
    "    width=30,\n",
    "    height=25,\n",
    "    corner_radius=5,\n",
    "    fg_color=\"#484848\",\n",
    "    command=reducir_mascotas\n",
    ")\n",
    "guests_pets_button_decrement.place(x=100, y=0)\n",
    "\n",
    "\n",
    "# Valor actual\n",
    "guests_pets_value_label = Ctk.CTkLabel(\n",
    "    guests_pets_frame,\n",
    "    text=str(pets_count),\n",
    "    font=(\"AirbnbCereal_W_Bk\", 14),\n",
    "    width=30,\n",
    "    text_color=\"#FFFFFF\",\n",
    "    fg_color=\"transparent\"\n",
    ")\n",
    "guests_pets_value_label.place(x=135, y=0)\n",
    "\n",
    "\n",
    "# Botón +\n",
    "guests_pets_button_increment = Ctk.CTkButton(\n",
    "    guests_pets_frame,\n",
    "    text=\"+\",\n",
    "    font=(\"AirbnbCereal_W_Bk\", 14, \"bold\"),\n",
    "    text_color=\"#FFFFFF\",\n",
    "    width=30,\n",
    "    height=25,\n",
    "    corner_radius=5,\n",
    "    fg_color=\"#484848\",\n",
    "    command=aumentar_mascotas\n",
    ")\n",
    "guests_pets_button_increment.place(x=170, y=0)"
   ]
  },
  {
   "cell_type": "markdown",
   "id": "d9402787",
   "metadata": {},
   "source": [
    "#### **8.2.5 Frame de Calendario**"
   ]
  },
  {
   "cell_type": "markdown",
   "id": "322b1814",
   "metadata": {},
   "source": [
    "##### **8.2.5.1 Creación del Frame de Calendario**"
   ]
  },
  {
   "cell_type": "code",
   "execution_count": null,
   "id": "10a26c59",
   "metadata": {},
   "outputs": [],
   "source": [
    "calendar_frame = Tk.Frame(input_frame, width=300, height=600, bg=\"#FF5A5F\")\n",
    "calendar_frame.place(x=0, y=400)"
   ]
  },
  {
   "cell_type": "markdown",
   "id": "91eb7b36",
   "metadata": {},
   "source": [
    "##### **8.2.5.2 Título del Frame de Calendario**"
   ]
  },
  {
   "cell_type": "code",
   "execution_count": null,
   "id": "0b60eec6",
   "metadata": {},
   "outputs": [],
   "source": [
    "calendar_label_title = Ctk.CTkLabel(calendar_frame,\n",
    "                                text=\"Fechas\",\n",
    "                                font=(\"AirbnbCereal_W_Bk\", 20, \"bold\"),\n",
    "                                text_color=\"#FFFFFF\", width=300, height=50, anchor=\"w\",\n",
    "                                corner_radius=0, bg_color=\"#FF5A5F\")\n",
    "calendar_label_title.place(x=30, y=10)"
   ]
  },
  {
   "cell_type": "markdown",
   "id": "b58cc9f4",
   "metadata": {},
   "source": [
    "##### **8.2.5.3 Botones y Entrada de Fechas del Calendario**"
   ]
  },
  {
   "cell_type": "code",
   "execution_count": null,
   "id": "83652f39",
   "metadata": {},
   "outputs": [],
   "source": [
    "# Variables para almacenar ventanas emergentes (top-level)\n",
    "top_calendar_entry = None\n",
    "top_calendar_exit = None\n",
    "\n",
    "### === FECHA DE ENTRADA ===\n",
    "fecha_entrada_entry = Ctk.CTkEntry(calendar_frame, placeholder_text=\"Fecha de entrada\", width=120, fg_color=\"#484848\", text_color=\"#767676\")\n",
    "fecha_entrada_entry.place(x=50, y=70)\n",
    "\n",
    "def mostrar_calendario_entrada():\n",
    "    global top_calendar_entry\n",
    "\n",
    "    if top_calendar_entry and top_calendar_entry.winfo_exists():\n",
    "        return  # ya está abierto\n",
    "\n",
    "    top_calendar_entry = Tk.Toplevel(calendar_frame)\n",
    "    top_calendar_entry.geometry(\"+{}+{}\".format(app.winfo_rootx() + 100, app.winfo_rooty() + 300))\n",
    "    top_calendar_entry.overrideredirect(True)\n",
    "\n",
    "    cal = Calendar(\n",
    "        top_calendar_entry,\n",
    "        selectmode='day',\n",
    "        date_pattern='dd/mm/y',\n",
    "        background=\"#FF5A5F\",\n",
    "        foreground=\"#FFFFFF\",\n",
    "        headersbackground=\"#FF5A5F\",\n",
    "        headersforeground=\"#FFFFFF\",\n",
    "        selectbackground=\"#FFFFFF\",\n",
    "        selectforeground=\"#FF5A5F\"\n",
    "    )\n",
    "    cal.pack()\n",
    "\n",
    "    cal.bind(\"<<CalendarSelected>>\", lambda e: seleccionar_fecha(cal, fecha_entrada_entry, top_calendar_entry))\n",
    "\n",
    "btn_fecha_entrada = Ctk.CTkButton(calendar_frame, text=\"📅\", width=40, command=mostrar_calendario_entrada, fg_color=\"#484848\", text_color=\"#767676\")\n",
    "btn_fecha_entrada.place(x=180, y=70)\n",
    "\n",
    "### === FECHA DE SALIDA ===\n",
    "fecha_salida_entry = Ctk.CTkEntry(calendar_frame, placeholder_text=\"Fecha de salida\", width=120, fg_color=\"#484848\", text_color=\"#767676\")\n",
    "fecha_salida_entry.place(x=50, y=110)\n",
    "\n",
    "def mostrar_calendario_salida():\n",
    "    global top_calendar_exit\n",
    "\n",
    "    if top_calendar_exit and top_calendar_exit.winfo_exists():\n",
    "        return\n",
    "\n",
    "    top_calendar_exit = Tk.Toplevel(calendar_frame)\n",
    "    top_calendar_exit.geometry(\"+{}+{}\".format(app.winfo_rootx() + 100, app.winfo_rooty() + 370))\n",
    "    top_calendar_exit.overrideredirect(True)\n",
    "\n",
    "    cal = Calendar(\n",
    "        top_calendar_exit,\n",
    "        selectmode='day',\n",
    "        date_pattern='dd/mm/y',\n",
    "        background=\"#FF5A5F\",\n",
    "        foreground=\"#FFFFFF\",\n",
    "        headersbackground=\"#FF5A5F\",\n",
    "        headersforeground=\"#FFFFFF\",\n",
    "        selectbackground=\"#FFFFFF\",\n",
    "        selectforeground=\"#FF5A5F\"\n",
    "    )\n",
    "    cal.pack()\n",
    "\n",
    "    cal.bind(\"<<CalendarSelected>>\", lambda e: seleccionar_fecha(cal, fecha_salida_entry, top_calendar_exit))\n",
    "\n",
    "btn_fecha_salida = Ctk.CTkButton(calendar_frame, text=\"📅\", width=40, command=mostrar_calendario_salida, fg_color=\"#484848\", text_color=\"#767676\")\n",
    "btn_fecha_salida.place(x=180, y=110)\n",
    "\n",
    "### === FUNCIÓN COMÚN PARA AMBOS ===\n",
    "def seleccionar_fecha(calendario, campo_entry, ventana_top):\n",
    "    fecha = calendario.get_date()\n",
    "    campo_entry.delete(0, Ctk.END)\n",
    "    campo_entry.insert(0, fecha)\n",
    "    ventana_top.destroy()"
   ]
  },
  {
   "cell_type": "markdown",
   "id": "2d2c081f",
   "metadata": {},
   "source": [
    "### **8.3 Start Frame**"
   ]
  },
  {
   "cell_type": "markdown",
   "id": "d1096f41",
   "metadata": {},
   "source": [
    "#### **8.3.1 Creación del Start Frame**"
   ]
  },
  {
   "cell_type": "code",
   "execution_count": null,
   "id": "56c08c95",
   "metadata": {},
   "outputs": [],
   "source": [
    "start_frame = Ctk.CTkFrame(app, width=300, height=140, fg_color=\"#00a699\")\n",
    "start_frame.place(x=0, y=580)"
   ]
  },
  {
   "cell_type": "markdown",
   "id": "d43b24ff",
   "metadata": {},
   "source": [
    "#### **8.3.2 Título del Start Frame**"
   ]
  },
  {
   "cell_type": "code",
   "execution_count": null,
   "id": "73e447ab",
   "metadata": {},
   "outputs": [],
   "source": [
    "start_label_title = Ctk.CTkLabel(start_frame, \n",
    "                                text=\"\",\n",
    "                                width=300, height=70, anchor=\"center\",\n",
    "                                corner_radius=0, bg_color=\"#00a699\")\n",
    "start_label_title.place(x=0, y=0)"
   ]
  },
  {
   "cell_type": "markdown",
   "id": "cba6d1c8",
   "metadata": {},
   "source": [
    "#### **8.3.3 Botón del Start Frame**"
   ]
  },
  {
   "cell_type": "code",
   "execution_count": null,
   "id": "1f77064b",
   "metadata": {},
   "outputs": [],
   "source": [
    "start_button = Ctk.CTkButton(start_frame,\n",
    "                            text=\"Iniciar Búsqueda\",\n",
    "                            font=(\"AirbnbCereal_W_Blk\", 20, \"bold\"),\n",
    "                            text_color=\"#FFFFFF\",\n",
    "                            width=150, height=40,\n",
    "                            border_color=\"#FFFFFF\",\n",
    "                            border_width=2,\n",
    "                            corner_radius=0,\n",
    "                            fg_color=\"#00a699\",\n",
    "                            command=comenzar_programa())  # Placeholder command\n",
    "start_button.place(x=65, y=50)"
   ]
  },
  {
   "cell_type": "markdown",
   "id": "3aba87f2",
   "metadata": {},
   "source": [
    "### **8.4 Process Frame**"
   ]
  },
  {
   "cell_type": "markdown",
   "id": "0f5db3ab",
   "metadata": {},
   "source": [
    "#### **8.4.1 Creación del Process Frame**"
   ]
  },
  {
   "cell_type": "code",
   "execution_count": null,
   "id": "7ca6e68d",
   "metadata": {},
   "outputs": [],
   "source": [
    "process_frame = Ctk.CTkFrame(app, width=780, height=140, fg_color=\"#e2dece\")\n",
    "process_frame.place(x=300, y=580)"
   ]
  },
  {
   "cell_type": "markdown",
   "id": "2adee4bb",
   "metadata": {},
   "source": [
    "#### **8.4.2 Título del Process Frame**"
   ]
  },
  {
   "cell_type": "code",
   "execution_count": null,
   "id": "4c50d963",
   "metadata": {},
   "outputs": [],
   "source": [
    "process_label_title = Ctk.CTkLabel(process_frame, \n",
    "                                text=\"\",\n",
    "                                width=780, height=70, anchor=\"center\",\n",
    "                                corner_radius=0, bg_color=\"#e2dece\")\n",
    "process_label_title.place(x=0, y=0)"
   ]
  },
  {
   "cell_type": "markdown",
   "id": "8200cbb6",
   "metadata": {},
   "source": [
    "#### **8.4.3 Mostrar Texto a través de un Label**"
   ]
  },
  {
   "cell_type": "code",
   "execution_count": null,
   "id": "57bfd180",
   "metadata": {},
   "outputs": [],
   "source": [
    "process_label_mensage = Ctk.CTkLabel(process_frame,\n",
    "                                text=\"\",\n",
    "                                font=(\"AirbnbCereal_W_Bk\", 14, \"bold\"),\n",
    "                                text_color=\"#000000\", width=780, height=70, anchor=\"center\",\n",
    "                                corner_radius=0, bg_color=\"#e2dece\")\n",
    "process_label_mensage.place(x=0, y=70)\n",
    "\n",
    "# Función para mostrar un nuevo mensaje (borra el anterior)\n",
    "def mostrar_mensaje(nuevo_texto):\n",
    "    process_label_mensage.configure(text=nuevo_texto)"
   ]
  },
  {
   "cell_type": "markdown",
   "id": "1dc765fa",
   "metadata": {},
   "source": [
    "### **8.5 Output Frame**"
   ]
  },
  {
   "cell_type": "markdown",
   "id": "07c59abd",
   "metadata": {},
   "source": [
    "#### **8.5.1 Creación del Output Frame**"
   ]
  },
  {
   "cell_type": "code",
   "execution_count": null,
   "id": "9a53bff3",
   "metadata": {},
   "outputs": [],
   "source": [
    "output_frame = Ctk.CTkFrame(app, width=780, height=580, fg_color=\"#484848\", corner_radius=0)\n",
    "output_frame.place(x=300, y=0)"
   ]
  },
  {
   "cell_type": "markdown",
   "id": "d9ad6d62",
   "metadata": {},
   "source": [
    "#### **8.5.2 Título del Output Frame**"
   ]
  },
  {
   "cell_type": "code",
   "execution_count": null,
   "id": "5b086411",
   "metadata": {},
   "outputs": [],
   "source": [
    "output_label_title = Ctk.CTkLabel(output_frame, \n",
    "                                text=\"Resultados de la Búsqueda\",\n",
    "                                text_color=\"#FFFFFF\",\n",
    "                                font=(\"AirbnbCereal_W_Blk\", 20, \"bold\"),\n",
    "                                width=780, height=70, anchor=\"center\",\n",
    "                                corner_radius=0, bg_color=\"#484848\")\n",
    "output_label_title.place(x=0, y=0)"
   ]
  },
  {
   "cell_type": "markdown",
   "id": "6d5c0978",
   "metadata": {},
   "source": [
    "### **8.6 Exit Frame**"
   ]
  },
  {
   "cell_type": "markdown",
   "id": "d2e601cb",
   "metadata": {},
   "source": [
    "#### **8.6.1 Creación del Exit Frame**"
   ]
  },
  {
   "cell_type": "code",
   "execution_count": null,
   "id": "d00d95de",
   "metadata": {},
   "outputs": [],
   "source": [
    "exit_frame = Ctk.CTkFrame(app, width=50, height=50, fg_color=\"#FF0000\", corner_radius=0)\n",
    "exit_frame.place(x=1030, y=0)"
   ]
  },
  {
   "cell_type": "markdown",
   "id": "36eb016d",
   "metadata": {},
   "source": [
    "#### **8.6.2 Botón de Cierre del Programa**"
   ]
  },
  {
   "cell_type": "code",
   "execution_count": null,
   "id": "0d81dcf9",
   "metadata": {},
   "outputs": [],
   "source": [
    "def cerrar_app():\n",
    "    exit_button.configure(state=\"disabled\")  # Desactivar botón\n",
    "    app.after(100, app.destroy)  # Espera 100ms y destruye\n",
    "\n",
    "exit_button = Ctk.CTkButton(exit_frame,\n",
    "                            text=\"X\",\n",
    "                            font=(\"AirbnbCereal_W_Blk\", 20, \"bold\"),\n",
    "                            text_color=\"#FFFFFF\",\n",
    "                            width=50, height=50,\n",
    "                            corner_radius=0,\n",
    "                            fg_color=\"#FF0000\",\n",
    "                            command=cerrar_app)\n",
    "exit_button.place(x=0, y=0)"
   ]
  },
  {
   "cell_type": "markdown",
   "id": "f0f62d11",
   "metadata": {},
   "source": [
    "### **8.7 Ejecución de la Ventana Gráfica**"
   ]
  },
  {
   "cell_type": "code",
   "execution_count": null,
   "id": "1be7900d",
   "metadata": {},
   "outputs": [],
   "source": [
    "app.mainloop()"
   ]
  }
 ],
 "metadata": {
  "kernelspec": {
   "display_name": "Python 3",
   "language": "python",
   "name": "python3"
  },
  "language_info": {
   "codemirror_mode": {
    "name": "ipython",
    "version": 3
   },
   "file_extension": ".py",
   "mimetype": "text/x-python",
   "name": "python",
   "nbconvert_exporter": "python",
   "pygments_lexer": "ipython3",
   "version": "3.13.4"
  }
 },
 "nbformat": 4,
 "nbformat_minor": 5
}
