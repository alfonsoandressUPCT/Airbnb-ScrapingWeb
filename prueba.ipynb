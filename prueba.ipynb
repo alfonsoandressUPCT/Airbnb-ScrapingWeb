{
 "cells": [
  {
   "cell_type": "markdown",
   "id": "eaa00633",
   "metadata": {},
   "source": [
    "# Aplicación RAG. Prueba"
   ]
  },
  {
   "cell_type": "code",
   "execution_count": null,
   "id": "f2ea4856",
   "metadata": {},
   "outputs": [],
   "source": [
    "from llama_index.core import SimpleDirectoryReader\n",
    "documents = SimpleDirectoryReader(input_files= [\"paul_essay.txt\"]).load_data()"
   ]
  }
 ],
 "metadata": {
  "kernelspec": {
   "display_name": "Python 3",
   "language": "python",
   "name": "python3"
  },
  "language_info": {
   "codemirror_mode": {
    "name": "ipython",
    "version": 3
   },
   "file_extension": ".py",
   "mimetype": "text/x-python",
   "name": "python",
   "nbconvert_exporter": "python",
   "pygments_lexer": "ipython3",
   "version": "3.13.1"
  }
 },
 "nbformat": 4,
 "nbformat_minor": 5
}
