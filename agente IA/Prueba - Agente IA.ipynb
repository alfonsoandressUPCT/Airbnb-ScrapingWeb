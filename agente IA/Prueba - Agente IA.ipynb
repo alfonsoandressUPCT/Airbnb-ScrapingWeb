{
 "cells": [
  {
   "cell_type": "markdown",
   "id": "4cd9d438",
   "metadata": {},
   "source": [
    "## **7. Creación de un Agente de Inteligencia Artificial para las Conclusiones Finales**"
   ]
  },
  {
   "cell_type": "code",
   "execution_count": null,
   "id": "bfd25c76",
   "metadata": {},
   "outputs": [],
   "source": [
    "print(\"\\n7. Creación de un Agente de Inteligencia Artificial para las Conclusiones Finales\")"
   ]
  },
  {
   "cell_type": "markdown",
   "id": "4ef1e9b4",
   "metadata": {},
   "source": [
    "### **7.1. Lectura del Prompt y Configuración del Logging**"
   ]
  },
  {
   "cell_type": "code",
   "execution_count": null,
   "id": "fa531440",
   "metadata": {},
   "outputs": [],
   "source": [
    "print(\"\\n\\t7.1. Lectura del Prompt y Configuración del Logging\")\n",
    "print(\"\\n\\t\\tProceso iniciado\")"
   ]
  },
  {
   "cell_type": "code",
   "execution_count": null,
   "id": "f96e1c30",
   "metadata": {},
   "outputs": [],
   "source": [
    "logging.basicConfig(level=logging.INFO, format='%(asctime)s - %(levelname)s - %(message)s')\n",
    "logger = logging.getLogger(__name__)\n",
    "\n",
    "def cargar_prompt():\n",
    "    prompt_path = 'agente IA/input/prompt/prompt.txt'\n",
    "    try:\n",
    "        \n",
    "        with open(prompt_path, \"r\", encoding=\"utf-8\") as f:\n",
    "            text = f.read()\n",
    "            plain_text = striprtf.rtf_to_text(text)\n",
    "\n",
    "    except FileNotFoundError:\n",
    "        logger.error(f\"No se encontró el archivo de prompt en {prompt_path}\")\n",
    "        \n",
    "        default_prompt = f\"\"\"\n",
    "        INSTRUCCIONES:\n",
    "        Analiza los datos de alojamientos en {ciudad} para {numero_total_personas} personas entre {fecha_entrada_str} y {fecha_salida_str}.\n",
    "        \n",
    "        DATOS DISPONIBLES:\n",
    "        1. Archivo CSV con información detallada de alojamientos\n",
    "        2. Imágenes con análisis económico: diagrama de cajas e histograma\n",
    "        3. Imagen con análisis de servicios disponibles\n",
    "        \n",
    "        FORMATO DE RESPUESTA REQUERIDO:\n",
    "        1. Resumen Ejecutivo (máximo 200 palabras)\n",
    "        2. Análisis Económico\n",
    "           - Rango de precios\n",
    "           - Relación calidad-precio\n",
    "           - Tendencias identificadas\n",
    "        3. Análisis de Servicios\n",
    "           - Servicios más comunes\n",
    "           - Servicios diferenciadores\n",
    "        4. Recomendaciones\n",
    "           - Top 3 opciones recomendadas con justificación\n",
    "        5. Conclusiones\n",
    "        \n",
    "        NIVEL DE DETALLE: Exhaustivo con datos cuantitativos específicos\n",
    "        \"\"\"\n",
    "\n",
    "        return default_prompt\n",
    "    \n",
    "    except Exception as e:\n",
    "        \n",
    "        logger.error(f\"Error al cargar el prompt: {e}\")\n",
    "        return f\"Generar un análisis completo de los alojamientos en {ciudad}.\"\n",
    "\n",
    "prompt = cargar_prompt()"
   ]
  },
  {
   "cell_type": "code",
   "execution_count": null,
   "id": "f77abc72",
   "metadata": {},
   "outputs": [],
   "source": [
    "print(\"\\n\\t\\tProceso finalizado\")"
   ]
  },
  {
   "cell_type": "markdown",
   "id": "6d0027ae",
   "metadata": {},
   "source": [
    "### **7.2. Copia de Imágenes**"
   ]
  },
  {
   "cell_type": "code",
   "execution_count": null,
   "id": "926d32b6",
   "metadata": {},
   "outputs": [],
   "source": [
    "print(\"\\n\\t7.2. Copia de Imágenes\")\n",
    "print(\"\\n\\t\\tProceso iniciado\")"
   ]
  },
  {
   "cell_type": "code",
   "execution_count": null,
   "id": "b90337ba",
   "metadata": {},
   "outputs": [],
   "source": [
    "imagenes = list()\n",
    "\n",
    "origen_imagen_economia_1 = f'output/Análisis Económico/Diagramas de Cajas/Diagrama Caja - {ciudad}.png'\n",
    "origen_imagen_economia_2 = f'output/Análisis Económico/Histogramas/Histograma - {ciudad}.png'\n",
    "origen_imagen_servicios = f'output/Análisis de Servicios/Servicios - {ciudad}.png'\n",
    "\n",
    "imagenes.append(origen_imagen_economia_1)\n",
    "imagenes.append(origen_imagen_economia_2)\n",
    "imagenes.append(origen_imagen_servicios)\n",
    "\n",
    "destino_imagenes = \"agente IA/input/images/\"\n",
    "\n",
    "for imagen in imagenes:\n",
    "    if os.path.exists(imagen):\n",
    "        shutil.copy(imagen, destino_imagenes)\n",
    "    else:\n",
    "        print(f\"Imagen no encontrada: {imagen}\")\n",
    "\n",
    "origen_tabla_datos = f\"output/Análisis de Datos/Alojamientos. {ciudad}. {numero_total_personas} Personas. {fecha_entrada_str} | {fecha_salida_str}.csv\"\n",
    "\n",
    "destino_data = \"agente IA/input/data/\"\n",
    "\n",
    "if os.path.exists(origen_tabla_datos):\n",
    "    shutil.copy(origen_tabla_datos, destino_data)\n",
    "else:\n",
    "    print(f\"Tabla de datos no encontrada: {origen_tabla_datos}\")"
   ]
  },
  {
   "cell_type": "code",
   "execution_count": null,
   "id": "940023f0",
   "metadata": {},
   "outputs": [],
   "source": [
    "print(\"\\n\\t\\tProceso finalizado\")"
   ]
  },
  {
   "cell_type": "markdown",
   "id": "a582bb53",
   "metadata": {},
   "source": [
    "### **7.3. Cargar Varibales de Entorno**"
   ]
  },
  {
   "cell_type": "code",
   "execution_count": null,
   "id": "e045e1fa",
   "metadata": {},
   "outputs": [],
   "source": [
    "print(\"\\n\\t7.3. Cargar Varibales de Entorno\")\n",
    "print(\"\\n\\t\\tProceso iniciado\")"
   ]
  },
  {
   "cell_type": "code",
   "execution_count": null,
   "id": "e5b93b65",
   "metadata": {},
   "outputs": [],
   "source": [
    "def cargar_variables_entorno():\n",
    "    # Obtener directorio actual y construir ruta absoluta\n",
    "    current_dir = os.path.dirname(os.path.abspath(\"agente IA/.env\"))\n",
    "    dotenv_path = os.path.join(current_dir, '.env')\n",
    "    \n",
    "    # Verificar existencia del archivo .env\n",
    "    if not os.path.exists(dotenv_path):\n",
    "        logger.error(f\"Archivo .env no encontrado en {dotenv_path}\")\n",
    "        return False\n",
    "    \n",
    "    # Cargar con ruta explícita\n",
    "    load_dotenv(dotenv_path=dotenv_path)\n",
    "    \n",
    "    # Verificar variables críticas\n",
    "    OLLAMA_MODEL = os.getenv(\"OLLAMA_MODEL\")\n",
    "    OLLAMA_BASE_URL = os.getenv(\"OLLAMA_BASE_URL\")\n",
    "    \n",
    "    if not OLLAMA_MODEL:\n",
    "        logger.error(\"Variable OLLAMA_MODEL no definida en .env\")\n",
    "        return False\n",
    "    \n",
    "    if not OLLAMA_BASE_URL:\n",
    "        logger.error(\"Variable OLLAMA_BASE_URL no definida en .env\")\n",
    "        return False\n",
    "    \n",
    "    logger.info(f\"Variables de entorno cargadas. Modelo: {OLLAMA_MODEL}\")\n",
    "    return True\n",
    "\n",
    "if not cargar_variables_entorno():\n",
    "    logger.error(\"Error al cargar variables de entorno. Utilizando valores predeterminados.\")\n",
    "    os.environ[\"OLLAMA_MODEL\"] = \"llama2\"\n",
    "    os.environ[\"OLLAMA_BASE_URL\"] = \"http://localhost:11434\"\n",
    "\n",
    "OLLAMA_MODEL = os.getenv(\"OLLAMA_MODEL\")\n",
    "OLLAMA_BASE_URL = os.getenv(\"OLLAMA_BASE_URL\")"
   ]
  },
  {
   "cell_type": "code",
   "execution_count": null,
   "id": "0981076e",
   "metadata": {},
   "outputs": [],
   "source": [
    "print(\"\\n\\t\\tProceso finalizado\")"
   ]
  },
  {
   "cell_type": "markdown",
   "id": "e60b28cf",
   "metadata": {},
   "source": [
    "### **7.4. Lectura de Imágenes y Procesamiento de Imágenes y Datos**"
   ]
  },
  {
   "cell_type": "code",
   "execution_count": null,
   "id": "10595b1a",
   "metadata": {},
   "outputs": [],
   "source": [
    "print(\"\\n\\t7.4. Lectura de Imágenes\")\n",
    "print(\"\\n\\t\\tProceso iniciado\")"
   ]
  },
  {
   "cell_type": "code",
   "execution_count": null,
   "id": "ffb31996",
   "metadata": {},
   "outputs": [],
   "source": [
    "def verificar_directorios(dirs):\n",
    "    for dir in dirs:\n",
    "        if not os.path.exists(dir):\n",
    "            logger.warning(f\"Directorio no encontrado: {dir}\")\n",
    "            os.makedirs(dir, exist_ok=True)\n",
    "            logger.info(f\"Directorio creado: {dir}\")\n",
    "        \n",
    "        # Verificar si hay archivos en el directorio\n",
    "        if len(os.listdir(dir)) == 0:\n",
    "            logger.warning(f\"Directorio vacío: {dir}\")\n",
    "\n",
    "directorio_images = \"agente IA/input/images/\"\n",
    "directorio_data = \"agente IA/input/data/\"\n",
    "\n",
    "verificar_directorios([directorio_images, directorio_data])\n",
    "\n",
    "try:\n",
    "    images = SimpleDirectoryReader(directorio_images).load_data()\n",
    "    logger.info(f\"Imágenes cargadas: {len(images)} archivos\")\n",
    "except Exception as e:\n",
    "    logger.error(f\"Error al cargar imágenes: {e}\")\n",
    "    images = []\n",
    "\n",
    "try:\n",
    "    data = SimpleDirectoryReader(directorio_data).load_data()\n",
    "    logger.info(f\"Datos cargados: {len(data)} archivos\")\n",
    "except Exception as e:\n",
    "    logger.error(f\"Error al cargar datos: {e}\")\n",
    "    data = []\n"
   ]
  },
  {
   "cell_type": "code",
   "execution_count": null,
   "id": "597803e4",
   "metadata": {},
   "outputs": [],
   "source": [
    "directorio_images = \"agente IA/input/images/\"\n",
    "directorio_data = \"agente IA/input/data/\"\n",
    "\n",
    "images = SimpleDirectoryReader(directorio_images).load_data()\n",
    "data = SimpleDirectoryReader(directorio_data).load_data()"
   ]
  },
  {
   "cell_type": "code",
   "execution_count": null,
   "id": "03e06c40",
   "metadata": {},
   "outputs": [],
   "source": [
    "print(\"\\n\\t\\tProceso finalizado\")"
   ]
  },
  {
   "cell_type": "markdown",
   "id": "766754e9",
   "metadata": {},
   "source": [
    "### **7.5. Inicialización del Almacenamiento en Chroma**"
   ]
  },
  {
   "cell_type": "code",
   "execution_count": null,
   "id": "b850b403",
   "metadata": {},
   "outputs": [],
   "source": [
    "print(\"\\n\\t7.5. Inicialización del Almacenamiento en Chroma\")\n",
    "print(\"\\n\\t\\tProceso iniciado\")"
   ]
  },
  {
   "cell_type": "code",
   "execution_count": null,
   "id": "6922a67b",
   "metadata": {},
   "outputs": [],
   "source": [
    "def inicializar_chroma():\n",
    "    try:\n",
    "        chroma_path = \"./agente IA/chroma_store\"\n",
    "        os.makedirs(chroma_path, exist_ok=True)\n",
    "        \n",
    "        chroma_client = chromadb.PersistentClient(path=chroma_path)\n",
    "        collection = chroma_client.get_or_create_collection(\"rag_collection\")\n",
    "        vector_store = ChromaVectorStore(chroma_collection=collection)\n",
    "        storage_context = StorageContext.from_defaults(vector_store=vector_store)\n",
    "        return storage_context\n",
    "    except Exception as e:\n",
    "        logger.error(f\"Error al inicializar Chroma: {e}\")\n",
    "        logger.info(\"Fallback a SimpleVectorStore\")\n",
    "        return StorageContext.from_defaults(vector_store=SimpleVectorStore())\n",
    "\n",
    "storage_context = inicializar_chroma()"
   ]
  },
  {
   "cell_type": "code",
   "execution_count": null,
   "id": "7c125c6a",
   "metadata": {},
   "outputs": [],
   "source": [
    "print(\"\\n\\t\\tProceso finalizado\")"
   ]
  },
  {
   "cell_type": "markdown",
   "id": "cfa1207b",
   "metadata": {},
   "source": [
    "### **7.6. Configuración de LLM y Embedings**"
   ]
  },
  {
   "cell_type": "code",
   "execution_count": null,
   "id": "f1e55ecd",
   "metadata": {},
   "outputs": [],
   "source": [
    "print(\"\\n\\t7.6. Configuración de LLM y Embedings\")\n",
    "print(\"\\n\\t\\tProceso iniciado\")"
   ]
  },
  {
   "cell_type": "code",
   "execution_count": null,
   "id": "3ea00a7f",
   "metadata": {},
   "outputs": [],
   "source": [
    "def configurar_llm():\n",
    "    try:\n",
    "        # Configurar LLM con Ollama y timeout aumentado\n",
    "        llm = Ollama(\n",
    "            model=OLLAMA_MODEL,\n",
    "            base_url=OLLAMA_BASE_URL,\n",
    "            request_timeout=360.0,  # Timeout aumentado\n",
    "            temperature=0.1  # Temperatura baja para respuestas más deterministas\n",
    "        )\n",
    "        \n",
    "        # Configurar embedding con timeout adecuado\n",
    "        embed_model = OllamaEmbedding(\n",
    "            model_name=OLLAMA_MODEL,\n",
    "            base_url=OLLAMA_BASE_URL,\n",
    "            request_timeout=120.0\n",
    "        )\n",
    "        \n",
    "        # Verificar conexión con el servidor de Ollama\n",
    "        try:\n",
    "            # Intenta una operación simple para verificar conexión\n",
    "            llm.complete(\"test\")\n",
    "        except Exception as e:\n",
    "            logger.error(f\"Error al conectar con el servidor de Ollama: {e}\")\n",
    "            logger.error(\"Verifica que el servidor de Ollama esté en ejecución y accesible\")\n",
    "            raise\n",
    "        \n",
    "        # Configurar Settings\n",
    "        Settings.llm = llm\n",
    "        Settings.embed_model = embed_model\n",
    "        \n",
    "        return True\n",
    "    except Exception as e:\n",
    "        logger.error(f\"Error al configurar LLM y embeddings: {e}\")\n",
    "        return False\n",
    "\n",
    "if not configurar_llm():\n",
    "    logger.error(\"No se pudo configurar el LLM. Verifique la conexión con Ollama.\")"
   ]
  },
  {
   "cell_type": "code",
   "execution_count": null,
   "id": "166b4888",
   "metadata": {},
   "outputs": [],
   "source": [
    "print(\"\\n\\t\\tProceso finalizado\")"
   ]
  },
  {
   "cell_type": "markdown",
   "id": "eb680623",
   "metadata": {},
   "source": [
    "### **7.7. Creación de un Índice Vectorial**"
   ]
  },
  {
   "cell_type": "code",
   "execution_count": null,
   "id": "5fdd1ba9",
   "metadata": {},
   "outputs": [],
   "source": [
    "print(\"\\n\\t7.7. Creación de un Índice Vectorial\")\n",
    "print(\"\\n\\t\\tProceso iniciado\")"
   ]
  },
  {
   "cell_type": "code",
   "execution_count": null,
   "id": "f12c1f17",
   "metadata": {},
   "outputs": [],
   "source": [
    "def crear_indice_vectorial(documents):\n",
    "    if not documents:\n",
    "        logger.error(\"No hay documentos para indexar\")\n",
    "        return None\n",
    "    \n",
    "    try:\n",
    "        # Configurar el índice con parámetros optimizados\n",
    "        storage_context = StorageContext.from_defaults(vector_store=SimpleVectorStore())\n",
    "        \n",
    "        index = VectorStoreIndex.from_documents(\n",
    "            documents=documents,\n",
    "            storage_context=storage_context\n",
    "        )\n",
    "        \n",
    "        logger.info(\"Índice vectorial creado exitosamente\")\n",
    "        return index\n",
    "    except Exception as e:\n",
    "        logger.error(f\"Error al crear índice vectorial: {e}\")\n",
    "        return None\n",
    "\n",
    "documents = images + data\n",
    "if not documents:\n",
    "    logger.warning(\"No se han cargado documentos (imágenes o datos). El índice estará vacío.\")\n",
    "\n",
    "index = crear_indice_vectorial(documents)\n",
    "if not index:\n",
    "    logger.error(\"No se pudo crear el índice vectorial. No se puede continuar.\")\n",
    "    # Puedes decidir si detener la ejecución o crear un índice vacío como fallback\n",
    "    index = VectorStoreIndex.from_documents([], StorageContext.from_defaults(vector_store=SimpleVectorStore()))"
   ]
  },
  {
   "cell_type": "code",
   "execution_count": null,
   "id": "68389546",
   "metadata": {},
   "outputs": [],
   "source": [
    "print(\"\\n\\t\\tProceso finalizado\")"
   ]
  },
  {
   "cell_type": "markdown",
   "id": "42b9b683",
   "metadata": {},
   "source": [
    "### **7.8. Creación de una Respuesta**"
   ]
  },
  {
   "cell_type": "code",
   "execution_count": null,
   "id": "ee8bdeda",
   "metadata": {},
   "outputs": [],
   "source": [
    "print(\"\\n\\t7.8. Creación de una Respuesta\")\n",
    "print(\"\\n\\t\\tProceso iniciado\")"
   ]
  },
  {
   "cell_type": "code",
   "execution_count": null,
   "id": "692a0304",
   "metadata": {},
   "outputs": [],
   "source": [
    "def configurar_parametros_respuesta(complejidad='media'):\n",
    "    if complejidad == 'baja':\n",
    "        Settings.context_window = 8192\n",
    "        Settings.num_output = 2048\n",
    "        Settings.chunk_size_limit = 4096\n",
    "    elif complejidad == 'alta':\n",
    "        Settings.context_window = 32768\n",
    "        Settings.num_output = 8192\n",
    "        Settings.chunk_size_limit = 16384\n",
    "    else:  # media\n",
    "        Settings.context_window = 20480\n",
    "        Settings.num_output = 4086\n",
    "        Settings.chunk_size_limit = 8192\n",
    "    \n",
    "    Settings.chunk_overlap_ratio = 0.15  # Aumentado ligeramente para mejor coherencia\n",
    "\n",
    "def generar_respuesta(index, prompt, max_intentos=3):\n",
    "    configurar_parametros_respuesta(complejidad='media')\n",
    "    \n",
    "    # Mejorar el prompt con instrucciones explícitas\n",
    "    prompt_mejorado = f\"\"\"\n",
    "    {prompt}\n",
    "    \n",
    "    INSTRUCCIONES ADICIONALES:\n",
    "    - Analiza a fondo las imágenes y datos proporcionados.\n",
    "    - Identifica patrones, tendencias y anomalías en los datos.\n",
    "    - Proporciona análisis cuantitativos específicos con cifras y porcentajes.\n",
    "    - Estructura tu respuesta claramente según el formato solicitado.\n",
    "    - Incluye recomendaciones justificadas basadas en los datos.\n",
    "    \"\"\"\n",
    "    \n",
    "    for intento in range(1, max_intentos + 1):\n",
    "        try:\n",
    "            logger.info(f\"Intento {intento} de generación de respuesta\")\n",
    "            query_engine = index.as_query_engine(\n",
    "                response_mode=\"compact\",\n",
    "                similarity_top_k=5  # Usar más documentos para mayor contexto\n",
    "            )\n",
    "            response = query_engine.query(prompt_mejorado)\n",
    "            \n",
    "            # Validar la respuesta\n",
    "            if len(str(response)) < 200:\n",
    "                logger.warning(f\"La respuesta es demasiado corta ({len(str(response))} caracteres). Reintentando...\")\n",
    "                continue\n",
    "                \n",
    "            logger.info(f\"Respuesta generada exitosamente ({len(str(response))} caracteres)\")\n",
    "            return response\n",
    "        except Exception as e:\n",
    "            logger.error(f\"Error en intento {intento}: {e}\")\n",
    "            if intento == max_intentos:\n",
    "                logger.error(\"Se alcanzó el número máximo de intentos sin éxito\")\n",
    "                return \"No se pudo generar una respuesta. Error: \" + str(e)\n",
    "            # Esperar un poco antes de reintentar\n",
    "            import time\n",
    "            time.sleep(2)\n",
    "\n",
    "response = generar_respuesta(index, prompt)"
   ]
  },
  {
   "cell_type": "code",
   "execution_count": null,
   "id": "4d24f2e4",
   "metadata": {},
   "outputs": [],
   "source": [
    "print(\"\\n\\t\\tProceso finalizado\")"
   ]
  },
  {
   "cell_type": "markdown",
   "id": "3a9e4273",
   "metadata": {},
   "source": [
    "### **7.9. Guardar Respuesta**"
   ]
  },
  {
   "cell_type": "code",
   "execution_count": null,
   "id": "776659ff",
   "metadata": {},
   "outputs": [],
   "source": [
    "print(\"\\n\\t7.9. Guardar Respuesta\")\n",
    "print(\"\\n\\t\\tProceso iniciado\")"
   ]
  },
  {
   "cell_type": "code",
   "execution_count": null,
   "id": "488c4489",
   "metadata": {},
   "outputs": [],
   "source": [
    "def save_output(text, path=\"output.txt\"):\n",
    "    # Crear el directorio si no existe\n",
    "    directory = os.path.dirname(path)\n",
    "    if directory:  # Verifica que el directorio no sea una cadena vacía\n",
    "        os.makedirs(directory, exist_ok=True)\n",
    "    \n",
    "    try:\n",
    "        # Guardar el archivo\n",
    "        with open(path, \"w\", encoding=\"utf-8\") as f:\n",
    "            f.write(str(text))\n",
    "        logger.info(f\"Respuesta guardada exitosamente en: {path}\")\n",
    "        return True\n",
    "    except Exception as e:\n",
    "        logger.error(f\"Error al guardar la respuesta: {e}\")\n",
    "        return False\n",
    "\n",
    "output_path = f\"output/Análisis IA/Respuesta IA - {ciudad}.txt\"\n",
    "if save_output(response, output_path):\n",
    "    pass\n",
    "else:\n",
    "    logger.error(f\"Error al guardar la respuesta: {e}\")"
   ]
  },
  {
   "cell_type": "code",
   "execution_count": null,
   "id": "3be0817a",
   "metadata": {},
   "outputs": [],
   "source": [
    "print(\"\\n\\t\\tProceso finalizado\")"
   ]
  }
 ],
 "metadata": {
  "language_info": {
   "name": "python"
  }
 },
 "nbformat": 4,
 "nbformat_minor": 5
}
